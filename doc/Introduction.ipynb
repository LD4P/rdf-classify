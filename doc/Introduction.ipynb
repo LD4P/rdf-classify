{
 "cells": [
  {
   "cell_type": "code",
   "execution_count": 3,
   "metadata": {},
   "outputs": [],
   "source": [
    "%reload_ext autoreload\n",
    "%autoreload 2\n",
    "%matplotlib inline"
   ]
  },
  {
   "cell_type": "code",
   "execution_count": 5,
   "metadata": {},
   "outputs": [],
   "source": [
    "from fastai.tabular import *\n",
    "import sys\n",
    "sys.path.append(\"../src\")\n",
    "import data_loader\n",
    "import data_block"
   ]
  },
  {
   "cell_type": "code",
   "execution_count": 6,
   "metadata": {},
   "outputs": [
    {
     "name": "stdout",
     "output_type": "stream",
     "text": [
      "Failed to parse sinopia_export_all_2020-05-04T22:03:43.280Z/ucdavis_2020-05-04T22:03:44.322Z/complete.log\n",
      "Failed to parse sinopia_export_all_2020-05-04T22:03:43.280Z/northwestern_2020-05-04T22:03:55.130Z/complete.log\n",
      "Failed to parse sinopia_export_all_2020-05-04T22:03:43.280Z/cornell_2020-05-04T22:03:43.320Z/complete.log\n",
      "Failed to parse sinopia_export_all_2020-05-04T22:03:43.280Z/minnesota_2020-05-04T22:03:55.371Z/complete.log\n",
      "Failed to parse sinopia_export_all_2020-05-04T22:03:43.280Z/boulder_2020-05-04T22:03:57.903Z/complete.log\n",
      "Failed to parse sinopia_export_all_2020-05-04T22:03:43.280Z/chicago_2020-05-04T22:03:44.206Z/complete.log\n",
      "Failed to parse sinopia_export_all_2020-05-04T22:03:43.280Z/yale_2020-05-04T22:03:58.344Z/complete.log\n",
      "Failed to parse sinopia_export_all_2020-05-04T22:03:43.280Z/nlm_2020-05-04T22:03:53.737Z/complete.log\n",
      "Failed to parse sinopia_export_all_2020-05-04T22:03:43.280Z/princeton_2020-05-04T22:03:43.517Z/complete.log\n",
      "Failed to parse sinopia_export_all_2020-05-04T22:03:43.280Z/alberta_2020-05-04T22:03:44.590Z/complete.log\n",
      "Failed to parse sinopia_export_all_2020-05-04T22:03:43.280Z/stanford_2020-05-04T22:03:49.896Z/complete.log\n",
      "Failed to parse sinopia_export_all_2020-05-04T22:03:43.280Z/ld4p_2020-05-04T22:03:50.909Z/complete.log\n",
      "Failed to parse sinopia_export_all_2020-05-04T22:03:43.280Z/complete.log\n",
      "Failed to parse sinopia_export_all_2020-05-04T22:03:43.280Z/washington_2020-05-04T22:03:45.422Z/complete.log\n",
      "Failed to parse sinopia_export_all_2020-05-04T22:03:43.280Z/duke_2020-05-04T22:03:55.062Z/complete.log\n",
      "Failed to parse sinopia_export_all_2020-05-04T22:03:43.280Z/penn_2020-05-04T22:03:58.267Z/complete.log\n",
      "Failed to parse sinopia_export_all_2020-05-04T22:03:43.280Z/dlc_2020-05-04T22:03:43.317Z/complete.log\n",
      "Failed to parse sinopia_export_all_2020-05-04T22:03:43.280Z/harvard_2020-05-04T22:03:54.941Z/complete.log\n",
      "Failed to parse sinopia_export_all_2020-05-04T22:03:43.280Z/ucsd_2020-05-04T22:03:43.406Z/complete.log\n",
      "Failed to parse sinopia_export_all_2020-05-04T22:03:43.280Z/pcc_2020-05-04T22:03:58.096Z/complete.log\n"
     ]
    }
   ],
   "source": [
    "production = data_loader.from_zipfile(\"/Users/jpnelson/Downloads/sinopia_export_all_2020-05-04T22_03_43.280Z.zip\")"
   ]
  },
  {
   "cell_type": "code",
   "execution_count": 7,
   "metadata": {},
   "outputs": [
    {
     "name": "stdout",
     "output_type": "stream",
     "text": [
      "Failed to parse sinopia_export_all_2020-05-03T00:01:59.630Z/ucsd_2020-05-03T00:01:59.670Z/complete.log\n",
      "Failed to parse sinopia_export_all_2020-05-03T00:01:59.630Z/boulder_2020-05-03T00:02:03.866Z/complete.log\n",
      "Failed to parse sinopia_export_all_2020-05-03T00:01:59.630Z/northwestern_2020-05-03T00:02:08.723Z/complete.log\n",
      "Failed to parse sinopia_export_all_2020-05-03T00:01:59.630Z/minnesota_2020-05-03T00:02:00.468Z/complete.log\n",
      "Failed to parse sinopia_export_all_2020-05-03T00:01:59.630Z/alberta_2020-05-03T00:02:07.369Z/complete.log\n",
      "Failed to parse sinopia_export_all_2020-05-03T00:01:59.630Z/ld4p_2020-05-03T00:02:22.272Z/complete.log\n",
      "Failed to parse sinopia_export_all_2020-05-03T00:01:59.630Z/princeton_2020-05-03T00:02:10.263Z/complete.log\n",
      "Failed to parse sinopia_export_all_2020-05-03T00:01:59.630Z/duke_2020-05-03T00:02:22.660Z/complete.log\n",
      "Failed to parse sinopia_export_all_2020-05-03T00:01:59.630Z/frick_2020-05-03T00:02:12.193Z/complete.log\n",
      "Failed to parse sinopia_export_all_2020-05-03T00:01:59.630Z/hrc_2020-05-03T00:02:22.828Z/complete.log\n",
      "Failed to parse sinopia_export_all_2020-05-03T00:01:59.630Z/pcc_2020-05-03T00:02:02.609Z/complete.log\n",
      "Failed to parse sinopia_export_all_2020-05-03T00:01:59.630Z/yale_2020-05-03T00:02:12.140Z/complete.log\n",
      "Failed to parse sinopia_export_all_2020-05-03T00:01:59.630Z/nlm_2020-05-03T00:02:04.202Z/complete.log\n",
      "Failed to parse sinopia_export_all_2020-05-03T00:01:59.630Z/complete.log\n",
      "Failed to parse sinopia_export_all_2020-05-03T00:01:59.630Z/michigan_2020-05-03T00:02:07.280Z/complete.log\n",
      "Failed to parse sinopia_export_all_2020-05-03T00:01:59.630Z/cornell_2020-05-03T00:01:59.664Z/complete.log\n",
      "Failed to parse sinopia_export_all_2020-05-03T00:01:59.630Z/stanford_2020-05-03T00:02:06.017Z/complete.log\n",
      "Failed to parse sinopia_export_all_2020-05-03T00:01:59.630Z/harvard_2020-05-03T00:02:02.602Z/complete.log\n",
      "Failed to parse sinopia_export_all_2020-05-03T00:01:59.630Z/penn_2020-05-03T00:02:08.861Z/complete.log\n",
      "Failed to parse sinopia_export_all_2020-05-03T00:01:59.630Z/dlc_2020-05-03T00:02:10.643Z/complete.log\n",
      "Failed to parse sinopia_export_all_2020-05-03T00:01:59.630Z/washington_2020-05-03T00:02:04.057Z/complete.log\n",
      "Failed to parse sinopia_export_all_2020-05-03T00:01:59.630Z/tamu_2020-05-03T00:02:10.741Z/complete.log\n",
      "Failed to parse sinopia_export_all_2020-05-03T00:01:59.630Z/ucdavis_2020-05-03T00:02:02.950Z/complete.log\n",
      "Failed to parse sinopia_export_all_2020-05-03T00:01:59.630Z/chicago_2020-05-03T00:02:04.431Z/complete.log\n"
     ]
    }
   ],
   "source": [
    "stage = data_loader.from_zipfile(\"/Users/jpnelson/Downloads/sinopia_export_all_2020-05-03T00_01_59.630Z.zip\")"
   ]
  },
  {
   "cell_type": "code",
   "execution_count": 8,
   "metadata": {},
   "outputs": [
    {
     "name": "stdout",
     "output_type": "stream",
     "text": [
      "2807 3742\n"
     ]
    }
   ],
   "source": [
    "print(f\"{len(production)} {len(stage)}\")"
   ]
  },
  {
   "cell_type": "code",
   "execution_count": 10,
   "metadata": {},
   "outputs": [
    {
     "name": "stdout",
     "output_type": "stream",
     "text": [
      ".0..........100..........200..........300..........400..........500..........600..........700..........800..........900..........1000..........1100..........1200..........1300..........1400..........1500..........1600..........1700..........1800..........1900..........2000..........2100..........2200..........2300..........2400..........2500..........2600........"
     ]
    },
    {
     "ename": "IndexError",
     "evalue": "list index out of range",
     "output_type": "error",
     "traceback": [
      "\u001b[0;31m---------------------------------------------------------------------------\u001b[0m",
      "\u001b[0;31mIndexError\u001b[0m                                Traceback (most recent call last)",
      "\u001b[0;32m<ipython-input-10-8349acfc2b9b>\u001b[0m in \u001b[0;36m<module>\u001b[0;34m\u001b[0m\n\u001b[0;32m----> 1\u001b[0;31m \u001b[0mprod_df\u001b[0m \u001b[0;34m=\u001b[0m \u001b[0mdata_loader\u001b[0m\u001b[0;34m.\u001b[0m\u001b[0mto_dataframe\u001b[0m\u001b[0;34m(\u001b[0m\u001b[0mproduction\u001b[0m\u001b[0;34m)\u001b[0m\u001b[0;34m\u001b[0m\u001b[0;34m\u001b[0m\u001b[0m\n\u001b[0m",
      "\u001b[0;32m~/2020/rdf-classify/src/data_loader.py\u001b[0m in \u001b[0;36mto_dataframe\u001b[0;34m(graphs)\u001b[0m\n\u001b[1;32m     39\u001b[0m         \u001b[0;32mif\u001b[0m \u001b[0;32mnot\u001b[0m \u001b[0mi\u001b[0m\u001b[0;34m%\u001b[0m\u001b[0;36m100\u001b[0m\u001b[0;34m:\u001b[0m\u001b[0;34m\u001b[0m\u001b[0;34m\u001b[0m\u001b[0m\n\u001b[1;32m     40\u001b[0m             \u001b[0mprint\u001b[0m\u001b[0;34m(\u001b[0m\u001b[0;34mf\"{i}\"\u001b[0m\u001b[0;34m,\u001b[0m \u001b[0mend\u001b[0m\u001b[0;34m=\u001b[0m\u001b[0;34m\"\"\u001b[0m\u001b[0;34m)\u001b[0m\u001b[0;34m\u001b[0m\u001b[0;34m\u001b[0m\u001b[0m\n\u001b[0;32m---> 41\u001b[0;31m         \u001b[0msubjects\u001b[0m \u001b[0;34m=\u001b[0m \u001b[0mcreate_tensor\u001b[0m\u001b[0;34m(\u001b[0m\u001b[0mgraph\u001b[0m\u001b[0;34m)\u001b[0m\u001b[0;34m\u001b[0m\u001b[0;34m\u001b[0m\u001b[0m\n\u001b[0m\u001b[1;32m     42\u001b[0m         \u001b[0mraw_data\u001b[0m\u001b[0;34m.\u001b[0m\u001b[0mextend\u001b[0m\u001b[0;34m(\u001b[0m\u001b[0msubjects\u001b[0m\u001b[0;34m)\u001b[0m\u001b[0;34m\u001b[0m\u001b[0;34m\u001b[0m\u001b[0m\n\u001b[1;32m     43\u001b[0m     \u001b[0;32mreturn\u001b[0m \u001b[0mpd\u001b[0m\u001b[0;34m.\u001b[0m\u001b[0mDataFrame\u001b[0m\u001b[0;34m(\u001b[0m\u001b[0mdata\u001b[0m\u001b[0;34m=\u001b[0m\u001b[0mraw_data\u001b[0m\u001b[0;34m)\u001b[0m\u001b[0;34m.\u001b[0m\u001b[0mfillna\u001b[0m\u001b[0;34m(\u001b[0m\u001b[0;36m0\u001b[0m\u001b[0;34m)\u001b[0m\u001b[0;34m\u001b[0m\u001b[0;34m\u001b[0m\u001b[0m\n",
      "\u001b[0;32m~/2020/rdf-classify/src/data_loader.py\u001b[0m in \u001b[0;36mcreate_tensor\u001b[0;34m(graph)\u001b[0m\n\u001b[1;32m     13\u001b[0m     \u001b[0;32mfor\u001b[0m \u001b[0msubject\u001b[0m\u001b[0;34m,\u001b[0m \u001b[0mrt\u001b[0m \u001b[0;32min\u001b[0m \u001b[0mrt_query\u001b[0m\u001b[0;34m:\u001b[0m\u001b[0;34m\u001b[0m\u001b[0;34m\u001b[0m\u001b[0m\n\u001b[1;32m     14\u001b[0m         \u001b[0mpredicates\u001b[0m \u001b[0;34m=\u001b[0m \u001b[0mgraph\u001b[0m\u001b[0;34m.\u001b[0m\u001b[0mpredicates\u001b[0m\u001b[0;34m(\u001b[0m\u001b[0msubject\u001b[0m\u001b[0;34m=\u001b[0m\u001b[0msubject\u001b[0m\u001b[0;34m)\u001b[0m\u001b[0;34m\u001b[0m\u001b[0;34m\u001b[0m\u001b[0m\n\u001b[0;32m---> 15\u001b[0;31m         \u001b[0mdata\u001b[0m \u001b[0;34m=\u001b[0m \u001b[0mprocess_predicates\u001b[0m\u001b[0;34m(\u001b[0m\u001b[0mstr\u001b[0m\u001b[0;34m(\u001b[0m\u001b[0msubject\u001b[0m\u001b[0;34m)\u001b[0m\u001b[0;34m,\u001b[0m \u001b[0mpredicates\u001b[0m\u001b[0;34m,\u001b[0m \u001b[0mstr\u001b[0m\u001b[0;34m(\u001b[0m\u001b[0mrt\u001b[0m\u001b[0;34m)\u001b[0m\u001b[0;34m)\u001b[0m\u001b[0;34m\u001b[0m\u001b[0;34m\u001b[0m\u001b[0m\n\u001b[0m\u001b[1;32m     16\u001b[0m         \u001b[0mlisting\u001b[0m \u001b[0;34m.\u001b[0m\u001b[0mappend\u001b[0m\u001b[0;34m(\u001b[0m\u001b[0mdata\u001b[0m\u001b[0;34m)\u001b[0m\u001b[0;34m\u001b[0m\u001b[0;34m\u001b[0m\u001b[0m\n\u001b[1;32m     17\u001b[0m     \u001b[0;32mreturn\u001b[0m \u001b[0mlisting\u001b[0m\u001b[0;34m\u001b[0m\u001b[0;34m\u001b[0m\u001b[0m\n",
      "\u001b[0;32m~/2020/rdf-classify/src/data_loader.py\u001b[0m in \u001b[0;36mprocess_predicates\u001b[0;34m(subject_key, predicates, resource_template)\u001b[0m\n\u001b[1;32m     21\u001b[0m                        resource_template: rdflib.URIRef) -> dict:\n\u001b[1;32m     22\u001b[0m     data = { 'subject': subject_key,\n\u001b[0;32m---> 23\u001b[0;31m              \u001b[0;34m'group'\u001b[0m\u001b[0;34m:\u001b[0m \u001b[0murlparse\u001b[0m\u001b[0;34m(\u001b[0m\u001b[0msubject_key\u001b[0m\u001b[0;34m)\u001b[0m\u001b[0;34m.\u001b[0m\u001b[0mpath\u001b[0m\u001b[0;34m.\u001b[0m\u001b[0msplit\u001b[0m\u001b[0;34m(\u001b[0m\u001b[0;34m\"/\"\u001b[0m\u001b[0;34m)\u001b[0m\u001b[0;34m[\u001b[0m\u001b[0;36m2\u001b[0m\u001b[0;34m]\u001b[0m\u001b[0;34m,\u001b[0m\u001b[0;34m\u001b[0m\u001b[0;34m\u001b[0m\u001b[0m\n\u001b[0m\u001b[1;32m     24\u001b[0m              'resource_template': str(resource_template) }\n\u001b[1;32m     25\u001b[0m     \u001b[0;32mfor\u001b[0m \u001b[0mpredicate\u001b[0m \u001b[0;32min\u001b[0m \u001b[0mpredicates\u001b[0m\u001b[0;34m:\u001b[0m\u001b[0;34m\u001b[0m\u001b[0;34m\u001b[0m\u001b[0m\n",
      "\u001b[0;31mIndexError\u001b[0m: list index out of range"
     ]
    }
   ],
   "source": [
    "prod_df = data_loader.to_dataframe(production)"
   ]
  },
  {
   "cell_type": "code",
   "execution_count": null,
   "metadata": {},
   "outputs": [
    {
     "name": "stdout",
     "output_type": "stream",
     "text": [
      "> \u001b[0;32m/Users/jpnelson/2020/rdf-classify/src/data_loader.py\u001b[0m(23)\u001b[0;36mprocess_predicates\u001b[0;34m()\u001b[0m\n",
      "\u001b[0;32m     21 \u001b[0;31m                       resource_template: rdflib.URIRef) -> dict:\n",
      "\u001b[0m\u001b[0;32m     22 \u001b[0;31m    data = { 'subject': subject_key,\n",
      "\u001b[0m\u001b[0;32m---> 23 \u001b[0;31m             \u001b[0;34m'group'\u001b[0m\u001b[0;34m:\u001b[0m \u001b[0murlparse\u001b[0m\u001b[0;34m(\u001b[0m\u001b[0msubject_key\u001b[0m\u001b[0;34m)\u001b[0m\u001b[0;34m.\u001b[0m\u001b[0mpath\u001b[0m\u001b[0;34m.\u001b[0m\u001b[0msplit\u001b[0m\u001b[0;34m(\u001b[0m\u001b[0;34m\"/\"\u001b[0m\u001b[0;34m)\u001b[0m\u001b[0;34m[\u001b[0m\u001b[0;36m2\u001b[0m\u001b[0;34m]\u001b[0m\u001b[0;34m,\u001b[0m\u001b[0;34m\u001b[0m\u001b[0;34m\u001b[0m\u001b[0m\n",
      "\u001b[0m\u001b[0;32m     24 \u001b[0;31m             'resource_template': str(resource_template) }\n",
      "\u001b[0m\u001b[0;32m     25 \u001b[0;31m    \u001b[0;32mfor\u001b[0m \u001b[0mpredicate\u001b[0m \u001b[0;32min\u001b[0m \u001b[0mpredicates\u001b[0m\u001b[0;34m:\u001b[0m\u001b[0;34m\u001b[0m\u001b[0;34m\u001b[0m\u001b[0m\n",
      "\u001b[0m\n"
     ]
    },
    {
     "name": "stdin",
     "output_type": "stream",
     "text": [
      "ipdb>  subject_key\n"
     ]
    },
    {
     "name": "stdout",
     "output_type": "stream",
     "text": [
      "'b0'\n"
     ]
    },
    {
     "name": "stdin",
     "output_type": "stream",
     "text": [
      "ipdb>  u\n"
     ]
    },
    {
     "name": "stdout",
     "output_type": "stream",
     "text": [
      "> \u001b[0;32m/Users/jpnelson/2020/rdf-classify/src/data_loader.py\u001b[0m(15)\u001b[0;36mcreate_tensor\u001b[0;34m()\u001b[0m\n",
      "\u001b[0;32m     13 \u001b[0;31m    \u001b[0;32mfor\u001b[0m \u001b[0msubject\u001b[0m\u001b[0;34m,\u001b[0m \u001b[0mrt\u001b[0m \u001b[0;32min\u001b[0m \u001b[0mrt_query\u001b[0m\u001b[0;34m:\u001b[0m\u001b[0;34m\u001b[0m\u001b[0;34m\u001b[0m\u001b[0m\n",
      "\u001b[0m\u001b[0;32m     14 \u001b[0;31m        \u001b[0mpredicates\u001b[0m \u001b[0;34m=\u001b[0m \u001b[0mgraph\u001b[0m\u001b[0;34m.\u001b[0m\u001b[0mpredicates\u001b[0m\u001b[0;34m(\u001b[0m\u001b[0msubject\u001b[0m\u001b[0;34m=\u001b[0m\u001b[0msubject\u001b[0m\u001b[0;34m)\u001b[0m\u001b[0;34m\u001b[0m\u001b[0;34m\u001b[0m\u001b[0m\n",
      "\u001b[0m\u001b[0;32m---> 15 \u001b[0;31m        \u001b[0mdata\u001b[0m \u001b[0;34m=\u001b[0m \u001b[0mprocess_predicates\u001b[0m\u001b[0;34m(\u001b[0m\u001b[0mstr\u001b[0m\u001b[0;34m(\u001b[0m\u001b[0msubject\u001b[0m\u001b[0;34m)\u001b[0m\u001b[0;34m,\u001b[0m \u001b[0mpredicates\u001b[0m\u001b[0;34m,\u001b[0m \u001b[0mstr\u001b[0m\u001b[0;34m(\u001b[0m\u001b[0mrt\u001b[0m\u001b[0;34m)\u001b[0m\u001b[0;34m)\u001b[0m\u001b[0;34m\u001b[0m\u001b[0;34m\u001b[0m\u001b[0m\n",
      "\u001b[0m\u001b[0;32m     16 \u001b[0;31m        \u001b[0mlisting\u001b[0m \u001b[0;34m.\u001b[0m\u001b[0mappend\u001b[0m\u001b[0;34m(\u001b[0m\u001b[0mdata\u001b[0m\u001b[0;34m)\u001b[0m\u001b[0;34m\u001b[0m\u001b[0;34m\u001b[0m\u001b[0m\n",
      "\u001b[0m\u001b[0;32m     17 \u001b[0;31m    \u001b[0;32mreturn\u001b[0m \u001b[0mlisting\u001b[0m\u001b[0;34m\u001b[0m\u001b[0;34m\u001b[0m\u001b[0m\n",
      "\u001b[0m\n"
     ]
    },
    {
     "name": "stdin",
     "output_type": "stream",
     "text": [
      "ipdb>  print(graph.serialize(format='turtle').decode())\n"
     ]
    },
    {
     "name": "stdout",
     "output_type": "stream",
     "text": [
      "@prefix as: <https://www.w3.org/ns/activitystreams#> .\n",
      "@prefix ns1: <http://sinopia.io/vocabulary/> .\n",
      "@prefix ns2: <http://id.loc.gov/ontologies/bibframe/> .\n",
      "@prefix ns3: <http://rdaregistry.info/Elements/w/> .\n",
      "@prefix ns4: <http://id.loc.gov/ontologies/bflc/> .\n",
      "@prefix prov: <http://www.w3.org/ns/prov#> .\n",
      "@prefix xsd: <http://www.w3.org/2001/XMLSchema#> .\n",
      "\n",
      "<https://trellis.sinopia.io/repository/washington/5abb3bdf-0109-4b77-b984-f73900ae981e> a <http://rdaregistry.info/Elements/c/C10001> ;\n",
      "    ns2:adminMetadata [ a ns2:AdminMetadata ;\n",
      "            ns4:catalogerID \"cec\"@en ;\n",
      "            ns4:encodingLevel <https://id.loc.gov/vocabulary/menclvl/f> ;\n",
      "            ns2:creationDate \"2019-09-25\"@en ;\n",
      "            ns2:descriptionConventions <https://id.loc.gov/vocabulary/descriptionConventions/isbd>,\n",
      "                <https://id.loc.gov/vocabulary/descriptionConventions/rda> ;\n",
      "            ns2:descriptionLanguage <http://id.loc.gov/vocabulary/languages/eng> ;\n",
      "            ns2:source <https://id.loc.gov/vocabulary/organizations/wau> ;\n",
      "            ns2:status [ a ns2:Status ;\n",
      "                    ns2:code \"n\"@en ;\n",
      "                    ns1:hasResourceTemplate \"WAU:RT:BF2:BFLC:AdminMetadata:Status\" ] ;\n",
      "            ns1:hasResourceTemplate \"WAU:RT:BF2:BFLC:AdminMetadata\" ] ;\n",
      "    ns3:P10078 <http://id.loc.gov/authorities/names/n94102982.html> ;\n",
      "    ns1:hasResourceTemplate \"WAU:RT:RDA:Work:monograph\" ;\n",
      "    prov:wasGeneratedBy [ a prov:Activity,\n",
      "                as:Create ;\n",
      "            prov:atTime \"2019-09-25T22:51:13.176000+00:00\"^^xsd:dateTime ;\n",
      "            prov:wasAssociatedWith <https://cognito-idp.us-west-2.amazonaws.com/us-west-2_JLxtCILIV/718080a8-0f24-44d3-9924-aea230591f00> ] .\n",
      "\n",
      "\n"
     ]
    }
   ],
   "source": [
    "%debug"
   ]
  },
  {
   "cell_type": "code",
   "execution_count": 39,
   "metadata": {},
   "outputs": [
    {
     "data": {
      "text/html": [
       "<div>\n",
       "<style scoped>\n",
       "    .dataframe tbody tr th:only-of-type {\n",
       "        vertical-align: middle;\n",
       "    }\n",
       "\n",
       "    .dataframe tbody tr th {\n",
       "        vertical-align: top;\n",
       "    }\n",
       "\n",
       "    .dataframe thead th {\n",
       "        text-align: right;\n",
       "    }\n",
       "</style>\n",
       "<table border=\"1\" class=\"dataframe\">\n",
       "  <thead>\n",
       "    <tr style=\"text-align: right;\">\n",
       "      <th></th>\n",
       "      <th>subject</th>\n",
       "      <th>resource_template</th>\n",
       "      <th>http://id.loc.gov/ontologies/bibframe/title</th>\n",
       "      <th>http://id.loc.gov/ontologies/bibframe/identifiedBy</th>\n",
       "      <th>http://id.loc.gov/ontologies/bibframe/editionStatement</th>\n",
       "      <th>http://www.w3.org/ns/prov#wasGeneratedBy</th>\n",
       "      <th>http://id.loc.gov/ontologies/bibframe/date</th>\n",
       "      <th>http://id.loc.gov/ontologies/bibframe/adminMetadata</th>\n",
       "      <th>http://id.loc.gov/ontologies/bibframe/extent</th>\n",
       "      <th>http://id.loc.gov/ontologies/bibframe/provisionActivityStatement</th>\n",
       "      <th>...</th>\n",
       "      <th>http://rdaregistry.info/Elements/m/P30335</th>\n",
       "      <th>http://id.loc.gov/ontologies/bibframe/Person</th>\n",
       "      <th>http://id.loc.gov/ontologies/bibframe/partNumber</th>\n",
       "      <th>http://id.loc.gov/ontologies/bibframe/partName</th>\n",
       "      <th>http://www.loc.gov/mads/rdf/v1#streetAddress</th>\n",
       "      <th>http://creativecommons.org/ns#License</th>\n",
       "      <th>http://id.loc.gov/ontologies/bibframe/musicSerialNumber</th>\n",
       "      <th>http://schema.org/name</th>\n",
       "      <th>http://schema.org/isbn</th>\n",
       "      <th>http://www.loc.gov/mads/rdf/v1#authoritativeLabel</th>\n",
       "    </tr>\n",
       "  </thead>\n",
       "  <tbody>\n",
       "    <tr>\n",
       "      <th>0</th>\n",
       "      <td>https://trellis.sinopia.io/repository/ucdavis/...</td>\n",
       "      <td>ld4p:RT:bf2:Monograph:Instance</td>\n",
       "      <td>2.0</td>\n",
       "      <td>3.0</td>\n",
       "      <td>1.0</td>\n",
       "      <td>3.0</td>\n",
       "      <td>1.0</td>\n",
       "      <td>1.0</td>\n",
       "      <td>1.0</td>\n",
       "      <td>1.0</td>\n",
       "      <td>...</td>\n",
       "      <td>0.0</td>\n",
       "      <td>0.0</td>\n",
       "      <td>0.0</td>\n",
       "      <td>0.0</td>\n",
       "      <td>0.0</td>\n",
       "      <td>0.0</td>\n",
       "      <td>0.0</td>\n",
       "      <td>0.0</td>\n",
       "      <td>0.0</td>\n",
       "      <td>0.0</td>\n",
       "    </tr>\n",
       "    <tr>\n",
       "      <th>1</th>\n",
       "      <td>https://trellis.sinopia.io/repository/ucdavis/...</td>\n",
       "      <td>ld4p:RT:bf2:Monograph:Instance</td>\n",
       "      <td>2.0</td>\n",
       "      <td>4.0</td>\n",
       "      <td>1.0</td>\n",
       "      <td>5.0</td>\n",
       "      <td>1.0</td>\n",
       "      <td>1.0</td>\n",
       "      <td>1.0</td>\n",
       "      <td>1.0</td>\n",
       "      <td>...</td>\n",
       "      <td>0.0</td>\n",
       "      <td>0.0</td>\n",
       "      <td>0.0</td>\n",
       "      <td>0.0</td>\n",
       "      <td>0.0</td>\n",
       "      <td>0.0</td>\n",
       "      <td>0.0</td>\n",
       "      <td>0.0</td>\n",
       "      <td>0.0</td>\n",
       "      <td>0.0</td>\n",
       "    </tr>\n",
       "    <tr>\n",
       "      <th>2</th>\n",
       "      <td>https://trellis.sinopia.io/repository/ucdavis/...</td>\n",
       "      <td>ld4p:RT:bf2:Monograph:Instance</td>\n",
       "      <td>2.0</td>\n",
       "      <td>4.0</td>\n",
       "      <td>1.0</td>\n",
       "      <td>2.0</td>\n",
       "      <td>1.0</td>\n",
       "      <td>1.0</td>\n",
       "      <td>1.0</td>\n",
       "      <td>1.0</td>\n",
       "      <td>...</td>\n",
       "      <td>0.0</td>\n",
       "      <td>0.0</td>\n",
       "      <td>0.0</td>\n",
       "      <td>0.0</td>\n",
       "      <td>0.0</td>\n",
       "      <td>0.0</td>\n",
       "      <td>0.0</td>\n",
       "      <td>0.0</td>\n",
       "      <td>0.0</td>\n",
       "      <td>0.0</td>\n",
       "    </tr>\n",
       "    <tr>\n",
       "      <th>3</th>\n",
       "      <td>https://trellis.sinopia.io/repository/ucdavis/...</td>\n",
       "      <td>ld4p:RT:bf2:Monograph:Instance</td>\n",
       "      <td>2.0</td>\n",
       "      <td>3.0</td>\n",
       "      <td>1.0</td>\n",
       "      <td>3.0</td>\n",
       "      <td>1.0</td>\n",
       "      <td>1.0</td>\n",
       "      <td>1.0</td>\n",
       "      <td>1.0</td>\n",
       "      <td>...</td>\n",
       "      <td>0.0</td>\n",
       "      <td>0.0</td>\n",
       "      <td>0.0</td>\n",
       "      <td>0.0</td>\n",
       "      <td>0.0</td>\n",
       "      <td>0.0</td>\n",
       "      <td>0.0</td>\n",
       "      <td>0.0</td>\n",
       "      <td>0.0</td>\n",
       "      <td>0.0</td>\n",
       "    </tr>\n",
       "    <tr>\n",
       "      <th>4</th>\n",
       "      <td>https://trellis.sinopia.io/repository/ucdavis/...</td>\n",
       "      <td>sinopia:resourceTemplate:schema:Thing</td>\n",
       "      <td>0.0</td>\n",
       "      <td>0.0</td>\n",
       "      <td>0.0</td>\n",
       "      <td>1.0</td>\n",
       "      <td>0.0</td>\n",
       "      <td>0.0</td>\n",
       "      <td>0.0</td>\n",
       "      <td>0.0</td>\n",
       "      <td>...</td>\n",
       "      <td>0.0</td>\n",
       "      <td>0.0</td>\n",
       "      <td>0.0</td>\n",
       "      <td>0.0</td>\n",
       "      <td>0.0</td>\n",
       "      <td>0.0</td>\n",
       "      <td>0.0</td>\n",
       "      <td>0.0</td>\n",
       "      <td>0.0</td>\n",
       "      <td>0.0</td>\n",
       "    </tr>\n",
       "  </tbody>\n",
       "</table>\n",
       "<p>5 rows × 311 columns</p>\n",
       "</div>"
      ],
      "text/plain": [
       "                                             subject  \\\n",
       "0  https://trellis.sinopia.io/repository/ucdavis/...   \n",
       "1  https://trellis.sinopia.io/repository/ucdavis/...   \n",
       "2  https://trellis.sinopia.io/repository/ucdavis/...   \n",
       "3  https://trellis.sinopia.io/repository/ucdavis/...   \n",
       "4  https://trellis.sinopia.io/repository/ucdavis/...   \n",
       "\n",
       "                       resource_template  \\\n",
       "0         ld4p:RT:bf2:Monograph:Instance   \n",
       "1         ld4p:RT:bf2:Monograph:Instance   \n",
       "2         ld4p:RT:bf2:Monograph:Instance   \n",
       "3         ld4p:RT:bf2:Monograph:Instance   \n",
       "4  sinopia:resourceTemplate:schema:Thing   \n",
       "\n",
       "   http://id.loc.gov/ontologies/bibframe/title  \\\n",
       "0                                          2.0   \n",
       "1                                          2.0   \n",
       "2                                          2.0   \n",
       "3                                          2.0   \n",
       "4                                          0.0   \n",
       "\n",
       "   http://id.loc.gov/ontologies/bibframe/identifiedBy  \\\n",
       "0                                                3.0    \n",
       "1                                                4.0    \n",
       "2                                                4.0    \n",
       "3                                                3.0    \n",
       "4                                                0.0    \n",
       "\n",
       "   http://id.loc.gov/ontologies/bibframe/editionStatement  \\\n",
       "0                                                1.0        \n",
       "1                                                1.0        \n",
       "2                                                1.0        \n",
       "3                                                1.0        \n",
       "4                                                0.0        \n",
       "\n",
       "   http://www.w3.org/ns/prov#wasGeneratedBy  \\\n",
       "0                                       3.0   \n",
       "1                                       5.0   \n",
       "2                                       2.0   \n",
       "3                                       3.0   \n",
       "4                                       1.0   \n",
       "\n",
       "   http://id.loc.gov/ontologies/bibframe/date  \\\n",
       "0                                         1.0   \n",
       "1                                         1.0   \n",
       "2                                         1.0   \n",
       "3                                         1.0   \n",
       "4                                         0.0   \n",
       "\n",
       "   http://id.loc.gov/ontologies/bibframe/adminMetadata  \\\n",
       "0                                                1.0     \n",
       "1                                                1.0     \n",
       "2                                                1.0     \n",
       "3                                                1.0     \n",
       "4                                                0.0     \n",
       "\n",
       "   http://id.loc.gov/ontologies/bibframe/extent  \\\n",
       "0                                           1.0   \n",
       "1                                           1.0   \n",
       "2                                           1.0   \n",
       "3                                           1.0   \n",
       "4                                           0.0   \n",
       "\n",
       "   http://id.loc.gov/ontologies/bibframe/provisionActivityStatement  ...  \\\n",
       "0                                                1.0                 ...   \n",
       "1                                                1.0                 ...   \n",
       "2                                                1.0                 ...   \n",
       "3                                                1.0                 ...   \n",
       "4                                                0.0                 ...   \n",
       "\n",
       "   http://rdaregistry.info/Elements/m/P30335  \\\n",
       "0                                        0.0   \n",
       "1                                        0.0   \n",
       "2                                        0.0   \n",
       "3                                        0.0   \n",
       "4                                        0.0   \n",
       "\n",
       "   http://id.loc.gov/ontologies/bibframe/Person  \\\n",
       "0                                           0.0   \n",
       "1                                           0.0   \n",
       "2                                           0.0   \n",
       "3                                           0.0   \n",
       "4                                           0.0   \n",
       "\n",
       "   http://id.loc.gov/ontologies/bibframe/partNumber  \\\n",
       "0                                               0.0   \n",
       "1                                               0.0   \n",
       "2                                               0.0   \n",
       "3                                               0.0   \n",
       "4                                               0.0   \n",
       "\n",
       "   http://id.loc.gov/ontologies/bibframe/partName  \\\n",
       "0                                             0.0   \n",
       "1                                             0.0   \n",
       "2                                             0.0   \n",
       "3                                             0.0   \n",
       "4                                             0.0   \n",
       "\n",
       "   http://www.loc.gov/mads/rdf/v1#streetAddress  \\\n",
       "0                                           0.0   \n",
       "1                                           0.0   \n",
       "2                                           0.0   \n",
       "3                                           0.0   \n",
       "4                                           0.0   \n",
       "\n",
       "   http://creativecommons.org/ns#License  \\\n",
       "0                                    0.0   \n",
       "1                                    0.0   \n",
       "2                                    0.0   \n",
       "3                                    0.0   \n",
       "4                                    0.0   \n",
       "\n",
       "   http://id.loc.gov/ontologies/bibframe/musicSerialNumber  \\\n",
       "0                                                0.0         \n",
       "1                                                0.0         \n",
       "2                                                0.0         \n",
       "3                                                0.0         \n",
       "4                                                0.0         \n",
       "\n",
       "   http://schema.org/name  http://schema.org/isbn  \\\n",
       "0                     0.0                     0.0   \n",
       "1                     0.0                     0.0   \n",
       "2                     0.0                     0.0   \n",
       "3                     0.0                     0.0   \n",
       "4                     0.0                     0.0   \n",
       "\n",
       "   http://www.loc.gov/mads/rdf/v1#authoritativeLabel  \n",
       "0                                                0.0  \n",
       "1                                                0.0  \n",
       "2                                                0.0  \n",
       "3                                                0.0  \n",
       "4                                                0.0  \n",
       "\n",
       "[5 rows x 311 columns]"
      ]
     },
     "execution_count": 39,
     "metadata": {},
     "output_type": "execute_result"
    }
   ],
   "source": [
    "prod_df.head()"
   ]
  },
  {
   "cell_type": "code",
   "execution_count": 40,
   "metadata": {},
   "outputs": [
    {
     "name": "stdout",
     "output_type": "stream",
     "text": [
      ".0..........100..........200..........300..........400..........500..........600..........700..........800..........900..........1000..........1100..........1200..........1300..........1400..........1500..........1600..........1700..........1800..........1900..........2000..........2100..........2200..........2300..........2400..........2500..........2600..........2700..........2800..........2900..........3000..........3100..........3200..........3300..........3400..........3500..........3600..........3700...."
     ]
    }
   ],
   "source": [
    "stage_df = data_loader.to_dataframe(stage)"
   ]
  },
  {
   "cell_type": "code",
   "execution_count": 41,
   "metadata": {},
   "outputs": [
    {
     "data": {
      "text/html": [
       "<div>\n",
       "<style scoped>\n",
       "    .dataframe tbody tr th:only-of-type {\n",
       "        vertical-align: middle;\n",
       "    }\n",
       "\n",
       "    .dataframe tbody tr th {\n",
       "        vertical-align: top;\n",
       "    }\n",
       "\n",
       "    .dataframe thead th {\n",
       "        text-align: right;\n",
       "    }\n",
       "</style>\n",
       "<table border=\"1\" class=\"dataframe\">\n",
       "  <thead>\n",
       "    <tr style=\"text-align: right;\">\n",
       "      <th></th>\n",
       "      <th>subject</th>\n",
       "      <th>resource_template</th>\n",
       "      <th>http://id.loc.gov/ontologies/bibframe/heldBy</th>\n",
       "      <th>http://id.loc.gov/ontologies/bibframe/note</th>\n",
       "      <th>http://www.w3.org/ns/prov#wasGeneratedBy</th>\n",
       "      <th>http://id.loc.gov/ontologies/bibframe/usageAndAccessPolicy</th>\n",
       "      <th>http://www.w3.org/1999/02/22-rdf-syntax-ns#type</th>\n",
       "      <th>http://sinopia.io/vocabulary/hasResourceTemplate</th>\n",
       "      <th>http://id.loc.gov/ontologies/bibframe/electronicLocator</th>\n",
       "      <th>http://id.loc.gov/ontologies/bibframe/itemOf</th>\n",
       "      <th>...</th>\n",
       "      <th>http://id.loc.gov/ontologies/bflc/profile</th>\n",
       "      <th>http://id.loc.gov/ontologies/bibframe/dissertation</th>\n",
       "      <th>http://id.loc.gov/ontologies/bflc/relation</th>\n",
       "      <th>http://id.loc.gov/ontologies/bibframe/itemPortion</th>\n",
       "      <th>http://id.loc.gov/ontologies/bibframe/ColorContent</th>\n",
       "      <th>http://rdaregistry.info/Elements/w/P10223</th>\n",
       "      <th>http://rdaregistry.info/Elements/w/P10256</th>\n",
       "      <th>http://rdaregistry.info/Elements/e/P20001</th>\n",
       "      <th>http://rdaregistry.info/Elements/e/P20310</th>\n",
       "      <th>http://id.loc.gov/ontologies/bibframe/acquisitionSource</th>\n",
       "    </tr>\n",
       "  </thead>\n",
       "  <tbody>\n",
       "    <tr>\n",
       "      <th>0</th>\n",
       "      <td>https://trellis.stage.sinopia.io/repository/uc...</td>\n",
       "      <td>UCSD:RT:BF2:Monograph:Item_OpenAccess_UnNested</td>\n",
       "      <td>1.0</td>\n",
       "      <td>2.0</td>\n",
       "      <td>1.0</td>\n",
       "      <td>1.0</td>\n",
       "      <td>1</td>\n",
       "      <td>1</td>\n",
       "      <td>1.0</td>\n",
       "      <td>1.0</td>\n",
       "      <td>...</td>\n",
       "      <td>0.0</td>\n",
       "      <td>0.0</td>\n",
       "      <td>0.0</td>\n",
       "      <td>0.0</td>\n",
       "      <td>0.0</td>\n",
       "      <td>0.0</td>\n",
       "      <td>0.0</td>\n",
       "      <td>0.0</td>\n",
       "      <td>0.0</td>\n",
       "      <td>0.0</td>\n",
       "    </tr>\n",
       "    <tr>\n",
       "      <th>1</th>\n",
       "      <td>https://trellis.stage.sinopia.io/repository/uc...</td>\n",
       "      <td>ld4p:RT:bf2:Serial:Work:Un-nested</td>\n",
       "      <td>0.0</td>\n",
       "      <td>0.0</td>\n",
       "      <td>3.0</td>\n",
       "      <td>0.0</td>\n",
       "      <td>1</td>\n",
       "      <td>1</td>\n",
       "      <td>0.0</td>\n",
       "      <td>0.0</td>\n",
       "      <td>...</td>\n",
       "      <td>0.0</td>\n",
       "      <td>0.0</td>\n",
       "      <td>0.0</td>\n",
       "      <td>0.0</td>\n",
       "      <td>0.0</td>\n",
       "      <td>0.0</td>\n",
       "      <td>0.0</td>\n",
       "      <td>0.0</td>\n",
       "      <td>0.0</td>\n",
       "      <td>0.0</td>\n",
       "    </tr>\n",
       "    <tr>\n",
       "      <th>2</th>\n",
       "      <td>https://trellis.stage.sinopia.io/repository/uc...</td>\n",
       "      <td>UCSD:RT:BF2:Monograph:Item_OpenAccess_UnNested</td>\n",
       "      <td>1.0</td>\n",
       "      <td>1.0</td>\n",
       "      <td>1.0</td>\n",
       "      <td>1.0</td>\n",
       "      <td>1</td>\n",
       "      <td>1</td>\n",
       "      <td>1.0</td>\n",
       "      <td>1.0</td>\n",
       "      <td>...</td>\n",
       "      <td>0.0</td>\n",
       "      <td>0.0</td>\n",
       "      <td>0.0</td>\n",
       "      <td>0.0</td>\n",
       "      <td>0.0</td>\n",
       "      <td>0.0</td>\n",
       "      <td>0.0</td>\n",
       "      <td>0.0</td>\n",
       "      <td>0.0</td>\n",
       "      <td>0.0</td>\n",
       "    </tr>\n",
       "    <tr>\n",
       "      <th>3</th>\n",
       "      <td>https://trellis.stage.sinopia.io/repository/uc...</td>\n",
       "      <td>UCSD:RT:BF2:Monograph:Work:Un-nested</td>\n",
       "      <td>0.0</td>\n",
       "      <td>0.0</td>\n",
       "      <td>4.0</td>\n",
       "      <td>0.0</td>\n",
       "      <td>1</td>\n",
       "      <td>1</td>\n",
       "      <td>0.0</td>\n",
       "      <td>0.0</td>\n",
       "      <td>...</td>\n",
       "      <td>0.0</td>\n",
       "      <td>0.0</td>\n",
       "      <td>0.0</td>\n",
       "      <td>0.0</td>\n",
       "      <td>0.0</td>\n",
       "      <td>0.0</td>\n",
       "      <td>0.0</td>\n",
       "      <td>0.0</td>\n",
       "      <td>0.0</td>\n",
       "      <td>0.0</td>\n",
       "    </tr>\n",
       "    <tr>\n",
       "      <th>4</th>\n",
       "      <td>https://trellis.stage.sinopia.io/repository/uc...</td>\n",
       "      <td>UCSD:RT:BF2:Monograph:Item_OpenAccess_UnNested</td>\n",
       "      <td>1.0</td>\n",
       "      <td>1.0</td>\n",
       "      <td>1.0</td>\n",
       "      <td>1.0</td>\n",
       "      <td>1</td>\n",
       "      <td>1</td>\n",
       "      <td>1.0</td>\n",
       "      <td>1.0</td>\n",
       "      <td>...</td>\n",
       "      <td>0.0</td>\n",
       "      <td>0.0</td>\n",
       "      <td>0.0</td>\n",
       "      <td>0.0</td>\n",
       "      <td>0.0</td>\n",
       "      <td>0.0</td>\n",
       "      <td>0.0</td>\n",
       "      <td>0.0</td>\n",
       "      <td>0.0</td>\n",
       "      <td>0.0</td>\n",
       "    </tr>\n",
       "  </tbody>\n",
       "</table>\n",
       "<p>5 rows × 186 columns</p>\n",
       "</div>"
      ],
      "text/plain": [
       "                                             subject  \\\n",
       "0  https://trellis.stage.sinopia.io/repository/uc...   \n",
       "1  https://trellis.stage.sinopia.io/repository/uc...   \n",
       "2  https://trellis.stage.sinopia.io/repository/uc...   \n",
       "3  https://trellis.stage.sinopia.io/repository/uc...   \n",
       "4  https://trellis.stage.sinopia.io/repository/uc...   \n",
       "\n",
       "                                resource_template  \\\n",
       "0  UCSD:RT:BF2:Monograph:Item_OpenAccess_UnNested   \n",
       "1               ld4p:RT:bf2:Serial:Work:Un-nested   \n",
       "2  UCSD:RT:BF2:Monograph:Item_OpenAccess_UnNested   \n",
       "3            UCSD:RT:BF2:Monograph:Work:Un-nested   \n",
       "4  UCSD:RT:BF2:Monograph:Item_OpenAccess_UnNested   \n",
       "\n",
       "   http://id.loc.gov/ontologies/bibframe/heldBy  \\\n",
       "0                                           1.0   \n",
       "1                                           0.0   \n",
       "2                                           1.0   \n",
       "3                                           0.0   \n",
       "4                                           1.0   \n",
       "\n",
       "   http://id.loc.gov/ontologies/bibframe/note  \\\n",
       "0                                         2.0   \n",
       "1                                         0.0   \n",
       "2                                         1.0   \n",
       "3                                         0.0   \n",
       "4                                         1.0   \n",
       "\n",
       "   http://www.w3.org/ns/prov#wasGeneratedBy  \\\n",
       "0                                       1.0   \n",
       "1                                       3.0   \n",
       "2                                       1.0   \n",
       "3                                       4.0   \n",
       "4                                       1.0   \n",
       "\n",
       "   http://id.loc.gov/ontologies/bibframe/usageAndAccessPolicy  \\\n",
       "0                                                1.0            \n",
       "1                                                0.0            \n",
       "2                                                1.0            \n",
       "3                                                0.0            \n",
       "4                                                1.0            \n",
       "\n",
       "   http://www.w3.org/1999/02/22-rdf-syntax-ns#type  \\\n",
       "0                                                1   \n",
       "1                                                1   \n",
       "2                                                1   \n",
       "3                                                1   \n",
       "4                                                1   \n",
       "\n",
       "   http://sinopia.io/vocabulary/hasResourceTemplate  \\\n",
       "0                                                 1   \n",
       "1                                                 1   \n",
       "2                                                 1   \n",
       "3                                                 1   \n",
       "4                                                 1   \n",
       "\n",
       "   http://id.loc.gov/ontologies/bibframe/electronicLocator  \\\n",
       "0                                                1.0         \n",
       "1                                                0.0         \n",
       "2                                                1.0         \n",
       "3                                                0.0         \n",
       "4                                                1.0         \n",
       "\n",
       "   http://id.loc.gov/ontologies/bibframe/itemOf  ...  \\\n",
       "0                                           1.0  ...   \n",
       "1                                           0.0  ...   \n",
       "2                                           1.0  ...   \n",
       "3                                           0.0  ...   \n",
       "4                                           1.0  ...   \n",
       "\n",
       "   http://id.loc.gov/ontologies/bflc/profile  \\\n",
       "0                                        0.0   \n",
       "1                                        0.0   \n",
       "2                                        0.0   \n",
       "3                                        0.0   \n",
       "4                                        0.0   \n",
       "\n",
       "   http://id.loc.gov/ontologies/bibframe/dissertation  \\\n",
       "0                                                0.0    \n",
       "1                                                0.0    \n",
       "2                                                0.0    \n",
       "3                                                0.0    \n",
       "4                                                0.0    \n",
       "\n",
       "   http://id.loc.gov/ontologies/bflc/relation  \\\n",
       "0                                         0.0   \n",
       "1                                         0.0   \n",
       "2                                         0.0   \n",
       "3                                         0.0   \n",
       "4                                         0.0   \n",
       "\n",
       "   http://id.loc.gov/ontologies/bibframe/itemPortion  \\\n",
       "0                                                0.0   \n",
       "1                                                0.0   \n",
       "2                                                0.0   \n",
       "3                                                0.0   \n",
       "4                                                0.0   \n",
       "\n",
       "   http://id.loc.gov/ontologies/bibframe/ColorContent  \\\n",
       "0                                                0.0    \n",
       "1                                                0.0    \n",
       "2                                                0.0    \n",
       "3                                                0.0    \n",
       "4                                                0.0    \n",
       "\n",
       "   http://rdaregistry.info/Elements/w/P10223  \\\n",
       "0                                        0.0   \n",
       "1                                        0.0   \n",
       "2                                        0.0   \n",
       "3                                        0.0   \n",
       "4                                        0.0   \n",
       "\n",
       "   http://rdaregistry.info/Elements/w/P10256  \\\n",
       "0                                        0.0   \n",
       "1                                        0.0   \n",
       "2                                        0.0   \n",
       "3                                        0.0   \n",
       "4                                        0.0   \n",
       "\n",
       "   http://rdaregistry.info/Elements/e/P20001  \\\n",
       "0                                        0.0   \n",
       "1                                        0.0   \n",
       "2                                        0.0   \n",
       "3                                        0.0   \n",
       "4                                        0.0   \n",
       "\n",
       "   http://rdaregistry.info/Elements/e/P20310  \\\n",
       "0                                        0.0   \n",
       "1                                        0.0   \n",
       "2                                        0.0   \n",
       "3                                        0.0   \n",
       "4                                        0.0   \n",
       "\n",
       "   http://id.loc.gov/ontologies/bibframe/acquisitionSource  \n",
       "0                                                0.0        \n",
       "1                                                0.0        \n",
       "2                                                0.0        \n",
       "3                                                0.0        \n",
       "4                                                0.0        \n",
       "\n",
       "[5 rows x 186 columns]"
      ]
     },
     "execution_count": 41,
     "metadata": {},
     "output_type": "execute_result"
    }
   ],
   "source": [
    "stage_df.head()"
   ]
  },
  {
   "cell_type": "code",
   "execution_count": 42,
   "metadata": {},
   "outputs": [
    {
     "data": {
      "text/plain": [
       "311"
      ]
     },
     "execution_count": 42,
     "metadata": {},
     "output_type": "execute_result"
    }
   ],
   "source": [
    "len(prod_df.keys())"
   ]
  },
  {
   "cell_type": "code",
   "execution_count": 43,
   "metadata": {},
   "outputs": [
    {
     "data": {
      "text/plain": [
       "186"
      ]
     },
     "execution_count": 43,
     "metadata": {},
     "output_type": "execute_result"
    }
   ],
   "source": [
    "len(stage_df.keys())"
   ]
  },
  {
   "cell_type": "code",
   "execution_count": 49,
   "metadata": {},
   "outputs": [
    {
     "name": "stderr",
     "output_type": "stream",
     "text": [
      "/Users/jpnelson/2020/py3-env/lib/python3.8/site-packages/fastai-1.0.61.dev0-py3.8.egg/fastai/data_block.py:540: UserWarning: You are labelling your items with CategoryList.\n",
      "Your valid set contained the following unknown labels, the corresponding items have been discarded.\n",
      "sinopia:resourceTemplate:bf2:Agent:bfPerson, sinopia:resourceTemplate:bf2:Agents:Addresses:Extended, WAU:RT:RDA:Expression:serial, WAU:RT:RDA:Expression:soundRecording, WAU:RT:RDA:Item:serial...\n",
      "  if getattr(ds, 'warn', False): warn(ds.warn)\n"
     ]
    }
   ],
   "source": [
    "prod_data = data_block.databunch(prod_df)"
   ]
  },
  {
   "cell_type": "code",
   "execution_count": 50,
   "metadata": {},
   "outputs": [
    {
     "name": "stderr",
     "output_type": "stream",
     "text": [
      "/Users/jpnelson/2020/py3-env/lib/python3.8/site-packages/fastai-1.0.61.dev0-py3.8.egg/fastai/data_block.py:540: UserWarning: You are labelling your items with CategoryList.\n",
      "Your valid set contained the following unknown labels, the corresponding items have been discarded.\n",
      "sinopia:resourceTemplate:bf2:Item:Enumeration, WAU:RT:MADSRDF:COMPLEXSUBJECT, sinopia:resourceTemplate:bf2:Item:Retention, harvard:test3:RT:bf2:Monograph:Item:ItemForward, ld4p:RT:bf2:NotatedMusic:Instance...\n",
      "  if getattr(ds, 'warn', False): warn(ds.warn)\n"
     ]
    }
   ],
   "source": [
    "stage_data = data_block.databunch(stage_df)"
   ]
  },
  {
   "cell_type": "code",
   "execution_count": 60,
   "metadata": {},
   "outputs": [
    {
     "data": {
      "text/html": [
       "\n",
       "    <div>\n",
       "        <style>\n",
       "            /* Turns off some styling */\n",
       "            progress {\n",
       "                /* gets rid of default border in Firefox and Opera. */\n",
       "                border: none;\n",
       "                /* Needs to be in here for Safari polyfill so background images work as expected. */\n",
       "                background-size: auto;\n",
       "            }\n",
       "            .progress-bar-interrupted, .progress-bar-interrupted::-webkit-progress-bar {\n",
       "                background: #F44336;\n",
       "            }\n",
       "        </style>\n",
       "      <progress value='3' class='' max='4' style='width:300px; height:20px; vertical-align: middle;'></progress>\n",
       "      75.00% [3/4 00:54<00:18]\n",
       "    </div>\n",
       "    \n",
       "<table border=\"1\" class=\"dataframe\">\n",
       "  <thead>\n",
       "    <tr style=\"text-align: left;\">\n",
       "      <th>epoch</th>\n",
       "      <th>train_loss</th>\n",
       "      <th>valid_loss</th>\n",
       "      <th>accuracy</th>\n",
       "      <th>time</th>\n",
       "    </tr>\n",
       "  </thead>\n",
       "  <tbody>\n",
       "    <tr>\n",
       "      <td>0</td>\n",
       "      <td>4.428843</td>\n",
       "      <td>#na#</td>\n",
       "      <td>00:17</td>\n",
       "    </tr>\n",
       "    <tr>\n",
       "      <td>1</td>\n",
       "      <td>4.142091</td>\n",
       "      <td>#na#</td>\n",
       "      <td>00:18</td>\n",
       "    </tr>\n",
       "    <tr>\n",
       "      <td>2</td>\n",
       "      <td>2.775277</td>\n",
       "      <td>#na#</td>\n",
       "      <td>00:18</td>\n",
       "    </tr>\n",
       "  </tbody>\n",
       "</table><p>\n",
       "\n",
       "    <div>\n",
       "        <style>\n",
       "            /* Turns off some styling */\n",
       "            progress {\n",
       "                /* gets rid of default border in Firefox and Opera. */\n",
       "                border: none;\n",
       "                /* Needs to be in here for Safari polyfill so background images work as expected. */\n",
       "                background-size: auto;\n",
       "            }\n",
       "            .progress-bar-interrupted, .progress-bar-interrupted::-webkit-progress-bar {\n",
       "                background: #F44336;\n",
       "            }\n",
       "        </style>\n",
       "      <progress value='16' class='' max='26' style='width:300px; height:20px; vertical-align: middle;'></progress>\n",
       "      61.54% [16/26 00:18<00:11 8.4877]\n",
       "    </div>\n",
       "    "
      ],
      "text/plain": [
       "<IPython.core.display.HTML object>"
      ]
     },
     "metadata": {},
     "output_type": "display_data"
    },
    {
     "name": "stdout",
     "output_type": "stream",
     "text": [
      "LR Finder is complete, type {learner_name}.recorder.plot() to see the graph.\n"
     ]
    },
    {
     "data": {
      "image/png": "[encoded data removed]",
      "text/plain": [
       "<Figure size 432x288 with 1 Axes>"
      ]
     },
     "metadata": {
      "needs_background": "light"
     },
     "output_type": "display_data"
    }
   ],
   "source": [
    "prod_learner = tabular_learner(prod_data, layers=[200,100], metrics=accuracy)\n",
    "prod_learner.lr_find()\n",
    "prod_learner.recorder.plot()"
   ]
  },
  {
   "cell_type": "code",
   "execution_count": 61,
   "metadata": {},
   "outputs": [
    {
     "data": {
      "text/html": [
       "<table border=\"1\" class=\"dataframe\">\n",
       "  <thead>\n",
       "    <tr style=\"text-align: left;\">\n",
       "      <th>epoch</th>\n",
       "      <th>train_loss</th>\n",
       "      <th>valid_loss</th>\n",
       "      <th>accuracy</th>\n",
       "      <th>time</th>\n",
       "    </tr>\n",
       "  </thead>\n",
       "  <tbody>\n",
       "    <tr>\n",
       "      <td>0</td>\n",
       "      <td>2.384447</td>\n",
       "      <td>2.992812</td>\n",
       "      <td>0.863636</td>\n",
       "      <td>00:38</td>\n",
       "    </tr>\n",
       "    <tr>\n",
       "      <td>1</td>\n",
       "      <td>1.609184</td>\n",
       "      <td>0.631158</td>\n",
       "      <td>0.903409</td>\n",
       "      <td>00:35</td>\n",
       "    </tr>\n",
       "  </tbody>\n",
       "</table>"
      ],
      "text/plain": [
       "<IPython.core.display.HTML object>"
      ]
     },
     "metadata": {},
     "output_type": "display_data"
    }
   ],
   "source": [
    "prod_learner.fit(2, 1e-3)"
   ]
  },
  {
   "cell_type": "code",
   "execution_count": 58,
   "metadata": {},
   "outputs": [
    {
     "data": {
      "text/html": [
       "\n",
       "    <div>\n",
       "        <style>\n",
       "            /* Turns off some styling */\n",
       "            progress {\n",
       "                /* gets rid of default border in Firefox and Opera. */\n",
       "                border: none;\n",
       "                /* Needs to be in here for Safari polyfill so background images work as expected. */\n",
       "                background-size: auto;\n",
       "            }\n",
       "            .progress-bar-interrupted, .progress-bar-interrupted::-webkit-progress-bar {\n",
       "                background: #F44336;\n",
       "            }\n",
       "        </style>\n",
       "      <progress value='1' class='' max='3' style='width:300px; height:20px; vertical-align: middle;'></progress>\n",
       "      33.33% [1/3 00:18<00:37]\n",
       "    </div>\n",
       "    \n",
       "<table border=\"1\" class=\"dataframe\">\n",
       "  <thead>\n",
       "    <tr style=\"text-align: left;\">\n",
       "      <th>epoch</th>\n",
       "      <th>train_loss</th>\n",
       "      <th>valid_loss</th>\n",
       "      <th>accuracy</th>\n",
       "      <th>time</th>\n",
       "    </tr>\n",
       "  </thead>\n",
       "  <tbody>\n",
       "    <tr>\n",
       "      <td>0</td>\n",
       "      <td>5.855841</td>\n",
       "      <td>#na#</td>\n",
       "      <td>00:18</td>\n",
       "    </tr>\n",
       "  </tbody>\n",
       "</table><p>\n",
       "\n",
       "    <div>\n",
       "        <style>\n",
       "            /* Turns off some styling */\n",
       "            progress {\n",
       "                /* gets rid of default border in Firefox and Opera. */\n",
       "                border: none;\n",
       "                /* Needs to be in here for Safari polyfill so background images work as expected. */\n",
       "                background-size: auto;\n",
       "            }\n",
       "            .progress-bar-interrupted, .progress-bar-interrupted::-webkit-progress-bar {\n",
       "                background: #F44336;\n",
       "            }\n",
       "        </style>\n",
       "      <progress value='45' class='' max='49' style='width:300px; height:20px; vertical-align: middle;'></progress>\n",
       "      91.84% [45/49 00:18<00:01 16.9512]\n",
       "    </div>\n",
       "    "
      ],
      "text/plain": [
       "<IPython.core.display.HTML object>"
      ]
     },
     "metadata": {},
     "output_type": "display_data"
    },
    {
     "name": "stdout",
     "output_type": "stream",
     "text": [
      "LR Finder is complete, type {learner_name}.recorder.plot() to see the graph.\n"
     ]
    },
    {
     "data": {
      "image/png": "[encoded data removed]",
      "text/plain": [
       "<Figure size 432x288 with 1 Axes>"
      ]
     },
     "metadata": {
      "needs_background": "light"
     },
     "output_type": "display_data"
    }
   ],
   "source": [
    "stage_learner = tabular_learner(stage_data, layers=[200,100], metrics=accuracy)\n",
    "stage_learner.lr_find()\n",
    "stage_learner.recorder.plot()"
   ]
  },
  {
   "cell_type": "code",
   "execution_count": 66,
   "metadata": {},
   "outputs": [
    {
     "data": {
      "text/html": [
       "<table border=\"1\" class=\"dataframe\">\n",
       "  <thead>\n",
       "    <tr style=\"text-align: left;\">\n",
       "      <th>epoch</th>\n",
       "      <th>train_loss</th>\n",
       "      <th>valid_loss</th>\n",
       "      <th>accuracy</th>\n",
       "      <th>time</th>\n",
       "    </tr>\n",
       "  </thead>\n",
       "  <tbody>\n",
       "    <tr>\n",
       "      <td>0</td>\n",
       "      <td>0.897901</td>\n",
       "      <td>2.237767</td>\n",
       "      <td>0.431755</td>\n",
       "      <td>00:37</td>\n",
       "    </tr>\n",
       "    <tr>\n",
       "      <td>1</td>\n",
       "      <td>0.784005</td>\n",
       "      <td>2.356385</td>\n",
       "      <td>0.423398</td>\n",
       "      <td>00:36</td>\n",
       "    </tr>\n",
       "  </tbody>\n",
       "</table>"
      ],
      "text/plain": [
       "<IPython.core.display.HTML object>"
      ]
     },
     "metadata": {},
     "output_type": "display_data"
    }
   ],
   "source": [
    "stage_learner.fit(2, 1e-3)"
   ]
  },
  {
   "cell_type": "code",
   "execution_count": 67,
   "metadata": {},
   "outputs": [],
   "source": [
    "stage_345 = stage_df.iloc[345]"
   ]
  },
  {
   "cell_type": "code",
   "execution_count": 68,
   "metadata": {},
   "outputs": [
    {
     "data": {
      "text/plain": [
       "subject                                                                              b2\n",
       "resource_template                                          ld4p:RT:bf2:MIBluRayDVD:Item\n",
       "http://id.loc.gov/ontologies/bibframe/heldBy                                          0\n",
       "http://id.loc.gov/ontologies/bibframe/note                                            0\n",
       "http://www.w3.org/ns/prov#wasGeneratedBy                                              0\n",
       "                                                                       ...             \n",
       "http://rdaregistry.info/Elements/w/P10223                                             0\n",
       "http://rdaregistry.info/Elements/w/P10256                                             0\n",
       "http://rdaregistry.info/Elements/e/P20001                                             0\n",
       "http://rdaregistry.info/Elements/e/P20310                                             0\n",
       "http://id.loc.gov/ontologies/bibframe/acquisitionSource                               0\n",
       "Name: 345, Length: 186, dtype: object"
      ]
     },
     "execution_count": 68,
     "metadata": {},
     "output_type": "execute_result"
    }
   ],
   "source": [
    "stage_345"
   ]
  },
  {
   "cell_type": "code",
   "execution_count": 71,
   "metadata": {},
   "outputs": [
    {
     "data": {
      "text/plain": [
       "75"
      ]
     },
     "execution_count": 71,
     "metadata": {},
     "output_type": "execute_result"
    }
   ],
   "source": [
    "len(prod_learner.data.classes)"
   ]
  },
  {
   "cell_type": "code",
   "execution_count": 72,
   "metadata": {},
   "outputs": [
    {
     "data": {
      "text/plain": [
       "300"
      ]
     },
     "execution_count": 72,
     "metadata": {},
     "output_type": "execute_result"
    }
   ],
   "source": [
    "len(stage_learner.data.classes)"
   ]
  },
  {
   "cell_type": "code",
   "execution_count": 73,
   "metadata": {},
   "outputs": [
    {
     "data": {
      "text/plain": [
       "311"
      ]
     },
     "execution_count": 73,
     "metadata": {},
     "output_type": "execute_result"
    }
   ],
   "source": [
    "len(prod_df.keys())"
   ]
  },
  {
   "cell_type": "code",
   "execution_count": 74,
   "metadata": {},
   "outputs": [
    {
     "data": {
      "text/plain": [
       "186"
      ]
     },
     "execution_count": 74,
     "metadata": {},
     "output_type": "execute_result"
    }
   ],
   "source": [
    "len(stage_df.keys())"
   ]
  },
  {
   "cell_type": "code",
   "execution_count": 75,
   "metadata": {},
   "outputs": [
    {
     "data": {
      "text/plain": [
       "['CornellSinatra45:Instance',\n",
       " 'CornellSinatra45:Work',\n",
       " 'PMO:RT:bf2:SoundRecording:Instance',\n",
       " 'PMO:RT:bf2:SoundRecording:Work',\n",
       " 'UAL:resourceTemplate:bf2:Monograph:Instance',\n",
       " 'UAL:resourceTemplate:bf2:Monograph:Instance:Un-Nested',\n",
       " 'UAL:resourceTemplate:bf2:Monograph:Item:Un-Nested',\n",
       " 'UAL:resourceTemplate:bf2:Monograph:Opus',\n",
       " 'UAL:resourceTemplate:bf2:Monograph:Opus:Un-Nested',\n",
       " 'UAL:resourceTemplate:bf2:Monograph:Work',\n",
       " 'UAL:resourceTemplate:bf2:Monograph:Work:Un-Nested',\n",
       " 'UAL:resourceTemplate:bf2:Serial:Instance',\n",
       " 'UAL:resourceTemplate:bf2:Serial:Item',\n",
       " 'UAL:resourceTemplate:bf2:Serial:Opus:Un-Nested',\n",
       " 'UAL:resourceTemplate:bf2:Serial:Work',\n",
       " 'UChicago:RT:bf2:Monograph:Instance',\n",
       " 'UChicago:RT:bf2:Monograph:Item',\n",
       " 'UChicago:RT:bf2:Monograph:Work',\n",
       " 'UMN:RT:BF2:AdminMetadata',\n",
       " 'UMN:RT:bf2:Monograph:Instance:Un-nested',\n",
       " 'UMN:RT:bf2:Monograph:Item:Un-nested',\n",
       " 'WAU:RT:BF2:BFLC:AdminMetadata',\n",
       " 'WAU:RT:RDA:Expression:dvdVideo',\n",
       " 'WAU:RT:RDA:Expression:monograph',\n",
       " 'WAU:RT:RDA:Item:graphic',\n",
       " 'WAU:RT:RDA:Item:monograph',\n",
       " 'WAU:RT:RDA:Manifestation:dvdVideo',\n",
       " 'WAU:RT:RDA:Manifestation:eBook',\n",
       " 'WAU:RT:RDA:Manifestation:monograph',\n",
       " 'WAU:RT:RDA:Manifestation:serial',\n",
       " 'WAU:RT:RDA:Work:eBook',\n",
       " 'WAU:RT:RDA:Work:etd',\n",
       " 'WAU:RT:RDA:Work:monograph',\n",
       " 'WAU:RT:RDA:Work:serial',\n",
       " 'WAU:RT:RDA:Work:soundRecording',\n",
       " 'Yale:RT:ARM:BoundWith:CtY',\n",
       " 'Yale:RT:ARM:BoundWith:CtY-BR',\n",
       " 'Yale:RT:ARM:Enclosure:CtY',\n",
       " 'Yale:RT:ARM:Enclosure:CtY-BR',\n",
       " 'Yale:RT:ARM:Enclosure:Item:CtY',\n",
       " 'Yale:RT:BF2:Event:CtY',\n",
       " 'Yale:RT:BF2:Monograph:Instance:CtY',\n",
       " 'Yale:RT:BF2:Monograph:Instance:CtY-BR',\n",
       " 'Yale:RT:BF2:Monograph:Item-CtY',\n",
       " 'Yale:RT:BF2:Monograph:Item-CtY-BR',\n",
       " 'Yale:RT:BF2:Monograph:Item-CtY-BR:Nested:BoundWith',\n",
       " 'Yale:RT:BF2:Monograph:Item-CtY:Nested:BoundWith',\n",
       " 'Yale:RT:BF2:Monograph:SuperWork:CtY',\n",
       " 'Yale:RT:BF2:Monograph:SuperWork:CtY-BR',\n",
       " 'Yale:RT:BF2:Monograph:Work:CtY',\n",
       " 'Yale:RT:BF2:Monograph:Work:CtY-BR',\n",
       " 'Yale:RT:BF2:Series:Work',\n",
       " 'Yale:RT:BF2:Series:Work:CtY',\n",
       " 'Yale:RT:BF2:Series:Work:CtY-BR',\n",
       " 'ld4p:RT:bf2:AdminMetadata',\n",
       " 'ld4p:RT:bf2:Monograph:Instance',\n",
       " 'ld4p:RT:bf2:Monograph:Instance:Un-nested',\n",
       " 'ld4p:RT:bf2:Monograph:Item',\n",
       " 'ld4p:RT:bf2:Monograph:Item:Un-nested',\n",
       " 'ld4p:RT:bf2:Monograph:Work',\n",
       " 'ld4p:RT:bf2:Monograph:Work:Un-nested',\n",
       " 'ld4p:RT:bf2:NotatedMusic:Instance:Un-nested',\n",
       " 'ld4p:RT:bf2:NotatedMusic:Work:Un-nested',\n",
       " 'ld4p:RT:bf2:RareMat:Item',\n",
       " 'ld4p:RT:bf2:RareMat:Work',\n",
       " 'ld4p:RT:bf2:Serial:Instance',\n",
       " 'ld4p:RT:bf2:Serial:Instance:Un-nested',\n",
       " 'ld4p:RT:bf2:Serial:Work',\n",
       " 'ld4p:RT:bf2:Serial:Work:Un-nested',\n",
       " 'nlm:RT:bf2:AdminMetadata',\n",
       " 'sinopia:resourceTemplate:bf2:Identifiers:Copyright',\n",
       " 'sinopia:resourceTemplate:bf2:Item:Access',\n",
       " 'sinopia:resourceTemplate:bf2:WorkVariantTitle',\n",
       " 'sinopia:resourceTemplate:schema:Thing',\n",
       " 'stanford:RT:BF2:AdminMetadata']"
      ]
     },
     "execution_count": 75,
     "metadata": {},
     "output_type": "execute_result"
    }
   ],
   "source": [
    "prod_learner.data.classes"
   ]
  },
  {
   "cell_type": "code",
   "execution_count": 87,
   "metadata": {},
   "outputs": [
    {
     "data": {
      "text/plain": [
       "75"
      ]
     },
     "execution_count": 87,
     "metadata": {},
     "output_type": "execute_result"
    }
   ],
   "source": [
    "len(prod_data.classes)"
   ]
  },
  {
   "cell_type": "code",
   "execution_count": 88,
   "metadata": {},
   "outputs": [
    {
     "data": {
      "text/plain": [
       "300"
      ]
     },
     "execution_count": 88,
     "metadata": {},
     "output_type": "execute_result"
    }
   ],
   "source": [
    "len(stage_data.classes)"
   ]
  },
  {
   "cell_type": "code",
   "execution_count": null,
   "metadata": {},
   "outputs": [],
   "source": []
  }
 ],
 "metadata": {
  "kernelspec": {
   "display_name": "Python 3",
   "language": "python",
   "name": "python3"
  },
  "language_info": {
   "codemirror_mode": {
    "name": "ipython",
    "version": 3
   },
   "file_extension": ".py",
   "mimetype": "text/x-python",
   "name": "python",
   "nbconvert_exporter": "python",
   "pygments_lexer": "ipython3",
   "version": "3.8.1"
  }
 },
 "nbformat": 4,
 "nbformat_minor": 4
}
