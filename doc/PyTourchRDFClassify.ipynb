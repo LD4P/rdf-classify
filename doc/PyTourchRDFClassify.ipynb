{
 "cells": [
  {
   "cell_type": "code",
   "execution_count": 17,
   "metadata": {},
   "outputs": [],
   "source": [
    "import datetime\n",
    "import sys\n",
    "import string\n",
    "import torch\n",
    "sys.path.append(\"../\")\n",
    "import rdf_classify.extract as extract\n",
    "import rdf_classify.load as load"
   ]
  },
  {
   "cell_type": "code",
   "execution_count": 4,
   "metadata": {},
   "outputs": [
    {
     "name": "stdout",
     "output_type": "stream",
     "text": [
      "Failed to parse sinopia_export_all_2020-02-02T00:01:16.216Z/tamu_2020-02-02T00:01:20.532Z/complete.log\n",
      "Failed to parse sinopia_export_all_2020-02-02T00:01:16.216Z/washington_2020-02-02T00:01:18.182Z/complete.log\n",
      "Failed to parse sinopia_export_all_2020-02-02T00:01:16.216Z/hrc_2020-02-02T00:01:16.408Z/complete.log\n",
      "Failed to parse sinopia_export_all_2020-02-02T00:01:16.216Z/alberta_2020-02-02T00:01:18.044Z/complete.log\n",
      "Failed to parse sinopia_export_all_2020-02-02T00:01:16.216Z/ucsd_2020-02-02T00:01:19.861Z/complete.log\n",
      "Failed to parse sinopia_export_all_2020-02-02T00:01:16.216Z/boulder_2020-02-02T00:01:17.149Z/complete.log\n",
      "Failed to parse sinopia_export_all_2020-02-02T00:01:16.216Z/minnesota_2020-02-02T00:01:17.268Z/complete.log\n",
      "Failed to parse sinopia_export_all_2020-02-02T00:01:16.216Z/pcc_2020-02-02T00:01:16.575Z/complete.log\n",
      "Failed to parse sinopia_export_all_2020-02-02T00:01:16.216Z/princeton_2020-02-02T00:01:20.598Z/complete.log\n",
      "Failed to parse sinopia_export_all_2020-02-02T00:01:16.216Z/ucdavis_2020-02-02T00:01:20.064Z/complete.log\n",
      "Failed to parse sinopia_export_all_2020-02-02T00:01:16.216Z/ld4p_2020-02-02T00:01:16.657Z/complete.log\n",
      "Failed to parse sinopia_export_all_2020-02-02T00:01:16.216Z/dlc_2020-02-02T00:01:20.460Z/complete.log\n",
      "Failed to parse sinopia_export_all_2020-02-02T00:01:16.216Z/yale_2020-02-02T00:01:16.294Z/complete.log\n",
      "Failed to parse sinopia_export_all_2020-02-02T00:01:16.216Z/complete.log\n",
      "Failed to parse sinopia_export_all_2020-02-02T00:01:16.216Z/northwestern_2020-02-02T00:01:20.261Z/complete.log\n",
      "Failed to parse sinopia_export_all_2020-02-02T00:01:16.216Z/stanford_2020-02-02T00:01:17.423Z/complete.log\n",
      "Failed to parse sinopia_export_all_2020-02-02T00:01:16.216Z/cornell_2020-02-02T00:01:20.662Z/complete.log\n",
      "Failed to parse sinopia_export_all_2020-02-02T00:01:16.216Z/harvard_2020-02-02T00:01:21.719Z/complete.log\n",
      "Failed to parse sinopia_export_all_2020-02-02T00:01:16.216Z/chicago_2020-02-02T00:01:20.395Z/complete.log\n",
      "Failed to parse sinopia_export_all_2020-02-02T00:01:16.216Z/michigan_2020-02-02T00:01:16.297Z/complete.log\n"
     ]
    }
   ],
   "source": [
    "dev_graphs = rdf_classify.extract.from_zipfile(\"../data/input/sinopia_export_dev_all_2020-02-02T00_01_16.216Z.zip\")"
   ]
  },
  {
   "cell_type": "code",
   "execution_count": 5,
   "metadata": {},
   "outputs": [],
   "source": [
    "def unicodeToAscii(s):\n",
    "    return ''.join(\n",
    "        c for c in unicodedata.normalize('NFD', s)\n",
    "        if unicodedata.category(c) != 'Mn'\n",
    "        and c in all_letters\n",
    "    )"
   ]
  },
  {
   "cell_type": "code",
   "execution_count": 7,
   "metadata": {},
   "outputs": [],
   "source": [
    "resource_templates = {}\n",
    "for graph in dev_graphs:\n",
    "    rt_query = graph.query(\"\"\"SELECT ?subj ?resource_template WHERE {\n",
    " ?subj <http://sinopia.io/vocabulary/hasResourceTemplate> ?resource_template\n",
    "}\"\"\")\n",
    "    for row in rt_query:\n",
    "        subject, rt_key = str(row[0]), str(row[1]) # Ugly\n",
    "        if not rt_key in resource_templates:\n",
    "            resource_templates[rt_key] = {}\n",
    "        for predicate in graph.predicates(subject=row[0]):\n",
    "            pred_key = str(predicate)\n",
    "            if pred_key in resource_templates[rt_key]:\n",
    "                resource_templates[rt_key][pred_key] += 1\n",
    "            else:\n",
    "                resource_templates[rt_key][pred_key] = 1"
   ]
  },
  {
   "cell_type": "code",
   "execution_count": 22,
   "metadata": {},
   "outputs": [],
   "source": [
    "VALID_URL = \"ABCDEFGHIJKLMNOPQRSTUVWXYZabcdefghijklmnopqrstuvwxyz0123456789-._~:/?#[]@!$&'()*+,;=\""
   ]
  },
  {
   "cell_type": "code",
   "execution_count": 30,
   "metadata": {},
   "outputs": [],
   "source": [
    "def uri_to_matrix(uri):\n",
    "    matrix = []\n",
    "    for char in uri:\n",
    "        position = VALID_URL.find(char)\n",
    "        if position < 0:\n",
    "            continue # Ignore for now\n",
    "        for i in range(0, len(VALID_URL)):\n",
    "            if i == position:\n",
    "                vector.append(1.0)\n",
    "            else:\n",
    "                vector.append(0.0)\n",
    "        \n",
    "        matrix.append(vector)\n",
    "    return matrix"
   ]
  },
  {
   "cell_type": "code",
   "execution_count": 32,
   "metadata": {},
   "outputs": [],
   "source": [
    "uri_matrix = uri_to_matrix('http://example.com/')"
   ]
  },
  {
   "cell_type": "code",
   "execution_count": 34,
   "metadata": {},
   "outputs": [
    {
     "data": {
      "text/plain": [
       "[0.0,\n",
       " 0.0,\n",
       " 0.0,\n",
       " 0.0,\n",
       " 0.0,\n",
       " 0.0,\n",
       " 0.0,\n",
       " 0.0,\n",
       " 0.0,\n",
       " 0.0,\n",
       " 0.0,\n",
       " 0.0,\n",
       " 0.0,\n",
       " 0.0,\n",
       " 0.0,\n",
       " 0.0,\n",
       " 0.0,\n",
       " 0.0,\n",
       " 0.0,\n",
       " 0.0,\n",
       " 0.0,\n",
       " 0.0,\n",
       " 0.0,\n",
       " 0.0,\n",
       " 0.0,\n",
       " 0.0,\n",
       " 0.0,\n",
       " 0.0,\n",
       " 0.0,\n",
       " 0.0,\n",
       " 0.0,\n",
       " 0.0,\n",
       " 0.0,\n",
       " 0.0,\n",
       " 0.0,\n",
       " 0.0,\n",
       " 0.0,\n",
       " 0.0,\n",
       " 0.0,\n",
       " 0.0,\n",
       " 0.0,\n",
       " 0.0,\n",
       " 0.0,\n",
       " 0.0,\n",
       " 0.0,\n",
       " 1.0,\n",
       " 0.0,\n",
       " 0.0,\n",
       " 0.0,\n",
       " 0.0,\n",
       " 0.0,\n",
       " 0.0,\n",
       " 0.0,\n",
       " 0.0,\n",
       " 0.0,\n",
       " 0.0,\n",
       " 0.0,\n",
       " 0.0,\n",
       " 0.0,\n",
       " 0.0,\n",
       " 0.0,\n",
       " 0.0,\n",
       " 0.0,\n",
       " 0.0,\n",
       " 0.0,\n",
       " 0.0,\n",
       " 0.0,\n",
       " 0.0,\n",
       " 0.0,\n",
       " 0.0,\n",
       " 0.0,\n",
       " 0.0,\n",
       " 0.0,\n",
       " 0.0,\n",
       " 0.0,\n",
       " 0.0,\n",
       " 0.0,\n",
       " 0.0,\n",
       " 0.0,\n",
       " 0.0,\n",
       " 0.0,\n",
       " 0.0,\n",
       " 0.0,\n",
       " 0.0]"
      ]
     },
     "execution_count": 34,
     "metadata": {},
     "output_type": "execute_result"
    }
   ],
   "source": [
    "uri_matrix[1]"
   ]
  },
  {
   "cell_type": "code",
   "execution_count": 10,
   "metadata": {},
   "outputs": [],
   "source": [
    "def letterToIndex(letter):\n",
    "    return all_letters.find(letter)"
   ]
  },
  {
   "cell_type": "code",
   "execution_count": 11,
   "metadata": {},
   "outputs": [],
   "source": [
    "def uri_to_tensor(uri):\n",
    "    tensor = torch.zeros(len(uri), 1, len(valid_url))\n",
    "    for i, char in enumerate(uri):\n",
    "        value_offset = valid_url.find(char)\n",
    "        if value_offset < 0:\n",
    "            raise ValueError(f\"{char} not found in valid URL characters\")\n",
    "        tensor[i][0][value_offset] = 1\n",
    "    return tensor\n",
    "        "
   ]
  },
  {
   "cell_type": "code",
   "execution_count": 13,
   "metadata": {},
   "outputs": [
    {
     "data": {
      "text/plain": [
       "torch.Size([19, 1, 84])"
      ]
     },
     "execution_count": 13,
     "metadata": {},
     "output_type": "execute_result"
    }
   ],
   "source": [
    "uri_to_tensor(\"http://example.com/\").size()"
   ]
  },
  {
   "cell_type": "code",
   "execution_count": null,
   "metadata": {},
   "outputs": [],
   "source": [
    "import torch.nn as nn\n",
    "\n"
   ]
  }
 ],
 "metadata": {
  "kernelspec": {
   "display_name": "Python 3",
   "language": "python",
   "name": "python3"
  },
  "language_info": {
   "codemirror_mode": {
    "name": "ipython",
    "version": 3
   },
   "file_extension": ".py",
   "mimetype": "text/x-python",
   "name": "python",
   "nbconvert_exporter": "python",
   "pygments_lexer": "ipython3",
   "version": "3.7.0"
  }
 },
 "nbformat": 4,
 "nbformat_minor": 4
}
