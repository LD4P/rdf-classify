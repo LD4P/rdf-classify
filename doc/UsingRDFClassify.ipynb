{
 "cells": [
  {
   "cell_type": "markdown",
   "metadata": {},
   "source": [
    "# Using RDF Classify"
   ]
  },
  {
   "cell_type": "markdown",
   "metadata": {},
   "source": [
    "## Setup "
   ]
  },
  {
   "cell_type": "code",
   "execution_count": 1,
   "metadata": {},
   "outputs": [],
   "source": [
    "import json\n",
    "import random\n",
    "import rdflib\n",
    "import sys\n",
    "\n",
    "import pandas as pd\n",
    "from datetime import datetime\n",
    "from zipfile import ZipFile\n",
    "sys.path.append(\"../\")\n",
    "from rdf_classify import extract\n",
    "from rdf_classify import load"
   ]
  },
  {
   "cell_type": "markdown",
   "metadata": {},
   "source": [
    "## Extracting RDF Entity Graphs\n",
    "\n",
    "The `extract.from_zipfile` function takes the path to the exported Sinopia entities zip file and a list of any types of resources to exclude (like the JSON resource templates) parses the JSON-LD of each entity into a separate graph returning a list of the graphs."
   ]
  },
  {
   "cell_type": "code",
   "execution_count": 2,
   "metadata": {},
   "outputs": [
    {
     "name": "stdout",
     "output_type": "stream",
     "text": [
      "Failed to parse sinopia_export_all_2020-02-16T00:01:12.329Z/cornell_2020-02-16T00:01:14.654Z/complete.log\n",
      "Failed to parse sinopia_export_all_2020-02-16T00:01:12.329Z/pcc_2020-02-16T00:01:12.553Z/complete.log\n",
      "Failed to parse sinopia_export_all_2020-02-16T00:01:12.329Z/princeton_2020-02-16T00:01:14.603Z/complete.log\n",
      "Failed to parse sinopia_export_all_2020-02-16T00:01:12.329Z/harvard_2020-02-16T00:01:15.538Z/complete.log\n",
      "Failed to parse sinopia_export_all_2020-02-16T00:01:12.329Z/hrc_2020-02-16T00:01:12.468Z/complete.log\n",
      "Failed to parse sinopia_export_all_2020-02-16T00:01:12.329Z/tamu_2020-02-16T00:01:14.555Z/complete.log\n",
      "Failed to parse sinopia_export_all_2020-02-16T00:01:12.329Z/alberta_2020-02-16T00:01:13.169Z/complete.log\n",
      "Failed to parse sinopia_export_all_2020-02-16T00:01:12.329Z/dlc_2020-02-16T00:01:14.499Z/complete.log\n",
      "Failed to parse sinopia_export_all_2020-02-16T00:01:12.329Z/ucdavis_2020-02-16T00:01:14.293Z/complete.log\n",
      "Failed to parse sinopia_export_all_2020-02-16T00:01:12.329Z/northwestern_2020-02-16T00:01:14.393Z/complete.log\n",
      "Failed to parse sinopia_export_all_2020-02-16T00:01:12.329Z/minnesota_2020-02-16T00:01:12.806Z/complete.log\n",
      "Failed to parse sinopia_export_all_2020-02-16T00:01:12.329Z/complete.log\n",
      "Failed to parse sinopia_export_all_2020-02-16T00:01:12.329Z/boulder_2020-02-16T00:01:12.751Z/complete.log\n",
      "Failed to parse sinopia_export_all_2020-02-16T00:01:12.329Z/chicago_2020-02-16T00:01:14.447Z/complete.log\n",
      "Failed to parse sinopia_export_all_2020-02-16T00:01:12.329Z/stanford_2020-02-16T00:01:12.864Z/complete.log\n",
      "Failed to parse sinopia_export_all_2020-02-16T00:01:12.329Z/washington_2020-02-16T00:01:13.288Z/complete.log\n",
      "Failed to parse sinopia_export_all_2020-02-16T00:01:12.329Z/yale_2020-02-16T00:01:12.368Z/complete.log\n",
      "Failed to parse sinopia_export_all_2020-02-16T00:01:12.329Z/ucsd_2020-02-16T00:01:14.203Z/complete.log\n",
      "Failed to parse sinopia_export_all_2020-02-16T00:01:12.329Z/michigan_2020-02-16T00:01:12.365Z/complete.log\n",
      "Failed to parse sinopia_export_all_2020-02-16T00:01:12.329Z/ld4p_2020-02-16T00:01:12.580Z/complete.log\n"
     ]
    }
   ],
   "source": [
    "dev_graphs = extract.from_zipfile(\"../data/input/sinopia_export_dev_all_2020-02-16T00_01_12.329Z.zip\")"
   ]
  },
  {
   "cell_type": "code",
   "execution_count": 3,
   "metadata": {},
   "outputs": [
    {
     "data": {
      "text/plain": [
       "718"
      ]
     },
     "execution_count": 3,
     "metadata": {},
     "output_type": "execute_result"
    }
   ],
   "source": [
    "len(dev_graphs)"
   ]
  },
  {
   "cell_type": "code",
   "execution_count": 4,
   "metadata": {},
   "outputs": [
    {
     "name": "stdout",
     "output_type": "stream",
     "text": [
      "Failed to parse sinopia_export_all_2020-02-16T00:02:21.232Z/ld4p_2020-02-16T00:02:32.898Z/complete.log\n",
      "Failed to parse sinopia_export_all_2020-02-16T00:02:21.232Z/minnesota_2020-02-16T00:02:21.937Z/complete.log\n",
      "Failed to parse sinopia_export_all_2020-02-16T00:02:21.232Z/frick_2020-02-16T00:02:28.197Z/complete.log\n",
      "Failed to parse sinopia_export_all_2020-02-16T00:02:21.232Z/ucdavis_2020-02-16T00:02:22.924Z/complete.log\n",
      "Failed to parse sinopia_export_all_2020-02-16T00:02:21.232Z/penn_2020-02-16T00:02:25.887Z/complete.log\n",
      "Failed to parse sinopia_export_all_2020-02-16T00:02:21.232Z/cornell_2020-02-16T00:02:21.275Z/complete.log\n",
      "Failed to parse sinopia_export_all_2020-02-16T00:02:21.232Z/pcc_2020-02-16T00:02:22.265Z/complete.log\n",
      "Failed to parse sinopia_export_all_2020-02-16T00:02:21.232Z/boulder_2020-02-16T00:02:23.601Z/complete.log\n",
      "Failed to parse sinopia_export_all_2020-02-16T00:02:21.232Z/alberta_2020-02-16T00:02:24.865Z/complete.log\n",
      "Failed to parse sinopia_export_all_2020-02-16T00:02:21.232Z/ucsd_2020-02-16T00:02:21.273Z/complete.log\n",
      "Failed to parse sinopia_export_all_2020-02-16T00:02:21.232Z/washington_2020-02-16T00:02:23.918Z/complete.log\n",
      "Failed to parse sinopia_export_all_2020-02-16T00:02:21.232Z/harvard_2020-02-16T00:02:22.565Z/complete.log\n",
      "Failed to parse sinopia_export_all_2020-02-16T00:02:21.232Z/princeton_2020-02-16T00:02:26.545Z/complete.log\n",
      "Failed to parse sinopia_export_all_2020-02-16T00:02:21.232Z/tamu_2020-02-16T00:02:26.849Z/complete.log\n",
      "Failed to parse sinopia_export_all_2020-02-16T00:02:21.232Z/yale_2020-02-16T00:02:27.405Z/complete.log\n",
      "Failed to parse sinopia_export_all_2020-02-16T00:02:21.232Z/stanford_2020-02-16T00:02:24.393Z/complete.log\n",
      "Failed to parse sinopia_export_all_2020-02-16T00:02:21.232Z/complete.log\n",
      "Failed to parse sinopia_export_all_2020-02-16T00:02:21.232Z/duke_2020-02-16T00:02:34.534Z/complete.log\n",
      "Failed to parse sinopia_export_all_2020-02-16T00:02:21.232Z/michigan_2020-02-16T00:02:24.771Z/complete.log\n",
      "Failed to parse sinopia_export_all_2020-02-16T00:02:21.232Z/chicago_2020-02-16T00:02:24.035Z/complete.log\n",
      "Failed to parse sinopia_export_all_2020-02-16T00:02:21.232Z/dlc_2020-02-16T00:02:26.761Z/complete.log\n",
      "Failed to parse sinopia_export_all_2020-02-16T00:02:21.232Z/nlm_2020-02-16T00:02:23.954Z/complete.log\n",
      "Failed to parse sinopia_export_all_2020-02-16T00:02:21.232Z/hrc_2020-02-16T00:02:34.596Z/complete.log\n",
      "Failed to parse sinopia_export_all_2020-02-16T00:02:21.232Z/northwestern_2020-02-16T00:02:25.758Z/complete.log\n"
     ]
    }
   ],
   "source": [
    "stage_graphs = extract.from_zipfile(\"../data/input/sinopia_export_stage_all_2020-02-16T00_02_21.232Z.zip\")"
   ]
  },
  {
   "cell_type": "code",
   "execution_count": 5,
   "metadata": {},
   "outputs": [
    {
     "data": {
      "text/plain": [
       "2551"
      ]
     },
     "execution_count": 5,
     "metadata": {},
     "output_type": "execute_result"
    }
   ],
   "source": [
    "len(stage_graphs)"
   ]
  },
  {
   "cell_type": "code",
   "execution_count": 9,
   "metadata": {},
   "outputs": [
    {
     "name": "stdout",
     "output_type": "stream",
     "text": [
      "Failed to parse sinopia_export_all_2020-02-16T00:01:56.829Z/washington_2020-02-16T00:01:57.936Z/complete.log\n",
      "Failed to parse sinopia_export_all_2020-02-16T00:01:56.829Z/harvard_2020-02-16T00:02:02.310Z/complete.log\n",
      "Failed to parse sinopia_export_all_2020-02-16T00:01:56.829Z/cornell_2020-02-16T00:01:56.871Z/complete.log\n",
      "Failed to parse sinopia_export_all_2020-02-16T00:01:56.829Z/dlc_2020-02-16T00:01:56.875Z/complete.log\n",
      "Failed to parse sinopia_export_all_2020-02-16T00:01:56.829Z/yale_2020-02-16T00:02:03.799Z/complete.log\n",
      "Failed to parse sinopia_export_all_2020-02-16T00:01:56.829Z/penn_2020-02-16T00:02:03.720Z/complete.log\n",
      "Failed to parse sinopia_export_all_2020-02-16T00:01:56.829Z/chicago_2020-02-16T00:01:57.626Z/complete.log\n",
      "Failed to parse sinopia_export_all_2020-02-16T00:01:56.829Z/ld4p_2020-02-16T00:01:59.694Z/complete.log\n",
      "Failed to parse sinopia_export_all_2020-02-16T00:01:56.829Z/ucdavis_2020-02-16T00:01:57.336Z/complete.log\n",
      "Failed to parse sinopia_export_all_2020-02-16T00:01:56.829Z/alberta_2020-02-16T00:01:57.643Z/complete.log\n",
      "Failed to parse sinopia_export_all_2020-02-16T00:01:56.829Z/pcc_2020-02-16T00:02:03.545Z/complete.log\n",
      "Failed to parse sinopia_export_all_2020-02-16T00:01:56.829Z/northwestern_2020-02-16T00:02:02.544Z/complete.log\n",
      "Failed to parse sinopia_export_all_2020-02-16T00:01:56.829Z/complete.log\n",
      "Failed to parse sinopia_export_all_2020-02-16T00:01:56.829Z/stanford_2020-02-16T00:01:59.611Z/complete.log\n",
      "Failed to parse sinopia_export_all_2020-02-16T00:01:56.829Z/duke_2020-02-16T00:02:02.445Z/complete.log\n",
      "Failed to parse sinopia_export_all_2020-02-16T00:01:56.829Z/minnesota_2020-02-16T00:02:02.715Z/complete.log\n",
      "Failed to parse sinopia_export_all_2020-02-16T00:01:56.829Z/princeton_2020-02-16T00:01:57.011Z/complete.log\n",
      "1233\n"
     ]
    }
   ],
   "source": [
    "prod_graphs = extract.from_zipfile(\"../data/input/sinopia_export_all_2020-02-16T00_01_56.829Z.zip\")\n",
    "print(f\"{len(prod_graphs)}\")"
   ]
  },
  {
   "cell_type": "code",
   "execution_count": 8,
   "metadata": {},
   "outputs": [
    {
     "name": "stdout",
     "output_type": "stream",
     "text": [
      "http://rdlib.net/.well-known/genid/rdflib/b0\n",
      "http://rdlib.net/.well-known/genid/rdflib/b2\n",
      "http://rdlib.net/.well-known/genid/rdflib/b1\n",
      "http://rdlib.net/.well-known/genid/rdflib/b0\n",
      "http://rdlib.net/.well-known/genid/rdflib/b0\n",
      "http://rdlib.net/.well-known/genid/rdflib/b0\n",
      "http://rdlib.net/.well-known/genid/rdflib/b0\n",
      "http://rdlib.net/.well-known/genid/rdflib/b0\n",
      "http://rdlib.net/.well-known/genid/rdflib/b2\n",
      "http://rdlib.net/.well-known/genid/rdflib/b2\n",
      "http://rdlib.net/.well-known/genid/rdflib/b0\n",
      "http://rdlib.net/.well-known/genid/rdflib/b0\n",
      "http://rdlib.net/.well-known/genid/rdflib/b1\n",
      "http://rdlib.net/.well-known/genid/rdflib/b2\n"
     ]
    }
   ],
   "source": []
  },
  {
   "cell_type": "code",
   "execution_count": 19,
   "metadata": {},
   "outputs": [
    {
     "name": "stdout",
     "output_type": "stream",
     "text": [
      "Failed to parse sinopia_export_all_2020-01-19T00:01:10.700Z/ucdavis_2020-01-19T00:01:12.515Z/complete.log\n",
      "Failed to parse sinopia_export_all_2020-01-19T00:01:10.700Z/boulder_2020-01-19T00:01:11.088Z/complete.log\n",
      "Failed to parse sinopia_export_all_2020-01-19T00:01:10.700Z/pcc_2020-01-19T00:01:10.894Z/complete.log\n",
      "Failed to parse sinopia_export_all_2020-01-19T00:01:10.700Z/cornell_2020-01-19T00:01:12.963Z/complete.log\n",
      "Failed to parse sinopia_export_all_2020-01-19T00:01:10.700Z/dlc_2020-01-19T00:01:12.788Z/complete.log\n",
      "Failed to parse sinopia_export_all_2020-01-19T00:01:10.700Z/harvard_2020-01-19T00:01:14.013Z/complete.log\n",
      "Failed to parse sinopia_export_all_2020-01-19T00:01:10.700Z/chicago_2020-01-19T00:01:12.732Z/complete.log\n",
      "Failed to parse sinopia_export_all_2020-01-19T00:01:10.700Z/alberta_2020-01-19T00:01:11.428Z/complete.log\n",
      "Failed to parse sinopia_export_all_2020-01-19T00:01:10.700Z/ucsd_2020-01-19T00:01:12.437Z/complete.log\n",
      "Failed to parse sinopia_export_all_2020-01-19T00:01:10.700Z/princeton_2020-01-19T00:01:12.899Z/complete.log\n",
      "Failed to parse sinopia_export_all_2020-01-19T00:01:10.700Z/northwestern_2020-01-19T00:01:12.622Z/complete.log\n",
      "Failed to parse sinopia_export_all_2020-01-19T00:01:10.700Z/hrc_2020-01-19T00:01:10.810Z/complete.log\n",
      "Failed to parse sinopia_export_all_2020-01-19T00:01:10.700Z/complete.log\n",
      "Failed to parse sinopia_export_all_2020-01-19T00:01:10.700Z/minnesota_2020-01-19T00:01:11.137Z/complete.log\n",
      "Failed to parse sinopia_export_all_2020-01-19T00:01:10.700Z/tamu_2020-01-19T00:01:12.844Z/complete.log\n",
      "Failed to parse sinopia_export_all_2020-01-19T00:01:10.700Z/stanford_2020-01-19T00:01:11.191Z/complete.log\n",
      "Failed to parse sinopia_export_all_2020-01-19T00:01:10.700Z/michigan_2020-01-19T00:01:10.728Z/complete.log\n",
      "Failed to parse sinopia_export_all_2020-01-19T00:01:10.700Z/washington_2020-01-19T00:01:11.509Z/complete.log\n",
      "Failed to parse sinopia_export_all_2020-01-19T00:01:10.700Z/yale_2020-01-19T00:01:10.730Z/complete.log\n"
     ]
    }
   ],
   "source": [
    "dev_graph = extract_graphs(\"../data/input/sinopia_export_dev_all_2020-01-19T00_01_10.700Z.zip\")"
   ]
  },
  {
   "cell_type": "code",
   "execution_count": 40,
   "metadata": {},
   "outputs": [],
   "source": [
    "resource_templates = {}\n",
    "for graph in dev_graph:\n",
    "    rt_query = graph.query(\"\"\"SELECT ?subj ?resource_template WHERE {\n",
    " ?subj <http://sinopia.io/vocabulary/hasResourceTemplate> ?resource_template\n",
    "}\"\"\")\n",
    "    for row in rt_query:\n",
    "        rt_key = str(row[1])\n",
    "        if not rt_key in resource_templates:\n",
    "            resource_templates[rt_key] = {}\n",
    "        for predicate in graph.predicates(subject=row[0]):\n",
    "            pred_key = str(predicate)\n",
    "            if pred_key in resource_templates[rt_key]:\n",
    "                resource_templates[rt_key][pred_key] += 1\n",
    "            else:\n",
    "                resource_templates[rt_key][pred_key] = 1\n",
    "    "
   ]
  },
  {
   "cell_type": "code",
   "execution_count": 42,
   "metadata": {},
   "outputs": [
    {
     "data": {
      "text/plain": [
       "http://www.w3.org/1999/02/22-rdf-syntax-ns#type     17\n",
       "http://id.loc.gov/ontologies/bibframe/mainTitle     17\n",
       "http://sinopia.io/vocabulary/hasResourceTemplate    17\n",
       "http://www.w3.org/ns/prov#wasGeneratedBy            18\n",
       "http://id.loc.gov/ontologies/bibframe/partNumber     1\n",
       "dtype: int64"
      ]
     },
     "execution_count": 42,
     "metadata": {},
     "output_type": "execute_result"
    }
   ],
   "source": [
    "pd.Series(resource_templates['ld4p:RT:bf2:WorkTitle'])"
   ]
  },
  {
   "cell_type": "code",
   "execution_count": 4,
   "metadata": {},
   "outputs": [
    {
     "ename": "NameError",
     "evalue": "name 'dev_graphs' is not defined",
     "output_type": "error",
     "traceback": [
      "\u001b[0;31m---------------------------------------------------------------------------\u001b[0m",
      "\u001b[0;31mNameError\u001b[0m                                 Traceback (most recent call last)",
      "\u001b[0;32m<ipython-input-4-5cab849c635c>\u001b[0m in \u001b[0;36m<module>\u001b[0;34m\u001b[0m\n\u001b[0;32m----> 1\u001b[0;31m resource_templates = dev_graphs.query(\"\"\"SELECT ?resource_template WHERE {\n\u001b[0m\u001b[1;32m      2\u001b[0m  \u001b[0;31m?\u001b[0m\u001b[0msubj\u001b[0m \u001b[0;34m<\u001b[0m\u001b[0mhttp\u001b[0m\u001b[0;34m:\u001b[0m\u001b[0;34m//\u001b[0m\u001b[0msinopia\u001b[0m\u001b[0;34m.\u001b[0m\u001b[0mio\u001b[0m\u001b[0;34m/\u001b[0m\u001b[0mvocabulary\u001b[0m\u001b[0;34m/\u001b[0m\u001b[0mhasResourceTemplate\u001b[0m\u001b[0;34m>\u001b[0m\u001b[0;31m \u001b[0m\u001b[0;31m?\u001b[0m\u001b[0mresource_template\u001b[0m\u001b[0;34m\u001b[0m\u001b[0m\n\u001b[1;32m      3\u001b[0m }\"\"\")\n",
      "\u001b[0;31mNameError\u001b[0m: name 'dev_graphs' is not defined"
     ]
    }
   ],
   "source": [
    "resource_templates = dev_graphs.query(\"\"\"SELECT ?resource_template WHERE {\n",
    " ?subj <http://sinopia.io/vocabulary/hasResourceTemplate> ?resource_template\n",
    "}\"\"\")"
   ]
  },
  {
   "cell_type": "code",
   "execution_count": 3,
   "metadata": {},
   "outputs": [
    {
     "ename": "NameError",
     "evalue": "name 'resource_templates' is not defined",
     "output_type": "error",
     "traceback": [
      "\u001b[0;31m---------------------------------------------------------------------------\u001b[0m",
      "\u001b[0;31mNameError\u001b[0m                                 Traceback (most recent call last)",
      "\u001b[0;32m<ipython-input-3-f5cf4b54aa93>\u001b[0m in \u001b[0;36m<module>\u001b[0;34m\u001b[0m\n\u001b[0;32m----> 1\u001b[0;31m \u001b[0;32mfor\u001b[0m \u001b[0mrow\u001b[0m \u001b[0;32min\u001b[0m \u001b[0mresource_templates\u001b[0m\u001b[0;34m:\u001b[0m\u001b[0;34m\u001b[0m\u001b[0m\n\u001b[0m\u001b[1;32m      2\u001b[0m     \u001b[0mprint\u001b[0m\u001b[0;34m(\u001b[0m\u001b[0mrow\u001b[0m\u001b[0;34m)\u001b[0m\u001b[0;34m\u001b[0m\u001b[0m\n",
      "\u001b[0;31mNameError\u001b[0m: name 'resource_templates' is not defined"
     ]
    }
   ],
   "source": [
    "for row in resource_templates:\n",
    "    print(row)"
   ]
  },
  {
   "cell_type": "markdown",
   "metadata": {},
   "source": [
    "Original size 9512 triples, current triples are 9680"
   ]
  },
  {
   "cell_type": "code",
   "execution_count": 19,
   "metadata": {},
   "outputs": [
    {
     "name": "stdout",
     "output_type": "stream",
     "text": [
      "b0 http://www.w3.org/1999/02/22-rdf-syntax-ns#_5\n",
      "https://trellis.development.sinopia.io/repository/yale/135a9f82-38ab-4b28-9879-a3dee13a78bc http://www.w3.org/1999/02/22-rdf-syntax-ns#type\n",
      "b0 http://www.w3.org/1999/02/22-rdf-syntax-ns#_2\n",
      "b1 http://www.w3.org/1999/02/22-rdf-syntax-ns#type\n",
      "b1 http://www.w3.org/ns/prov#atTime\n",
      "b0 http://www.w3.org/1999/02/22-rdf-syntax-ns#_1\n",
      "https://trellis.development.sinopia.io/repository/yale/135a9f82-38ab-4b28-9879-a3dee13a78bc http://www.loc.gov/mads/rdf/v1#componentList\n",
      "b0 http://www.w3.org/1999/02/22-rdf-syntax-ns#_4\n",
      "b1 http://www.w3.org/ns/prov#wasAssociatedWith\n",
      "https://trellis.development.sinopia.io/repository/yale/135a9f82-38ab-4b28-9879-a3dee13a78bc http://sinopia.io/vocabulary/hasResourceTemplate\n",
      "https://trellis.development.sinopia.io/repository/yale/135a9f82-38ab-4b28-9879-a3dee13a78bc http://www.w3.org/ns/prov#wasGeneratedBy\n",
      "b0 http://www.w3.org/1999/02/22-rdf-syntax-ns#_3\n",
      "b0 http://www.w3.org/1999/02/22-rdf-syntax-ns#type\n",
      "https://trellis.development.sinopia.io/repository/yale/135a9f82-38ab-4b28-9879-a3dee13a78bc http://www.w3.org/1999/02/22-rdf-syntax-ns#type\n",
      "http://www.loc.gov/mads/rdf/v1#ComplexSubject http://www.w3.org/2000/01/rdf-schema#label\n",
      "b1 http://www.w3.org/1999/02/22-rdf-syntax-ns#type\n"
     ]
    }
   ],
   "source": [
    "count = 0\n",
    "for s,p,o in dev_graph:\n",
    "    print(s,p)\n",
    "    if count > 250:\n",
    "        break\n",
    "    count += 1"
   ]
  },
  {
   "cell_type": "code",
   "execution_count": 6,
   "metadata": {},
   "outputs": [
    {
     "ename": "ModuleNotFoundError",
     "evalue": "No module named 'rdf_classify'",
     "output_type": "error",
     "traceback": [
      "\u001b[0;31m---------------------------------------------------------------------------\u001b[0m",
      "\u001b[0;31mModuleNotFoundError\u001b[0m                       Traceback (most recent call last)",
      "\u001b[0;32m<ipython-input-6-398ccbbac081>\u001b[0m in \u001b[0;36m<module>\u001b[0;34m\u001b[0m\n\u001b[0;32m----> 1\u001b[0;31m \u001b[0;32mfrom\u001b[0m \u001b[0mrdf_classify\u001b[0m \u001b[0;32mimport\u001b[0m \u001b[0mload\u001b[0m\u001b[0;34m\u001b[0m\u001b[0m\n\u001b[0m",
      "\u001b[0;31mModuleNotFoundError\u001b[0m: No module named 'rdf_classify'"
     ]
    }
   ],
   "source": [
    "from rdf_classify import load"
   ]
  },
  {
   "cell_type": "code",
   "execution_count": 8,
   "metadata": {},
   "outputs": [],
   "source": [
    "matrix = load.uri_to_matrix(\"http://a.io/\")"
   ]
  },
  {
   "cell_type": "code",
   "execution_count": 10,
   "metadata": {},
   "outputs": [
    {
     "name": "stdout",
     "output_type": "stream",
     "text": [
      "[[0.0, 0.0, 0.0, 0.0, 0.0, 0.0, 0.0, 0.0, 0.0, 0.0, 0.0, 0.0, 0.0, 0.0, 0.0, 0.0, 0.0, 0.0, 0.0, 0.0, 0.0, 0.0, 0.0, 0.0, 0.0, 0.0, 0.0, 0.0, 0.0, 0.0, 0.0, 0.0, 0.0, 1.0, 0.0, 0.0, 0.0, 0.0, 0.0, 0.0, 0.0, 0.0, 0.0, 0.0, 0.0, 0.0, 0.0, 0.0, 0.0, 0.0, 0.0, 0.0, 0.0, 0.0, 0.0, 0.0, 0.0, 0.0, 0.0, 0.0, 0.0, 0.0, 0.0, 0.0, 0.0, 0.0, 0.0, 0.0, 0.0, 0.0, 0.0, 0.0, 0.0, 0.0, 0.0, 0.0, 0.0, 0.0, 0.0, 0.0, 0.0, 0.0, 0.0, 0.0], [0.0, 0.0, 0.0, 0.0, 0.0, 0.0, 0.0, 0.0, 0.0, 0.0, 0.0, 0.0, 0.0, 0.0, 0.0, 0.0, 0.0, 0.0, 0.0, 0.0, 0.0, 0.0, 0.0, 0.0, 0.0, 0.0, 0.0, 0.0, 0.0, 0.0, 0.0, 0.0, 0.0, 0.0, 0.0, 0.0, 0.0, 0.0, 0.0, 0.0, 0.0, 0.0, 0.0, 0.0, 0.0, 1.0, 0.0, 0.0, 0.0, 0.0, 0.0, 0.0, 0.0, 0.0, 0.0, 0.0, 0.0, 0.0, 0.0, 0.0, 0.0, 0.0, 0.0, 0.0, 0.0, 0.0, 0.0, 0.0, 0.0, 0.0, 0.0, 0.0, 0.0, 0.0, 0.0, 0.0, 0.0, 0.0, 0.0, 0.0, 0.0, 0.0, 0.0, 0.0], [0.0, 0.0, 0.0, 0.0, 0.0, 0.0, 0.0, 0.0, 0.0, 0.0, 0.0, 0.0, 0.0, 0.0, 0.0, 0.0, 0.0, 0.0, 0.0, 0.0, 0.0, 0.0, 0.0, 0.0, 0.0, 0.0, 0.0, 0.0, 0.0, 0.0, 0.0, 0.0, 0.0, 0.0, 0.0, 0.0, 0.0, 0.0, 0.0, 0.0, 0.0, 0.0, 0.0, 0.0, 0.0, 1.0, 0.0, 0.0, 0.0, 0.0, 0.0, 0.0, 0.0, 0.0, 0.0, 0.0, 0.0, 0.0, 0.0, 0.0, 0.0, 0.0, 0.0, 0.0, 0.0, 0.0, 0.0, 0.0, 0.0, 0.0, 0.0, 0.0, 0.0, 0.0, 0.0, 0.0, 0.0, 0.0, 0.0, 0.0, 0.0, 0.0, 0.0, 0.0], [0.0, 0.0, 0.0, 0.0, 0.0, 0.0, 0.0, 0.0, 0.0, 0.0, 0.0, 0.0, 0.0, 0.0, 0.0, 0.0, 0.0, 0.0, 0.0, 0.0, 0.0, 0.0, 0.0, 0.0, 0.0, 0.0, 0.0, 0.0, 0.0, 0.0, 0.0, 0.0, 0.0, 0.0, 0.0, 0.0, 0.0, 0.0, 0.0, 0.0, 0.0, 1.0, 0.0, 0.0, 0.0, 0.0, 0.0, 0.0, 0.0, 0.0, 0.0, 0.0, 0.0, 0.0, 0.0, 0.0, 0.0, 0.0, 0.0, 0.0, 0.0, 0.0, 0.0, 0.0, 0.0, 0.0, 0.0, 0.0, 0.0, 0.0, 0.0, 0.0, 0.0, 0.0, 0.0, 0.0, 0.0, 0.0, 0.0, 0.0, 0.0, 0.0, 0.0, 0.0], [0.0, 0.0, 0.0, 0.0, 0.0, 0.0, 0.0, 0.0, 0.0, 0.0, 0.0, 0.0, 0.0, 0.0, 0.0, 0.0, 0.0, 0.0, 0.0, 0.0, 0.0, 0.0, 0.0, 0.0, 0.0, 0.0, 0.0, 0.0, 0.0, 0.0, 0.0, 0.0, 0.0, 0.0, 0.0, 0.0, 0.0, 0.0, 0.0, 0.0, 0.0, 0.0, 0.0, 0.0, 0.0, 0.0, 0.0, 0.0, 0.0, 0.0, 0.0, 0.0, 0.0, 0.0, 0.0, 0.0, 0.0, 0.0, 0.0, 0.0, 0.0, 0.0, 0.0, 0.0, 0.0, 0.0, 1.0, 0.0, 0.0, 0.0, 0.0, 0.0, 0.0, 0.0, 0.0, 0.0, 0.0, 0.0, 0.0, 0.0, 0.0, 0.0, 0.0, 0.0], [0.0, 0.0, 0.0, 0.0, 0.0, 0.0, 0.0, 0.0, 0.0, 0.0, 0.0, 0.0, 0.0, 0.0, 0.0, 0.0, 0.0, 0.0, 0.0, 0.0, 0.0, 0.0, 0.0, 0.0, 0.0, 0.0, 0.0, 0.0, 0.0, 0.0, 0.0, 0.0, 0.0, 0.0, 0.0, 0.0, 0.0, 0.0, 0.0, 0.0, 0.0, 0.0, 0.0, 0.0, 0.0, 0.0, 0.0, 0.0, 0.0, 0.0, 0.0, 0.0, 0.0, 0.0, 0.0, 0.0, 0.0, 0.0, 0.0, 0.0, 0.0, 0.0, 0.0, 0.0, 0.0, 0.0, 0.0, 1.0, 0.0, 0.0, 0.0, 0.0, 0.0, 0.0, 0.0, 0.0, 0.0, 0.0, 0.0, 0.0, 0.0, 0.0, 0.0, 0.0], [0.0, 0.0, 0.0, 0.0, 0.0, 0.0, 0.0, 0.0, 0.0, 0.0, 0.0, 0.0, 0.0, 0.0, 0.0, 0.0, 0.0, 0.0, 0.0, 0.0, 0.0, 0.0, 0.0, 0.0, 0.0, 0.0, 0.0, 0.0, 0.0, 0.0, 0.0, 0.0, 0.0, 0.0, 0.0, 0.0, 0.0, 0.0, 0.0, 0.0, 0.0, 0.0, 0.0, 0.0, 0.0, 0.0, 0.0, 0.0, 0.0, 0.0, 0.0, 0.0, 0.0, 0.0, 0.0, 0.0, 0.0, 0.0, 0.0, 0.0, 0.0, 0.0, 0.0, 0.0, 0.0, 0.0, 0.0, 1.0, 0.0, 0.0, 0.0, 0.0, 0.0, 0.0, 0.0, 0.0, 0.0, 0.0, 0.0, 0.0, 0.0, 0.0, 0.0, 0.0], [0.0, 0.0, 0.0, 0.0, 0.0, 0.0, 0.0, 0.0, 0.0, 0.0, 0.0, 0.0, 0.0, 0.0, 0.0, 0.0, 0.0, 0.0, 0.0, 0.0, 0.0, 0.0, 0.0, 0.0, 0.0, 0.0, 1.0, 0.0, 0.0, 0.0, 0.0, 0.0, 0.0, 0.0, 0.0, 0.0, 0.0, 0.0, 0.0, 0.0, 0.0, 0.0, 0.0, 0.0, 0.0, 0.0, 0.0, 0.0, 0.0, 0.0, 0.0, 0.0, 0.0, 0.0, 0.0, 0.0, 0.0, 0.0, 0.0, 0.0, 0.0, 0.0, 0.0, 0.0, 0.0, 0.0, 0.0, 0.0, 0.0, 0.0, 0.0, 0.0, 0.0, 0.0, 0.0, 0.0, 0.0, 0.0, 0.0, 0.0, 0.0, 0.0, 0.0, 0.0], [0.0, 0.0, 0.0, 0.0, 0.0, 0.0, 0.0, 0.0, 0.0, 0.0, 0.0, 0.0, 0.0, 0.0, 0.0, 0.0, 0.0, 0.0, 0.0, 0.0, 0.0, 0.0, 0.0, 0.0, 0.0, 0.0, 0.0, 0.0, 0.0, 0.0, 0.0, 0.0, 0.0, 0.0, 0.0, 0.0, 0.0, 0.0, 0.0, 0.0, 0.0, 0.0, 0.0, 0.0, 0.0, 0.0, 0.0, 0.0, 0.0, 0.0, 0.0, 0.0, 0.0, 0.0, 0.0, 0.0, 0.0, 0.0, 0.0, 0.0, 0.0, 0.0, 0.0, 1.0, 0.0, 0.0, 0.0, 0.0, 0.0, 0.0, 0.0, 0.0, 0.0, 0.0, 0.0, 0.0, 0.0, 0.0, 0.0, 0.0, 0.0, 0.0, 0.0, 0.0], [0.0, 0.0, 0.0, 0.0, 0.0, 0.0, 0.0, 0.0, 0.0, 0.0, 0.0, 0.0, 0.0, 0.0, 0.0, 0.0, 0.0, 0.0, 0.0, 0.0, 0.0, 0.0, 0.0, 0.0, 0.0, 0.0, 0.0, 0.0, 0.0, 0.0, 0.0, 0.0, 0.0, 0.0, 1.0, 0.0, 0.0, 0.0, 0.0, 0.0, 0.0, 0.0, 0.0, 0.0, 0.0, 0.0, 0.0, 0.0, 0.0, 0.0, 0.0, 0.0, 0.0, 0.0, 0.0, 0.0, 0.0, 0.0, 0.0, 0.0, 0.0, 0.0, 0.0, 0.0, 0.0, 0.0, 0.0, 0.0, 0.0, 0.0, 0.0, 0.0, 0.0, 0.0, 0.0, 0.0, 0.0, 0.0, 0.0, 0.0, 0.0, 0.0, 0.0, 0.0], [0.0, 0.0, 0.0, 0.0, 0.0, 0.0, 0.0, 0.0, 0.0, 0.0, 0.0, 0.0, 0.0, 0.0, 0.0, 0.0, 0.0, 0.0, 0.0, 0.0, 0.0, 0.0, 0.0, 0.0, 0.0, 0.0, 0.0, 0.0, 0.0, 0.0, 0.0, 0.0, 0.0, 0.0, 0.0, 0.0, 0.0, 0.0, 0.0, 0.0, 1.0, 0.0, 0.0, 0.0, 0.0, 0.0, 0.0, 0.0, 0.0, 0.0, 0.0, 0.0, 0.0, 0.0, 0.0, 0.0, 0.0, 0.0, 0.0, 0.0, 0.0, 0.0, 0.0, 0.0, 0.0, 0.0, 0.0, 0.0, 0.0, 0.0, 0.0, 0.0, 0.0, 0.0, 0.0, 0.0, 0.0, 0.0, 0.0, 0.0, 0.0, 0.0, 0.0, 0.0], [0.0, 0.0, 0.0, 0.0, 0.0, 0.0, 0.0, 0.0, 0.0, 0.0, 0.0, 0.0, 0.0, 0.0, 0.0, 0.0, 0.0, 0.0, 0.0, 0.0, 0.0, 0.0, 0.0, 0.0, 0.0, 0.0, 0.0, 0.0, 0.0, 0.0, 0.0, 0.0, 0.0, 0.0, 0.0, 0.0, 0.0, 0.0, 0.0, 0.0, 0.0, 0.0, 0.0, 0.0, 0.0, 0.0, 0.0, 0.0, 0.0, 0.0, 0.0, 0.0, 0.0, 0.0, 0.0, 0.0, 0.0, 0.0, 0.0, 0.0, 0.0, 0.0, 0.0, 0.0, 0.0, 0.0, 0.0, 1.0, 0.0, 0.0, 0.0, 0.0, 0.0, 0.0, 0.0, 0.0, 0.0, 0.0, 0.0, 0.0, 0.0, 0.0, 0.0, 0.0]]\n"
     ]
    }
   ],
   "source": [
    "print(matrix)"
   ]
  },
  {
   "cell_type": "code",
   "execution_count": 10,
   "metadata": {},
   "outputs": [
    {
     "name": "stdout",
     "output_type": "stream",
     "text": [
      "2.0.0\n"
     ]
    }
   ],
   "source": [
    "import tensorflow as tf\n",
    "from tensorflow import keras\n",
    "\n",
    "import numpy as np\n",
    "\n",
    "print(f\"{tf.__version__}\")"
   ]
  },
  {
   "cell_type": "code",
   "execution_count": 14,
   "metadata": {},
   "outputs": [],
   "source": [
    "model = keras.models.Sequential()"
   ]
  },
  {
   "cell_type": "code",
   "execution_count": 15,
   "metadata": {},
   "outputs": [
    {
     "data": {
      "text/plain": [
       "12"
      ]
     },
     "execution_count": 15,
     "metadata": {},
     "output_type": "execute_result"
    }
   ],
   "source": [
    "len(matrix)"
   ]
  },
  {
   "cell_type": "code",
   "execution_count": 19,
   "metadata": {},
   "outputs": [],
   "source": [
    "uri_hash = keras.preprocessing.text.hashing_trick(\"http://example.com/\", 60)"
   ]
  },
  {
   "cell_type": "code",
   "execution_count": 20,
   "metadata": {},
   "outputs": [
    {
     "data": {
      "text/plain": [
       "[46, 48, 27]"
      ]
     },
     "execution_count": 20,
     "metadata": {},
     "output_type": "execute_result"
    }
   ],
   "source": [
    "uri_hash"
   ]
  },
  {
   "cell_type": "code",
   "execution_count": 21,
   "metadata": {},
   "outputs": [],
   "source": [
    "uri_hash = keras.preprocessing.text.hashing_trick(str(rdflib.RDF.value), 60)"
   ]
  },
  {
   "cell_type": "code",
   "execution_count": 22,
   "metadata": {},
   "outputs": [
    {
     "name": "stdout",
     "output_type": "stream",
     "text": [
      "[46, 2, 59, 2, 37, 41, 40, 2, 25, 48, 21]\n"
     ]
    }
   ],
   "source": [
    "print(uri_hash)"
   ]
  },
  {
   "cell_type": "code",
   "execution_count": 23,
   "metadata": {},
   "outputs": [
    {
     "name": "stdout",
     "output_type": "stream",
     "text": [
      "http://www.w3.org/1999/02/22-rdf-syntax-ns#value [29, 1, 13, 33, 29, 39, 2, 40, 34, 17, 10] 48\n",
      "http://www.w3.org/2000/01/rdf-schema#label [27, 19, 39, 34, 33, 5, 31, 30, 16] 42\n",
      "https://sinopia.io/ [1, 5, 13] 19\n"
     ]
    }
   ],
   "source": [
    "for uri in [rdflib.RDF.value, rdflib.RDFS.label, rdflib.URIRef('https://sinopia.io/')]:\n",
    "    raw_uri = str(uri)\n",
    "    hash_uri = keras.preprocessing.text.hashing_trick(raw_uri, len(raw_uri))\n",
    "    print(f\"{uri} {hash_uri} {len(raw_uri)}\")"
   ]
  },
  {
   "cell_type": "code",
   "execution_count": 24,
   "metadata": {},
   "outputs": [
    {
     "name": "stdout",
     "output_type": "stream",
     "text": [
      "http://www.w3.org/1999/02/22-rdf-syntax-ns#value [709, 834, 328, 1930, 408, 314, 1763, 518, 487, 1877, 1772]\n",
      "http://www.w3.org/2000/01/rdf-schema#label [709, 834, 328, 1930, 226, 660, 518, 1301, 165]\n",
      "https://sinopia.io/ [1053, 2034, 1415]\n"
     ]
    }
   ],
   "source": [
    "# from https://serpstat.com/blog/how-long-should-be-the-page-url-length-for-seo/\n",
    "maxlen = 2048\n",
    "for uri in [rdflib.RDF.value, rdflib.RDFS.label, rdflib.URIRef('https://sinopia.io/')]:\n",
    "    raw_uri = str(uri)\n",
    "    hash_uri = keras.preprocessing.text.hashing_trick(raw_uri, maxlen)\n",
    "    print(f\"{uri} {hash_uri}\")"
   ]
  },
  {
   "cell_type": "code",
   "execution_count": 26,
   "metadata": {},
   "outputs": [],
   "source": [
    "model.add(keras.layers.Embedding(input_dim=maxlen, output_dim=50, input_length=maxlen))"
   ]
  },
  {
   "cell_type": "code",
   "execution_count": 15,
   "metadata": {},
   "outputs": [
    {
     "name": "stdout",
     "output_type": "stream",
     "text": [
      "0: [60, 1525, 256]\n",
      "1: [60, 1525, 256]\n",
      "2: [60, 1525, 256]\n",
      "3: [60, 1525, 256]\n",
      "4: [60, 1525, 256]\n",
      "5: [60, 1525, 256]\n",
      "6: [60, 1525, 256]\n",
      "7: [60, 1525, 256]\n",
      "8: [60, 1525, 256]\n",
      "9: [60, 1525, 256]\n"
     ]
    }
   ],
   "source": [
    "for row in range(10):\n",
    "    hash_a = keras.preprocessing.text.hashing_trick(\"http://sinopia.io/\", 2048)\n",
    "    print(f\"{row}: {hash_a}\")"
   ]
  },
  {
   "cell_type": "code",
   "execution_count": 3,
   "metadata": {},
   "outputs": [
    {
     "data": {
      "text/plain": [
       "[1917, 1900, 1716]"
      ]
     },
     "execution_count": 3,
     "metadata": {},
     "output_type": "execute_result"
    }
   ],
   "source": [
    "load.uri_to_hash(\"https://sinopia.io/\")"
   ]
  },
  {
   "cell_type": "code",
   "execution_count": 7,
   "metadata": {},
   "outputs": [
    {
     "name": "stdout",
     "output_type": "stream",
     "text": [
      "0 [1917, 1900, 1716]\n",
      "1 [1917, 1900, 1716]\n",
      "2 [1917, 1900, 1716]\n",
      "3 [1917, 1900, 1716]\n",
      "4 [1917, 1900, 1716]\n",
      "5 [1917, 1900, 1716]\n",
      "6 [1917, 1900, 1716]\n",
      "7 [1917, 1900, 1716]\n",
      "8 [1917, 1900, 1716]\n",
      "9 [1917, 1900, 1716]\n"
     ]
    }
   ],
   "source": [
    "for i in range(10):\n",
    "    print(f\"{i} {load.uri_to_hash('https://sinopia.io/')}\")"
   ]
  },
  {
   "cell_type": "code",
   "execution_count": 8,
   "metadata": {},
   "outputs": [
    {
     "data": {
      "text/plain": [
       "[1917, 1900, 1716]"
      ]
     },
     "execution_count": 8,
     "metadata": {},
     "output_type": "execute_result"
    }
   ],
   "source": [
    "load.uri_to_hash('https://sinopia.io/')"
   ]
  },
  {
   "cell_type": "code",
   "execution_count": 9,
   "metadata": {},
   "outputs": [],
   "source": [
    "import rdflib"
   ]
  },
  {
   "cell_type": "code",
   "execution_count": null,
   "metadata": {},
   "outputs": [],
   "source": [
    "graph = rdflib.ConjunctiveGraph()\n",
    "gfraph.parse(\"/Users/jpnelson/2019/\")"
   ]
  }
 ],
 "metadata": {
  "kernelspec": {
   "display_name": "Python 3",
   "language": "python",
   "name": "python3"
  },
  "language_info": {
   "codemirror_mode": {
    "name": "ipython",
    "version": 3
   },
   "file_extension": ".py",
   "mimetype": "text/x-python",
   "name": "python",
   "nbconvert_exporter": "python",
   "pygments_lexer": "ipython3",
   "version": "3.7.0"
  }
 },
 "nbformat": 4,
 "nbformat_minor": 4
}
