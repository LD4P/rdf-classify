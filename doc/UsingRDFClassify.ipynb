{
 "cells": [
  {
   "cell_type": "markdown",
   "metadata": {},
   "source": [
    "# Using RDF Classify"
   ]
  },
  {
   "cell_type": "markdown",
   "metadata": {},
   "source": [
    "## Setup "
   ]
  },
  {
   "cell_type": "code",
   "execution_count": 1,
   "metadata": {},
   "outputs": [],
   "source": [
    "import json\n",
    "import random\n",
    "import rdflib\n",
    "\n",
    "import pandas as pd\n",
    "from datetime import datetime\n",
    "from zipfile import ZipFile"
   ]
  },
  {
   "cell_type": "markdown",
   "metadata": {},
   "source": [
    "## Extracting RDF Entity Graphs\n",
    "\n",
    "The `extract_graph` function takes the path to the exported Sinopia entities zip file, creates a graph and parses the JSON-LD of each entity into the graph and then returns the populated graph."
   ]
  },
  {
   "cell_type": "code",
   "execution_count": 18,
   "metadata": {},
   "outputs": [],
   "source": [
    "def extract_graphs(zip_filepath):\n",
    "    graphs = []\n",
    "    with ZipFile(zip_filepath) as zip_file:\n",
    "        for zip_info in zip_file.infolist():\n",
    "            if zip_info.file_size < 1:\n",
    "                continue\n",
    "            # Filter out all Resource Templates\n",
    "            if zip_info.filename.split(\"/\")[1].startswith(\"ld4p_\"):\n",
    "                continue\n",
    "            with zip_file.open(zip_info) as zip_extract:\n",
    "                graph = rdflib.ConjunctiveGraph()\n",
    "                raw_rdf = zip_extract.read()\n",
    "                try:\n",
    "                    graph.parse(data=raw_rdf, format='json-ld')\n",
    "                    graphs.append(graph)\n",
    "                except json.JSONDecodeError:\n",
    "                    print(f\"Failed to parse {zip_info.filename}\")\n",
    "                    continue\n",
    "    return graphs"
   ]
  },
  {
   "cell_type": "code",
   "execution_count": 19,
   "metadata": {},
   "outputs": [
    {
     "name": "stdout",
     "output_type": "stream",
     "text": [
      "Failed to parse sinopia_export_all_2020-01-19T00:01:10.700Z/ucdavis_2020-01-19T00:01:12.515Z/complete.log\n",
      "Failed to parse sinopia_export_all_2020-01-19T00:01:10.700Z/boulder_2020-01-19T00:01:11.088Z/complete.log\n",
      "Failed to parse sinopia_export_all_2020-01-19T00:01:10.700Z/pcc_2020-01-19T00:01:10.894Z/complete.log\n",
      "Failed to parse sinopia_export_all_2020-01-19T00:01:10.700Z/cornell_2020-01-19T00:01:12.963Z/complete.log\n",
      "Failed to parse sinopia_export_all_2020-01-19T00:01:10.700Z/dlc_2020-01-19T00:01:12.788Z/complete.log\n",
      "Failed to parse sinopia_export_all_2020-01-19T00:01:10.700Z/harvard_2020-01-19T00:01:14.013Z/complete.log\n",
      "Failed to parse sinopia_export_all_2020-01-19T00:01:10.700Z/chicago_2020-01-19T00:01:12.732Z/complete.log\n",
      "Failed to parse sinopia_export_all_2020-01-19T00:01:10.700Z/alberta_2020-01-19T00:01:11.428Z/complete.log\n",
      "Failed to parse sinopia_export_all_2020-01-19T00:01:10.700Z/ucsd_2020-01-19T00:01:12.437Z/complete.log\n",
      "Failed to parse sinopia_export_all_2020-01-19T00:01:10.700Z/princeton_2020-01-19T00:01:12.899Z/complete.log\n",
      "Failed to parse sinopia_export_all_2020-01-19T00:01:10.700Z/northwestern_2020-01-19T00:01:12.622Z/complete.log\n",
      "Failed to parse sinopia_export_all_2020-01-19T00:01:10.700Z/hrc_2020-01-19T00:01:10.810Z/complete.log\n",
      "Failed to parse sinopia_export_all_2020-01-19T00:01:10.700Z/complete.log\n",
      "Failed to parse sinopia_export_all_2020-01-19T00:01:10.700Z/minnesota_2020-01-19T00:01:11.137Z/complete.log\n",
      "Failed to parse sinopia_export_all_2020-01-19T00:01:10.700Z/tamu_2020-01-19T00:01:12.844Z/complete.log\n",
      "Failed to parse sinopia_export_all_2020-01-19T00:01:10.700Z/stanford_2020-01-19T00:01:11.191Z/complete.log\n",
      "Failed to parse sinopia_export_all_2020-01-19T00:01:10.700Z/michigan_2020-01-19T00:01:10.728Z/complete.log\n",
      "Failed to parse sinopia_export_all_2020-01-19T00:01:10.700Z/washington_2020-01-19T00:01:11.509Z/complete.log\n",
      "Failed to parse sinopia_export_all_2020-01-19T00:01:10.700Z/yale_2020-01-19T00:01:10.730Z/complete.log\n"
     ]
    }
   ],
   "source": [
    "dev_graph = extract_graphs(\"../data/input/sinopia_export_dev_all_2020-01-19T00_01_10.700Z.zip\")"
   ]
  },
  {
   "cell_type": "code",
   "execution_count": 40,
   "metadata": {},
   "outputs": [],
   "source": [
    "resource_templates = {}\n",
    "for graph in dev_graph:\n",
    "    rt_query = graph.query(\"\"\"SELECT ?subj ?resource_template WHERE {\n",
    " ?subj <http://sinopia.io/vocabulary/hasResourceTemplate> ?resource_template\n",
    "}\"\"\")\n",
    "    for row in rt_query:\n",
    "        rt_key = str(row[1])\n",
    "        if not rt_key in resource_templates:\n",
    "            resource_templates[rt_key] = {}\n",
    "        for predicate in graph.predicates(subject=row[0]):\n",
    "            pred_key = str(predicate)\n",
    "            if pred_key in resource_templates[rt_key]:\n",
    "                resource_templates[rt_key][pred_key] += 1\n",
    "            else:\n",
    "                resource_templates[rt_key][pred_key] = 1\n",
    "    "
   ]
  },
  {
   "cell_type": "code",
   "execution_count": 42,
   "metadata": {},
   "outputs": [
    {
     "data": {
      "text/plain": [
       "http://www.w3.org/1999/02/22-rdf-syntax-ns#type     17\n",
       "http://id.loc.gov/ontologies/bibframe/mainTitle     17\n",
       "http://sinopia.io/vocabulary/hasResourceTemplate    17\n",
       "http://www.w3.org/ns/prov#wasGeneratedBy            18\n",
       "http://id.loc.gov/ontologies/bibframe/partNumber     1\n",
       "dtype: int64"
      ]
     },
     "execution_count": 42,
     "metadata": {},
     "output_type": "execute_result"
    }
   ],
   "source": [
    "pd.Series(resource_templates['ld4p:RT:bf2:WorkTitle'])"
   ]
  },
  {
   "cell_type": "code",
   "execution_count": 4,
   "metadata": {},
   "outputs": [
    {
     "ename": "NameError",
     "evalue": "name 'dev_graphs' is not defined",
     "output_type": "error",
     "traceback": [
      "\u001b[0;31m---------------------------------------------------------------------------\u001b[0m",
      "\u001b[0;31mNameError\u001b[0m                                 Traceback (most recent call last)",
      "\u001b[0;32m<ipython-input-4-5cab849c635c>\u001b[0m in \u001b[0;36m<module>\u001b[0;34m\u001b[0m\n\u001b[0;32m----> 1\u001b[0;31m resource_templates = dev_graphs.query(\"\"\"SELECT ?resource_template WHERE {\n\u001b[0m\u001b[1;32m      2\u001b[0m  \u001b[0;31m?\u001b[0m\u001b[0msubj\u001b[0m \u001b[0;34m<\u001b[0m\u001b[0mhttp\u001b[0m\u001b[0;34m:\u001b[0m\u001b[0;34m//\u001b[0m\u001b[0msinopia\u001b[0m\u001b[0;34m.\u001b[0m\u001b[0mio\u001b[0m\u001b[0;34m/\u001b[0m\u001b[0mvocabulary\u001b[0m\u001b[0;34m/\u001b[0m\u001b[0mhasResourceTemplate\u001b[0m\u001b[0;34m>\u001b[0m\u001b[0;31m \u001b[0m\u001b[0;31m?\u001b[0m\u001b[0mresource_template\u001b[0m\u001b[0;34m\u001b[0m\u001b[0m\n\u001b[1;32m      3\u001b[0m }\"\"\")\n",
      "\u001b[0;31mNameError\u001b[0m: name 'dev_graphs' is not defined"
     ]
    }
   ],
   "source": [
    "resource_templates = dev_graphs.query(\"\"\"SELECT ?resource_template WHERE {\n",
    " ?subj <http://sinopia.io/vocabulary/hasResourceTemplate> ?resource_template\n",
    "}\"\"\")"
   ]
  },
  {
   "cell_type": "code",
   "execution_count": 3,
   "metadata": {},
   "outputs": [
    {
     "ename": "NameError",
     "evalue": "name 'resource_templates' is not defined",
     "output_type": "error",
     "traceback": [
      "\u001b[0;31m---------------------------------------------------------------------------\u001b[0m",
      "\u001b[0;31mNameError\u001b[0m                                 Traceback (most recent call last)",
      "\u001b[0;32m<ipython-input-3-f5cf4b54aa93>\u001b[0m in \u001b[0;36m<module>\u001b[0;34m\u001b[0m\n\u001b[0;32m----> 1\u001b[0;31m \u001b[0;32mfor\u001b[0m \u001b[0mrow\u001b[0m \u001b[0;32min\u001b[0m \u001b[0mresource_templates\u001b[0m\u001b[0;34m:\u001b[0m\u001b[0;34m\u001b[0m\u001b[0m\n\u001b[0m\u001b[1;32m      2\u001b[0m     \u001b[0mprint\u001b[0m\u001b[0;34m(\u001b[0m\u001b[0mrow\u001b[0m\u001b[0;34m)\u001b[0m\u001b[0;34m\u001b[0m\u001b[0m\n",
      "\u001b[0;31mNameError\u001b[0m: name 'resource_templates' is not defined"
     ]
    }
   ],
   "source": [
    "for row in resource_templates:\n",
    "    print(row)"
   ]
  },
  {
   "cell_type": "markdown",
   "metadata": {},
   "source": [
    "Original size 9512 triples, current triples are 9680"
   ]
  },
  {
   "cell_type": "code",
   "execution_count": 19,
   "metadata": {},
   "outputs": [
    {
     "name": "stdout",
     "output_type": "stream",
     "text": [
      "b0 http://www.w3.org/1999/02/22-rdf-syntax-ns#_5\n",
      "https://trellis.development.sinopia.io/repository/yale/135a9f82-38ab-4b28-9879-a3dee13a78bc http://www.w3.org/1999/02/22-rdf-syntax-ns#type\n",
      "b0 http://www.w3.org/1999/02/22-rdf-syntax-ns#_2\n",
      "b1 http://www.w3.org/1999/02/22-rdf-syntax-ns#type\n",
      "b1 http://www.w3.org/ns/prov#atTime\n",
      "b0 http://www.w3.org/1999/02/22-rdf-syntax-ns#_1\n",
      "https://trellis.development.sinopia.io/repository/yale/135a9f82-38ab-4b28-9879-a3dee13a78bc http://www.loc.gov/mads/rdf/v1#componentList\n",
      "b0 http://www.w3.org/1999/02/22-rdf-syntax-ns#_4\n",
      "b1 http://www.w3.org/ns/prov#wasAssociatedWith\n",
      "https://trellis.development.sinopia.io/repository/yale/135a9f82-38ab-4b28-9879-a3dee13a78bc http://sinopia.io/vocabulary/hasResourceTemplate\n",
      "https://trellis.development.sinopia.io/repository/yale/135a9f82-38ab-4b28-9879-a3dee13a78bc http://www.w3.org/ns/prov#wasGeneratedBy\n",
      "b0 http://www.w3.org/1999/02/22-rdf-syntax-ns#_3\n",
      "b0 http://www.w3.org/1999/02/22-rdf-syntax-ns#type\n",
      "https://trellis.development.sinopia.io/repository/yale/135a9f82-38ab-4b28-9879-a3dee13a78bc http://www.w3.org/1999/02/22-rdf-syntax-ns#type\n",
      "http://www.loc.gov/mads/rdf/v1#ComplexSubject http://www.w3.org/2000/01/rdf-schema#label\n",
      "b1 http://www.w3.org/1999/02/22-rdf-syntax-ns#type\n"
     ]
    }
   ],
   "source": [
    "count = 0\n",
    "for s,p,o in dev_graph:\n",
    "    print(s,p)\n",
    "    if count > 250:\n",
    "        break\n",
    "    count += 1"
   ]
  },
  {
   "cell_type": "code",
   "execution_count": null,
   "metadata": {},
   "outputs": [],
   "source": []
  }
 ],
 "metadata": {
  "kernelspec": {
   "display_name": "Python 3",
   "language": "python",
   "name": "python3"
  },
  "language_info": {
   "codemirror_mode": {
    "name": "ipython",
    "version": 3
   },
   "file_extension": ".py",
   "mimetype": "text/x-python",
   "name": "python",
   "nbconvert_exporter": "python",
   "pygments_lexer": "ipython3",
   "version": "3.7.0"
  }
 },
 "nbformat": 4,
 "nbformat_minor": 4
}
