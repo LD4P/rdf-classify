{
 "cells": [
  {
   "cell_type": "markdown",
   "metadata": {},
   "source": [
    "# Using RDF Classify"
   ]
  },
  {
   "cell_type": "markdown",
   "metadata": {},
   "source": [
    "## Setup "
   ]
  },
  {
   "cell_type": "code",
   "execution_count": 10,
   "metadata": {},
   "outputs": [],
   "source": [
    "import json\n",
    "import random\n",
    "import rdflib\n",
    "\n",
    "import pandas as pd\n",
    "from datetime import datetime\n",
    "from zipfile import ZipFile"
   ]
  },
  {
   "cell_type": "markdown",
   "metadata": {},
   "source": [
    "## Extracting RDF Entity Graphs\n",
    "\n",
    "The `extract_graph` function takes the path to the exported Sinopia entities zip file, creates a graph and parses the JSON-LD of each entity into the graph and then returns the populated graph."
   ]
  },
  {
   "cell_type": "code",
   "execution_count": 11,
   "metadata": {},
   "outputs": [],
   "source": [
    "def extract_graph(zip_filepath):\n",
    "    graph = rdflib.Graph()\n",
    "\n",
    "    with ZipFile(zip_filepath) as zip_file:\n",
    "        for zip_info in zip_file.infolist():\n",
    "            if zip_info.file_size < 1:\n",
    "                continue\n",
    "            with zip_file.open(zip_info) as zip_extract:\n",
    "                raw_rdf = zip_extract.read()\n",
    "                try:\n",
    "                    graph.parse(data=raw_rdf, format='json-ld')\n",
    "                except json.JSONDecodeError:\n",
    "                    print(f\"Failed to parse {zip_info.filename}\")\n",
    "    return graph"
   ]
  },
  {
   "cell_type": "code",
   "execution_count": 12,
   "metadata": {},
   "outputs": [
    {
     "name": "stdout",
     "output_type": "stream",
     "text": [
      "Failed to parse sinopia_export_all_2020-01-05T00:01:11.968Z/northwestern_2020-01-05T00:01:13.871Z/complete.log\n",
      "Failed to parse sinopia_export_all_2020-01-05T00:01:11.968Z/tamu_2020-01-05T00:01:14.022Z/complete.log\n",
      "Failed to parse sinopia_export_all_2020-01-05T00:01:11.968Z/cornell_2020-01-05T00:01:14.138Z/complete.log\n",
      "Failed to parse sinopia_export_all_2020-01-05T00:01:11.968Z/hrc_2020-01-05T00:01:12.091Z/complete.log\n",
      "Failed to parse sinopia_export_all_2020-01-05T00:01:11.968Z/michigan_2020-01-05T00:01:11.994Z/complete.log\n",
      "Failed to parse sinopia_export_all_2020-01-05T00:01:11.968Z/washington_2020-01-05T00:01:12.787Z/complete.log\n",
      "Failed to parse sinopia_export_all_2020-01-05T00:01:11.968Z/dlc_2020-01-05T00:01:13.973Z/complete.log\n",
      "Failed to parse sinopia_export_all_2020-01-05T00:01:11.968Z/minnesota_2020-01-05T00:01:12.425Z/complete.log\n",
      "Failed to parse sinopia_export_all_2020-01-05T00:01:11.968Z/ld4p_2020-01-05T00:01:12.212Z/complete.log\n",
      "Failed to parse sinopia_export_all_2020-01-05T00:01:11.968Z/stanford_2020-01-05T00:01:12.482Z/complete.log\n",
      "Failed to parse sinopia_export_all_2020-01-05T00:01:11.968Z/boulder_2020-01-05T00:01:12.376Z/complete.log\n",
      "Failed to parse sinopia_export_all_2020-01-05T00:01:11.968Z/alberta_2020-01-05T00:01:12.704Z/complete.log\n",
      "Failed to parse sinopia_export_all_2020-01-05T00:01:11.968Z/yale_2020-01-05T00:01:11.997Z/complete.log\n",
      "Failed to parse sinopia_export_all_2020-01-05T00:01:11.968Z/complete.log\n",
      "Failed to parse sinopia_export_all_2020-01-05T00:01:11.968Z/harvard_2020-01-05T00:01:14.960Z/complete.log\n",
      "Failed to parse sinopia_export_all_2020-01-05T00:01:11.968Z/ucdavis_2020-01-05T00:01:13.790Z/complete.log\n",
      "Failed to parse sinopia_export_all_2020-01-05T00:01:11.968Z/pcc_2020-01-05T00:01:12.164Z/complete.log\n",
      "Failed to parse sinopia_export_all_2020-01-05T00:01:11.968Z/princeton_2020-01-05T00:01:14.075Z/complete.log\n",
      "Failed to parse sinopia_export_all_2020-01-05T00:01:11.968Z/ucsd_2020-01-05T00:01:13.716Z/complete.log\n",
      "Failed to parse sinopia_export_all_2020-01-05T00:01:11.968Z/chicago_2020-01-05T00:01:13.919Z/complete.log\n"
     ]
    }
   ],
   "source": [
    "dev_graph = extract_graph(\"../data/input/sinopia_dev_export_all_2020-01-05T00_01_11.968Z.zip\")"
   ]
  }
 ],
 "metadata": {
  "kernelspec": {
   "display_name": "Python 3",
   "language": "python",
   "name": "python3"
  },
  "language_info": {
   "codemirror_mode": {
    "name": "ipython",
    "version": 3
   },
   "file_extension": ".py",
   "mimetype": "text/x-python",
   "name": "python",
   "nbconvert_exporter": "python",
   "pygments_lexer": "ipython3",
   "version": "3.7.0"
  }
 },
 "nbformat": 4,
 "nbformat_minor": 4
}
