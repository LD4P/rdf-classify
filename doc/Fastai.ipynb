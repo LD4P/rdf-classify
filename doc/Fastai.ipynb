{
 "cells": [
  {
   "cell_type": "markdown",
   "metadata": {},
   "source": [
    "# RDClassify with Fastai and PyTorch "
   ]
  },
  {
   "cell_type": "code",
   "execution_count": 3,
   "metadata": {},
   "outputs": [],
   "source": [
    "%reload_ext autoreload\n",
    "%autoreload 2\n",
    "%matplotlib inline"
   ]
  },
  {
   "cell_type": "code",
   "execution_count": 4,
   "metadata": {},
   "outputs": [],
   "source": [
    "import rdflib\n",
    "import requests\n",
    "from fastai.text import *\n",
    "import sys\n",
    "sys.path.append(\"../\")"
   ]
  },
  {
   "cell_type": "markdown",
   "metadata": {},
   "source": [
    "Downloads the latest export files from Sinopia's stage environment"
   ]
  },
  {
   "cell_type": "code",
   "execution_count": 3,
   "metadata": {},
   "outputs": [],
   "source": [
    "dev_url = \"https://sinopia-exports-development.s3-us-west-2.amazonaws.com/sinopia_export_all_2020-04-05T00:01:17.464Z.zip\"\n",
    "stage_url = \"https://sinopia-exports-staging.s3-us-west-2.amazonaws.com/sinopia_export_all_2020-04-05T00:02:01.951Z.zip\"\n",
    "prod_url = \"https://sinopia-exports-production.s3-us-west-2.amazonaws.com/sinopia_export_all_2020-04-05T00:01:56.669Z.zip\""
   ]
  },
  {
   "cell_type": "code",
   "execution_count": 14,
   "metadata": {},
   "outputs": [],
   "source": [
    "class RDFItem(Text):\n",
    "    \n",
    "    def __init__(self, url):\n",
    "        self.text = url\n",
    "        print(f\"{self}\")"
   ]
  },
  {
   "cell_type": "code",
   "execution_count": 19,
   "metadata": {},
   "outputs": [
    {
     "name": "stdout",
     "output_type": "stream",
     "text": [
      "http://www.w3.org/1999/02/22-rdf-syntax-ns#type\n"
     ]
    }
   ],
   "source": [
    "item = RDFItem(str(rdflib.RDF.type))\n"
   ]
  },
  {
   "cell_type": "code",
   "execution_count": 20,
   "metadata": {},
   "outputs": [
    {
     "data": {
      "text/plain": [
       "['__class__',\n",
       " '__delattr__',\n",
       " '__dict__',\n",
       " '__dir__',\n",
       " '__doc__',\n",
       " '__eq__',\n",
       " '__format__',\n",
       " '__ge__',\n",
       " '__getattribute__',\n",
       " '__gt__',\n",
       " '__hash__',\n",
       " '__init__',\n",
       " '__init_subclass__',\n",
       " '__le__',\n",
       " '__lt__',\n",
       " '__module__',\n",
       " '__ne__',\n",
       " '__new__',\n",
       " '__reduce__',\n",
       " '__reduce_ex__',\n",
       " '__repr__',\n",
       " '__setattr__',\n",
       " '__sizeof__',\n",
       " '__str__',\n",
       " '__subclasshook__',\n",
       " '__weakref__',\n",
       " 'apply_tfms',\n",
       " 'show',\n",
       " 'text']"
      ]
     },
     "execution_count": 20,
     "metadata": {},
     "output_type": "execute_result"
    }
   ],
   "source": [
    "dir(item)"
   ]
  },
  {
   "cell_type": "code",
   "execution_count": 21,
   "metadata": {},
   "outputs": [
    {
     "data": {
      "text/plain": [
       "'http://www.w3.org/1999/02/22-rdf-syntax-ns#type'"
      ]
     },
     "execution_count": 21,
     "metadata": {},
     "output_type": "execute_result"
    }
   ],
   "source": [
    "item.text"
   ]
  },
  {
   "cell_type": "code",
   "execution_count": 28,
   "metadata": {},
   "outputs": [],
   "source": [
    "class RDFList(TextList):\n",
    "    \n",
    "    def __init__(self, **kwargs):\n",
    "        self.items = kwargs.get('items', [])\n",
    "        print(f\"{self}\")"
   ]
  },
  {
   "cell_type": "code",
   "execution_count": 29,
   "metadata": {},
   "outputs": [
    {
     "ename": "AttributeError",
     "evalue": "'RDFList' object has no attribute 'path'",
     "output_type": "error",
     "traceback": [
      "\u001b[0;31m---------------------------------------------------------------------------\u001b[0m",
      "\u001b[0;31mAttributeError\u001b[0m                            Traceback (most recent call last)",
      "\u001b[0;32m<ipython-input-29-ea9bf2ff5155>\u001b[0m in \u001b[0;36m<module>\u001b[0;34m\u001b[0m\n\u001b[0;32m----> 1\u001b[0;31m \u001b[0mrdf_list\u001b[0m \u001b[0;34m=\u001b[0m \u001b[0mRDFList\u001b[0m\u001b[0;34m(\u001b[0m\u001b[0;34m)\u001b[0m\u001b[0;34m\u001b[0m\u001b[0m\n\u001b[0m",
      "\u001b[0;32m<ipython-input-28-81532727d087>\u001b[0m in \u001b[0;36m__init__\u001b[0;34m(self, **kwargs)\u001b[0m\n\u001b[1;32m      3\u001b[0m     \u001b[0;32mdef\u001b[0m \u001b[0m__init__\u001b[0m\u001b[0;34m(\u001b[0m\u001b[0mself\u001b[0m\u001b[0;34m,\u001b[0m \u001b[0;34m**\u001b[0m\u001b[0mkwargs\u001b[0m\u001b[0;34m)\u001b[0m\u001b[0;34m:\u001b[0m\u001b[0;34m\u001b[0m\u001b[0m\n\u001b[1;32m      4\u001b[0m         \u001b[0mself\u001b[0m\u001b[0;34m.\u001b[0m\u001b[0mitems\u001b[0m \u001b[0;34m=\u001b[0m \u001b[0mkwargs\u001b[0m\u001b[0;34m.\u001b[0m\u001b[0mget\u001b[0m\u001b[0;34m(\u001b[0m\u001b[0;34m'items'\u001b[0m\u001b[0;34m,\u001b[0m \u001b[0;34m[\u001b[0m\u001b[0;34m]\u001b[0m\u001b[0;34m)\u001b[0m\u001b[0;34m\u001b[0m\u001b[0m\n\u001b[0;32m----> 5\u001b[0;31m         \u001b[0mprint\u001b[0m\u001b[0;34m(\u001b[0m\u001b[0;34mf\"{self}\"\u001b[0m\u001b[0;34m)\u001b[0m\u001b[0;34m\u001b[0m\u001b[0m\n\u001b[0m",
      "\u001b[0;32m~/2020/ts-env/lib/python3.7/site-packages/fastai/data_block.py\u001b[0m in \u001b[0;36m__repr__\u001b[0;34m(self)\u001b[0m\n\u001b[1;32m     76\u001b[0m     \u001b[0;32mdef\u001b[0m \u001b[0m__repr__\u001b[0m\u001b[0;34m(\u001b[0m\u001b[0mself\u001b[0m\u001b[0;34m)\u001b[0m\u001b[0;34m->\u001b[0m\u001b[0mstr\u001b[0m\u001b[0;34m:\u001b[0m\u001b[0;34m\u001b[0m\u001b[0m\n\u001b[1;32m     77\u001b[0m         \u001b[0mitems\u001b[0m \u001b[0;34m=\u001b[0m \u001b[0;34m[\u001b[0m\u001b[0mself\u001b[0m\u001b[0;34m[\u001b[0m\u001b[0mi\u001b[0m\u001b[0;34m]\u001b[0m \u001b[0;32mfor\u001b[0m \u001b[0mi\u001b[0m \u001b[0;32min\u001b[0m \u001b[0mrange\u001b[0m\u001b[0;34m(\u001b[0m\u001b[0mmin\u001b[0m\u001b[0;34m(\u001b[0m\u001b[0;36m5\u001b[0m\u001b[0;34m,\u001b[0m\u001b[0mlen\u001b[0m\u001b[0;34m(\u001b[0m\u001b[0mself\u001b[0m\u001b[0;34m.\u001b[0m\u001b[0mitems\u001b[0m\u001b[0;34m)\u001b[0m\u001b[0;34m)\u001b[0m\u001b[0;34m)\u001b[0m\u001b[0;34m]\u001b[0m\u001b[0;34m\u001b[0m\u001b[0m\n\u001b[0;32m---> 78\u001b[0;31m         \u001b[0;32mreturn\u001b[0m \u001b[0;34mf'{self.__class__.__name__} ({len(self.items)} items)\\n{show_some(items)}\\nPath: {self.path}'\u001b[0m\u001b[0;34m\u001b[0m\u001b[0m\n\u001b[0m\u001b[1;32m     79\u001b[0m \u001b[0;34m\u001b[0m\u001b[0m\n\u001b[1;32m     80\u001b[0m     \u001b[0;32mdef\u001b[0m \u001b[0mprocess\u001b[0m\u001b[0;34m(\u001b[0m\u001b[0mself\u001b[0m\u001b[0;34m,\u001b[0m \u001b[0mprocessor\u001b[0m\u001b[0;34m:\u001b[0m\u001b[0mPreProcessors\u001b[0m\u001b[0;34m=\u001b[0m\u001b[0;32mNone\u001b[0m\u001b[0;34m)\u001b[0m\u001b[0;34m:\u001b[0m\u001b[0;34m\u001b[0m\u001b[0m\n",
      "\u001b[0;31mAttributeError\u001b[0m: 'RDFList' object has no attribute 'path'"
     ]
    }
   ],
   "source": [
    "rdf_list = RDFList()"
   ]
  },
  {
   "cell_type": "code",
   "execution_count": 6,
   "metadata": {},
   "outputs": [],
   "source": [
    "# Using a tabular approach\n",
    "import pandas as pd\n",
    "import requests\n",
    "from fastai.tabular import *"
   ]
  },
  {
   "cell_type": "code",
   "execution_count": 5,
   "metadata": {},
   "outputs": [],
   "source": [
    "from rdf_classify.data_loader import from_zipfile"
   ]
  },
  {
   "cell_type": "code",
   "execution_count": 1,
   "metadata": {},
   "outputs": [
    {
     "ename": "NameError",
     "evalue": "name 'from_zipfile' is not defined",
     "output_type": "error",
     "traceback": [
      "\u001b[0;31m---------------------------------------------------------------------------\u001b[0m",
      "\u001b[0;31mNameError\u001b[0m                                 Traceback (most recent call last)",
      "\u001b[0;32m<ipython-input-1-a4c4e108c822>\u001b[0m in \u001b[0;36m<module>\u001b[0;34m\u001b[0m\n\u001b[0;32m----> 1\u001b[0;31m \u001b[0mstaging\u001b[0m \u001b[0;34m=\u001b[0m \u001b[0mfrom_zipfile\u001b[0m\u001b[0;34m(\u001b[0m\u001b[0;34m\"/Users/jpnelson/Downloads/sinopia_export_all_2020-04-12T00_02_02.117Z.zip\"\u001b[0m\u001b[0;34m)\u001b[0m\u001b[0;34m\u001b[0m\u001b[0m\n\u001b[0m",
      "\u001b[0;31mNameError\u001b[0m: name 'from_zipfile' is not defined"
     ]
    }
   ],
   "source": [
    "staging = from_zipfile(\"/Users/jpnelson/Downloads/sinopia_export_all_2020-04-12T00_02_02.117Z.zip\")"
   ]
  },
  {
   "cell_type": "code",
   "execution_count": 8,
   "metadata": {},
   "outputs": [
    {
     "data": {
      "text/plain": [
       "3490"
      ]
     },
     "execution_count": 8,
     "metadata": {},
     "output_type": "execute_result"
    }
   ],
   "source": [
    "len(staging)\n"
   ]
  },
  {
   "cell_type": "code",
   "execution_count": 2,
   "metadata": {},
   "outputs": [],
   "source": [
    "import rdflib"
   ]
  },
  {
   "cell_type": "code",
   "execution_count": 70,
   "metadata": {},
   "outputs": [],
   "source": [
    "SUBJ_RT = \"\"\"SELECT ?subj ?resource_template \n",
    "WHERE { ?subj <http://sinopia.io/vocabulary/hasResourceTemplate> ?resource_template }\"\"\"\n",
    "\n",
    "def subject_to_str(subject):\n",
    "    if isinstance(subject, rdflib.BNode):\n",
    "        subject = subject.skolemize(authority='https://trellis.stage.sinopia.io/repository/')\n",
    "    return str(subject)\n",
    "    \n",
    "\n",
    "def create_series(graph):\n",
    "    rt_query = graph.query(SUBJ_RT)\n",
    "    for subj, rt in rt_query:                \n",
    "        subject = { 'subject': subject_to_str(subj), \n",
    "                    'resource_template': str(rt),\n",
    "                    f\"{rdflib.RDF.type}\": []\n",
    "                  }\n",
    "        \n",
    "                    \n",
    "def process_predicates(graph: rdflib.Graph, subject: dict) -> dict:\n",
    "     for predicate in graph.predicates(subject=subj):\n",
    "        pred_str = str(predicate)\n",
    "        if predicate == rdflib.RDF.type:\n",
    "            rdf_class = graph.get(subject=subj, predicate=predicate)\n",
    "            subject[pred_str].append(str(rdf_class))\n",
    "            continue\n",
    "        if pred_str in subject:\n",
    "            subject[pred_str] += 1\n",
    "        else:\n",
    "            subject[pred_str] = 1\n",
    "    return subject\n",
    "                    \n",
    "def to_dataframe(graphs: List[rdflib.Graph]) -> pd.DataFrame: \n",
    "    raw_data = []\n",
    "    for i,graph in enumerate(graphs):\n",
    "        if not i%10:\n",
    "            print(\".\", end=\"\")\n",
    "        if not i%100:\n",
    "            print(f\"{i}\", end=\"\")\n",
    "        rt_query = graph.query(SUBJ_RT)\n",
    "\n",
    "           \n",
    "                \n",
    "            raw_data.append(subject)\n",
    "    return pd.DataFrame(data=raw_data)"
   ]
  },
  {
   "cell_type": "code",
   "execution_count": 3,
   "metadata": {},
   "outputs": [
    {
     "name": "stdout",
     "output_type": "stream",
     "text": [
      "http://www.w3.org/1999/02/22-rdf-syntax-ns#type\n"
     ]
    }
   ],
   "source": [
    "print(rdflib.RDF.type)"
   ]
  },
  {
   "cell_type": "code",
   "execution_count": 71,
   "metadata": {},
   "outputs": [
    {
     "name": "stdout",
     "output_type": "stream",
     "text": [
      ".0..........100..........200..........300..........400..........500..........600..........700..........800..........900..........1000..........1100..........1200..........1300..........1400..........1500..........1600..........1700..........1800..........1900..........2000..........2100..........2200..........2300..........2400..........2500..........2600..........2700..........2800..........2900..........3000..........3100..........3200..........3300..........3400........"
     ]
    }
   ],
   "source": [
    "staging_df = to_dataframe(staging)"
   ]
  },
  {
   "cell_type": "code",
   "execution_count": 72,
   "metadata": {},
   "outputs": [
    {
     "data": {
      "text/plain": [
       "3761"
      ]
     },
     "execution_count": 72,
     "metadata": {},
     "output_type": "execute_result"
    }
   ],
   "source": [
    "len(staging_df)"
   ]
  },
  {
   "cell_type": "code",
   "execution_count": 73,
   "metadata": {},
   "outputs": [
    {
     "data": {
      "text/html": [
       "<div>\n",
       "<style scoped>\n",
       "    .dataframe tbody tr th:only-of-type {\n",
       "        vertical-align: middle;\n",
       "    }\n",
       "\n",
       "    .dataframe tbody tr th {\n",
       "        vertical-align: top;\n",
       "    }\n",
       "\n",
       "    .dataframe thead th {\n",
       "        text-align: right;\n",
       "    }\n",
       "</style>\n",
       "<table border=\"1\" class=\"dataframe\">\n",
       "  <thead>\n",
       "    <tr style=\"text-align: right;\">\n",
       "      <th></th>\n",
       "      <th>subject</th>\n",
       "      <th>resource_template</th>\n",
       "      <th>http://www.w3.org/1999/02/22-rdf-syntax-ns#type</th>\n",
       "      <th>http://www.w3.org/ns/prov#wasGeneratedBy</th>\n",
       "      <th>http://sinopia.io/vocabulary/hasResourceTemplate</th>\n",
       "      <th>http://id.loc.gov/ontologies/bibframe/hasContribution</th>\n",
       "      <th>http://id.loc.gov/ontologies/bibframe/title</th>\n",
       "      <th>http://id.loc.gov/ontologies/bibframe/agent</th>\n",
       "      <th>http://id.loc.gov/ontologies/bibframe/adminMetadata</th>\n",
       "      <th>http://id.loc.gov/ontologies/bibframe/carrier</th>\n",
       "      <th>...</th>\n",
       "      <th>http://id.loc.gov/ontologies/bibframe/RegionalEncoding</th>\n",
       "      <th>http://id.loc.gov/ontologies/bibframe/RecordingMedium</th>\n",
       "      <th>http://id.loc.gov/ontologies/bibframe/FileType</th>\n",
       "      <th>http://id.loc.gov/ontologies/bibframe/RecordingMethod</th>\n",
       "      <th>http://id.loc.gov/ontologies/bibframe/subseriesStatement</th>\n",
       "      <th>http://id.loc.gov/ontologies/bibframe/subseriesEnumeration</th>\n",
       "      <th>http://id.loc.gov/ontologies/bibframe/coordinates</th>\n",
       "      <th>http://id.loc.gov/ontologies/bibframe/succeededBy</th>\n",
       "      <th>http://id.loc.gov/ontologies/bibframe/hasPart</th>\n",
       "      <th>http://id.loc.gov/ontologies/bibframe/relatedTo</th>\n",
       "    </tr>\n",
       "  </thead>\n",
       "  <tbody>\n",
       "    <tr>\n",
       "      <th>0</th>\n",
       "      <td>https://trellis.stage.sinopia.io/repository/pe...</td>\n",
       "      <td>michelle:RT:quick</td>\n",
       "      <td>1</td>\n",
       "      <td>1.0</td>\n",
       "      <td>1</td>\n",
       "      <td>1.0</td>\n",
       "      <td>1.0</td>\n",
       "      <td>NaN</td>\n",
       "      <td>NaN</td>\n",
       "      <td>NaN</td>\n",
       "      <td>...</td>\n",
       "      <td>NaN</td>\n",
       "      <td>NaN</td>\n",
       "      <td>NaN</td>\n",
       "      <td>NaN</td>\n",
       "      <td>NaN</td>\n",
       "      <td>NaN</td>\n",
       "      <td>NaN</td>\n",
       "      <td>NaN</td>\n",
       "      <td>NaN</td>\n",
       "      <td>NaN</td>\n",
       "    </tr>\n",
       "    <tr>\n",
       "      <th>1</th>\n",
       "      <td>https://trellis.stage.sinopia.io/.well-known/g...</td>\n",
       "      <td>michelle:RT:bf2:Agents:PrimaryContribution</td>\n",
       "      <td>1</td>\n",
       "      <td>NaN</td>\n",
       "      <td>1</td>\n",
       "      <td>NaN</td>\n",
       "      <td>NaN</td>\n",
       "      <td>1.0</td>\n",
       "      <td>NaN</td>\n",
       "      <td>NaN</td>\n",
       "      <td>...</td>\n",
       "      <td>NaN</td>\n",
       "      <td>NaN</td>\n",
       "      <td>NaN</td>\n",
       "      <td>NaN</td>\n",
       "      <td>NaN</td>\n",
       "      <td>NaN</td>\n",
       "      <td>NaN</td>\n",
       "      <td>NaN</td>\n",
       "      <td>NaN</td>\n",
       "      <td>NaN</td>\n",
       "    </tr>\n",
       "    <tr>\n",
       "      <th>2</th>\n",
       "      <td>https://trellis.stage.sinopia.io/repository/pe...</td>\n",
       "      <td>ld4p:RT:bf2:Monograph:Instance</td>\n",
       "      <td>1</td>\n",
       "      <td>3.0</td>\n",
       "      <td>1</td>\n",
       "      <td>NaN</td>\n",
       "      <td>3.0</td>\n",
       "      <td>NaN</td>\n",
       "      <td>1.0</td>\n",
       "      <td>1.0</td>\n",
       "      <td>...</td>\n",
       "      <td>NaN</td>\n",
       "      <td>NaN</td>\n",
       "      <td>NaN</td>\n",
       "      <td>NaN</td>\n",
       "      <td>NaN</td>\n",
       "      <td>NaN</td>\n",
       "      <td>NaN</td>\n",
       "      <td>NaN</td>\n",
       "      <td>NaN</td>\n",
       "      <td>NaN</td>\n",
       "    </tr>\n",
       "    <tr>\n",
       "      <th>3</th>\n",
       "      <td>https://trellis.stage.sinopia.io/repository/pe...</td>\n",
       "      <td>ld4p:RT:bf2:Monograph:Instance</td>\n",
       "      <td>1</td>\n",
       "      <td>1.0</td>\n",
       "      <td>1</td>\n",
       "      <td>NaN</td>\n",
       "      <td>1.0</td>\n",
       "      <td>NaN</td>\n",
       "      <td>1.0</td>\n",
       "      <td>1.0</td>\n",
       "      <td>...</td>\n",
       "      <td>NaN</td>\n",
       "      <td>NaN</td>\n",
       "      <td>NaN</td>\n",
       "      <td>NaN</td>\n",
       "      <td>NaN</td>\n",
       "      <td>NaN</td>\n",
       "      <td>NaN</td>\n",
       "      <td>NaN</td>\n",
       "      <td>NaN</td>\n",
       "      <td>NaN</td>\n",
       "    </tr>\n",
       "    <tr>\n",
       "      <th>4</th>\n",
       "      <td>https://trellis.stage.sinopia.io/repository/pe...</td>\n",
       "      <td>ld4p:RT:bf2:Monograph:Work</td>\n",
       "      <td>1</td>\n",
       "      <td>3.0</td>\n",
       "      <td>1</td>\n",
       "      <td>NaN</td>\n",
       "      <td>1.0</td>\n",
       "      <td>NaN</td>\n",
       "      <td>NaN</td>\n",
       "      <td>NaN</td>\n",
       "      <td>...</td>\n",
       "      <td>NaN</td>\n",
       "      <td>NaN</td>\n",
       "      <td>NaN</td>\n",
       "      <td>NaN</td>\n",
       "      <td>NaN</td>\n",
       "      <td>NaN</td>\n",
       "      <td>NaN</td>\n",
       "      <td>NaN</td>\n",
       "      <td>NaN</td>\n",
       "      <td>NaN</td>\n",
       "    </tr>\n",
       "  </tbody>\n",
       "</table>\n",
       "<p>5 rows × 185 columns</p>\n",
       "</div>"
      ],
      "text/plain": [
       "                                             subject  \\\n",
       "0  https://trellis.stage.sinopia.io/repository/pe...   \n",
       "1  https://trellis.stage.sinopia.io/.well-known/g...   \n",
       "2  https://trellis.stage.sinopia.io/repository/pe...   \n",
       "3  https://trellis.stage.sinopia.io/repository/pe...   \n",
       "4  https://trellis.stage.sinopia.io/repository/pe...   \n",
       "\n",
       "                            resource_template  \\\n",
       "0                           michelle:RT:quick   \n",
       "1  michelle:RT:bf2:Agents:PrimaryContribution   \n",
       "2              ld4p:RT:bf2:Monograph:Instance   \n",
       "3              ld4p:RT:bf2:Monograph:Instance   \n",
       "4                  ld4p:RT:bf2:Monograph:Work   \n",
       "\n",
       "   http://www.w3.org/1999/02/22-rdf-syntax-ns#type  \\\n",
       "0                                                1   \n",
       "1                                                1   \n",
       "2                                                1   \n",
       "3                                                1   \n",
       "4                                                1   \n",
       "\n",
       "   http://www.w3.org/ns/prov#wasGeneratedBy  \\\n",
       "0                                       1.0   \n",
       "1                                       NaN   \n",
       "2                                       3.0   \n",
       "3                                       1.0   \n",
       "4                                       3.0   \n",
       "\n",
       "   http://sinopia.io/vocabulary/hasResourceTemplate  \\\n",
       "0                                                 1   \n",
       "1                                                 1   \n",
       "2                                                 1   \n",
       "3                                                 1   \n",
       "4                                                 1   \n",
       "\n",
       "   http://id.loc.gov/ontologies/bibframe/hasContribution  \\\n",
       "0                                                1.0       \n",
       "1                                                NaN       \n",
       "2                                                NaN       \n",
       "3                                                NaN       \n",
       "4                                                NaN       \n",
       "\n",
       "   http://id.loc.gov/ontologies/bibframe/title  \\\n",
       "0                                          1.0   \n",
       "1                                          NaN   \n",
       "2                                          3.0   \n",
       "3                                          1.0   \n",
       "4                                          1.0   \n",
       "\n",
       "   http://id.loc.gov/ontologies/bibframe/agent  \\\n",
       "0                                          NaN   \n",
       "1                                          1.0   \n",
       "2                                          NaN   \n",
       "3                                          NaN   \n",
       "4                                          NaN   \n",
       "\n",
       "   http://id.loc.gov/ontologies/bibframe/adminMetadata  \\\n",
       "0                                                NaN     \n",
       "1                                                NaN     \n",
       "2                                                1.0     \n",
       "3                                                1.0     \n",
       "4                                                NaN     \n",
       "\n",
       "   http://id.loc.gov/ontologies/bibframe/carrier  ...  \\\n",
       "0                                            NaN  ...   \n",
       "1                                            NaN  ...   \n",
       "2                                            1.0  ...   \n",
       "3                                            1.0  ...   \n",
       "4                                            NaN  ...   \n",
       "\n",
       "   http://id.loc.gov/ontologies/bibframe/RegionalEncoding  \\\n",
       "0                                                NaN        \n",
       "1                                                NaN        \n",
       "2                                                NaN        \n",
       "3                                                NaN        \n",
       "4                                                NaN        \n",
       "\n",
       "   http://id.loc.gov/ontologies/bibframe/RecordingMedium  \\\n",
       "0                                                NaN       \n",
       "1                                                NaN       \n",
       "2                                                NaN       \n",
       "3                                                NaN       \n",
       "4                                                NaN       \n",
       "\n",
       "   http://id.loc.gov/ontologies/bibframe/FileType  \\\n",
       "0                                             NaN   \n",
       "1                                             NaN   \n",
       "2                                             NaN   \n",
       "3                                             NaN   \n",
       "4                                             NaN   \n",
       "\n",
       "   http://id.loc.gov/ontologies/bibframe/RecordingMethod  \\\n",
       "0                                                NaN       \n",
       "1                                                NaN       \n",
       "2                                                NaN       \n",
       "3                                                NaN       \n",
       "4                                                NaN       \n",
       "\n",
       "   http://id.loc.gov/ontologies/bibframe/subseriesStatement  \\\n",
       "0                                                NaN          \n",
       "1                                                NaN          \n",
       "2                                                NaN          \n",
       "3                                                NaN          \n",
       "4                                                NaN          \n",
       "\n",
       "   http://id.loc.gov/ontologies/bibframe/subseriesEnumeration  \\\n",
       "0                                                NaN            \n",
       "1                                                NaN            \n",
       "2                                                NaN            \n",
       "3                                                NaN            \n",
       "4                                                NaN            \n",
       "\n",
       "   http://id.loc.gov/ontologies/bibframe/coordinates  \\\n",
       "0                                                NaN   \n",
       "1                                                NaN   \n",
       "2                                                NaN   \n",
       "3                                                NaN   \n",
       "4                                                NaN   \n",
       "\n",
       "   http://id.loc.gov/ontologies/bibframe/succeededBy  \\\n",
       "0                                                NaN   \n",
       "1                                                NaN   \n",
       "2                                                NaN   \n",
       "3                                                NaN   \n",
       "4                                                NaN   \n",
       "\n",
       "   http://id.loc.gov/ontologies/bibframe/hasPart  \\\n",
       "0                                            NaN   \n",
       "1                                            NaN   \n",
       "2                                            NaN   \n",
       "3                                            NaN   \n",
       "4                                            NaN   \n",
       "\n",
       "   http://id.loc.gov/ontologies/bibframe/relatedTo  \n",
       "0                                              NaN  \n",
       "1                                              NaN  \n",
       "2                                              NaN  \n",
       "3                                              NaN  \n",
       "4                                              NaN  \n",
       "\n",
       "[5 rows x 185 columns]"
      ]
     },
     "execution_count": 73,
     "metadata": {},
     "output_type": "execute_result"
    }
   ],
   "source": [
    "staging_df.head()"
   ]
  },
  {
   "cell_type": "code",
   "execution_count": 74,
   "metadata": {},
   "outputs": [
    {
     "ename": "Exception",
     "evalue": "Your data is neither split nor labeled, can't turn it into a `DataBunch` yet.",
     "output_type": "error",
     "traceback": [
      "\u001b[0;31m---------------------------------------------------------------------------\u001b[0m",
      "\u001b[0;31mException\u001b[0m                                 Traceback (most recent call last)",
      "\u001b[0;32m<ipython-input-74-6cc5fa2f03b5>\u001b[0m in \u001b[0;36m<module>\u001b[0;34m\u001b[0m\n\u001b[1;32m      1\u001b[0m data = (TabularList.from_df(staging_df,\n\u001b[0;32m----> 2\u001b[0;31m                             procs=[FillMissing])\n\u001b[0m\u001b[1;32m      3\u001b[0m         .databunch())\n",
      "\u001b[0;32m~/2020/ts-env/lib/python3.7/site-packages/fastai/data_block.py\u001b[0m in \u001b[0;36mdatabunch\u001b[0;34m(self, **kwargs)\u001b[0m\n\u001b[1;32m    316\u001b[0m     \u001b[0;32mdef\u001b[0m \u001b[0mdatabunch\u001b[0m\u001b[0;34m(\u001b[0m\u001b[0mself\u001b[0m\u001b[0;34m,\u001b[0m \u001b[0;34m**\u001b[0m\u001b[0mkwargs\u001b[0m\u001b[0;34m)\u001b[0m\u001b[0;34m:\u001b[0m\u001b[0;34m\u001b[0m\u001b[0m\n\u001b[1;32m    317\u001b[0m         \u001b[0;34m\"To throw a clear error message when the data wasn't split and labeled.\"\u001b[0m\u001b[0;34m\u001b[0m\u001b[0m\n\u001b[0;32m--> 318\u001b[0;31m         \u001b[0;32mraise\u001b[0m \u001b[0mException\u001b[0m\u001b[0;34m(\u001b[0m\u001b[0;34m\"Your data is neither split nor labeled, can't turn it into a `DataBunch` yet.\"\u001b[0m\u001b[0;34m)\u001b[0m\u001b[0;34m\u001b[0m\u001b[0m\n\u001b[0m\u001b[1;32m    319\u001b[0m \u001b[0;34m\u001b[0m\u001b[0m\n\u001b[1;32m    320\u001b[0m \u001b[0;32mclass\u001b[0m \u001b[0mEmptyLabelList\u001b[0m\u001b[0;34m(\u001b[0m\u001b[0mItemList\u001b[0m\u001b[0;34m)\u001b[0m\u001b[0;34m:\u001b[0m\u001b[0;34m\u001b[0m\u001b[0m\n",
      "\u001b[0;31mException\u001b[0m: Your data is neither split nor labeled, can't turn it into a `DataBunch` yet."
     ]
    }
   ],
   "source": [
    "data = (TabularList.from_df(staging_df,\n",
    "                            \n",
    "                            procs=[FillMissing])\n",
    "        .databunch())"
   ]
  },
  {
   "cell_type": "code",
   "execution_count": 69,
   "metadata": {},
   "outputs": [
    {
     "data": {
      "text/plain": [
       "TabularList (3761 items)\n",
       "subject                                                       https://trellis.stage.sinopia.io/repository/pe...\n",
       "resource_template                                                                             michelle:RT:quick\n",
       "http://www.w3.org/1999/02/22-rdf-syntax-ns#type                                                               1\n",
       "http://www.w3.org/ns/prov#wasGeneratedBy                                                                      1\n",
       "http://sinopia.io/vocabulary/hasResourceTemplate                                                              1\n",
       "                                                                                    ...                        \n",
       "http://id.loc.gov/ontologies/bibframe/subseriesEnumeration                                                  NaN\n",
       "http://id.loc.gov/ontologies/bibframe/coordinates                                                           NaN\n",
       "http://id.loc.gov/ontologies/bibframe/succeededBy                                                           NaN\n",
       "http://id.loc.gov/ontologies/bibframe/hasPart                                                               NaN\n",
       "http://id.loc.gov/ontologies/bibframe/relatedTo                                                             NaN\n",
       "Name: 0, Length: 185, dtype: object,subject                                                                                               b0\n",
       "resource_template                                             michelle:RT:bf2:Agents:PrimaryContribution\n",
       "http://www.w3.org/1999/02/22-rdf-syntax-ns#type                                                        1\n",
       "http://www.w3.org/ns/prov#wasGeneratedBy                                                             NaN\n",
       "http://sinopia.io/vocabulary/hasResourceTemplate                                                       1\n",
       "                                                                                 ...                    \n",
       "http://id.loc.gov/ontologies/bibframe/subseriesEnumeration                                           NaN\n",
       "http://id.loc.gov/ontologies/bibframe/coordinates                                                    NaN\n",
       "http://id.loc.gov/ontologies/bibframe/succeededBy                                                    NaN\n",
       "http://id.loc.gov/ontologies/bibframe/hasPart                                                        NaN\n",
       "http://id.loc.gov/ontologies/bibframe/relatedTo                                                      NaN\n",
       "Name: 1, Length: 185, dtype: object,subject                                                       https://trellis.stage.sinopia.io/repository/pe...\n",
       "resource_template                                                                ld4p:RT:bf2:Monograph:Instance\n",
       "http://www.w3.org/1999/02/22-rdf-syntax-ns#type                                                               1\n",
       "http://www.w3.org/ns/prov#wasGeneratedBy                                                                      3\n",
       "http://sinopia.io/vocabulary/hasResourceTemplate                                                              1\n",
       "                                                                                    ...                        \n",
       "http://id.loc.gov/ontologies/bibframe/subseriesEnumeration                                                  NaN\n",
       "http://id.loc.gov/ontologies/bibframe/coordinates                                                           NaN\n",
       "http://id.loc.gov/ontologies/bibframe/succeededBy                                                           NaN\n",
       "http://id.loc.gov/ontologies/bibframe/hasPart                                                               NaN\n",
       "http://id.loc.gov/ontologies/bibframe/relatedTo                                                             NaN\n",
       "Name: 2, Length: 185, dtype: object,subject                                                       https://trellis.stage.sinopia.io/repository/pe...\n",
       "resource_template                                                                ld4p:RT:bf2:Monograph:Instance\n",
       "http://www.w3.org/1999/02/22-rdf-syntax-ns#type                                                               1\n",
       "http://www.w3.org/ns/prov#wasGeneratedBy                                                                      1\n",
       "http://sinopia.io/vocabulary/hasResourceTemplate                                                              1\n",
       "                                                                                    ...                        \n",
       "http://id.loc.gov/ontologies/bibframe/subseriesEnumeration                                                  NaN\n",
       "http://id.loc.gov/ontologies/bibframe/coordinates                                                           NaN\n",
       "http://id.loc.gov/ontologies/bibframe/succeededBy                                                           NaN\n",
       "http://id.loc.gov/ontologies/bibframe/hasPart                                                               NaN\n",
       "http://id.loc.gov/ontologies/bibframe/relatedTo                                                             NaN\n",
       "Name: 3, Length: 185, dtype: object,subject                                                       https://trellis.stage.sinopia.io/repository/pe...\n",
       "resource_template                                                                    ld4p:RT:bf2:Monograph:Work\n",
       "http://www.w3.org/1999/02/22-rdf-syntax-ns#type                                                               1\n",
       "http://www.w3.org/ns/prov#wasGeneratedBy                                                                      3\n",
       "http://sinopia.io/vocabulary/hasResourceTemplate                                                              1\n",
       "                                                                                    ...                        \n",
       "http://id.loc.gov/ontologies/bibframe/subseriesEnumeration                                                  NaN\n",
       "http://id.loc.gov/ontologies/bibframe/coordinates                                                           NaN\n",
       "http://id.loc.gov/ontologies/bibframe/succeededBy                                                           NaN\n",
       "http://id.loc.gov/ontologies/bibframe/hasPart                                                               NaN\n",
       "http://id.loc.gov/ontologies/bibframe/relatedTo                                                             NaN\n",
       "Name: 4, Length: 185, dtype: object\n",
       "Path: ."
      ]
     },
     "execution_count": 69,
     "metadata": {},
     "output_type": "execute_result"
    }
   ],
   "source": [
    "data"
   ]
  },
  {
   "cell_type": "code",
   "execution_count": null,
   "metadata": {},
   "outputs": [],
   "source": []
  }
 ],
 "metadata": {
  "kernelspec": {
   "display_name": "Python 3",
   "language": "python",
   "name": "python3"
  },
  "language_info": {
   "codemirror_mode": {
    "name": "ipython",
    "version": 3
   },
   "file_extension": ".py",
   "mimetype": "text/x-python",
   "name": "python",
   "nbconvert_exporter": "python",
   "pygments_lexer": "ipython3",
   "version": "3.7.7"
  }
 },
 "nbformat": 4,
 "nbformat_minor": 4
}
