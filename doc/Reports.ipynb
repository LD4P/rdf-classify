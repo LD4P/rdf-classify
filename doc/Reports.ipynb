{
 "cells": [
  {
   "cell_type": "code",
   "execution_count": 43,
   "metadata": {},
   "outputs": [],
   "source": [
    "import pandas as pd\n",
    "import csv\n",
    "import rdflib\n",
    "import requests\n",
    "import sys\n",
    "sys.path.append(\"../src\")\n",
    "import data_loader\n",
    "import data_prep"
   ]
  },
  {
   "cell_type": "code",
   "execution_count": 2,
   "metadata": {},
   "outputs": [
    {
     "name": "stdout",
     "output_type": "stream",
     "text": [
      "Started harvest of resources at 2020-10-13 16:20:07.085717 for https://api.sinopia.io\n",
      ".........250..........500..........750..........1000..........1250..........1500..........1750..........2000..........2250..........2500..........2750..........3000..........3250..........3500.....\n",
      "Finished at 2020-10-13 16:21:54.691369, total time 1.7833333333333334\n"
     ]
    }
   ],
   "source": [
    "production = data_loader.from_api(\"https://api.sinopia.io\")"
   ]
  },
  {
   "cell_type": "code",
   "execution_count": 3,
   "metadata": {},
   "outputs": [
    {
     "data": {
      "text/plain": [
       "(791, 2834)"
      ]
     },
     "execution_count": 3,
     "metadata": {},
     "output_type": "execute_result"
    }
   ],
   "source": [
    "len(production['templates']), len(production['resources'])"
   ]
  },
  {
   "cell_type": "markdown",
   "metadata": {},
   "source": [
    "## Resource Count by Templates "
   ]
  },
  {
   "cell_type": "code",
   "execution_count": 7,
   "metadata": {},
   "outputs": [],
   "source": [
    "template_totals = dict()\n",
    "for row in production['templates']:\n",
    "    template_totals[row['meta']['id']] = []"
   ]
  },
  {
   "cell_type": "code",
   "execution_count": 8,
   "metadata": {},
   "outputs": [
    {
     "data": {
      "text/plain": [
       "791"
      ]
     },
     "execution_count": 8,
     "metadata": {},
     "output_type": "execute_result"
    }
   ],
   "source": [
    "len(template_totals)"
   ]
  },
  {
   "cell_type": "code",
   "execution_count": 27,
   "metadata": {},
   "outputs": [],
   "source": [
    "sparql = \"\"\"PREFIX sinopia: <http://sinopia.io/vocabulary/>\n",
    "\n",
    "SELECT ?subject ?template\n",
    "WHERE {{ ?subject sinopia:hasResourceTemplate ?template . }}\"\"\""
   ]
  },
  {
   "cell_type": "code",
   "execution_count": 14,
   "metadata": {},
   "outputs": [
    {
     "name": "stdout",
     "output_type": "stream",
     "text": [
      "@prefix ns1: <http://id.loc.gov/ontologies/bibframe/> .\n",
      "@prefix rdfs: <http://www.w3.org/2000/01/rdf-schema#> .\n",
      "@prefix sinopia: <http://sinopia.io/vocabulary/> .\n",
      "\n",
      "<https://api.sinopia.io/resource/d3ebee7d-d393-46b4-80dc-9ce720a15758> a ns1:Title ;\n",
      "    ns1:mainTitle \"my title\"@en ;\n",
      "    ns1:note [ a ns1:Note ;\n",
      "            rdfs:label \"dssdsdsds\"@en ] ;\n",
      "    ns1:partName \"just something\"@en ;\n",
      "    ns1:partNumber \"0202\"@en ;\n",
      "    sinopia:hasResourceTemplate \"ld4p:RT:bf2:WorkTitle\" .\n",
      "\n",
      "\n"
     ]
    }
   ],
   "source": [
    "print(production['resources'][0]['graph'].serialize(format='turtle').decode())"
   ]
  },
  {
   "cell_type": "code",
   "execution_count": 28,
   "metadata": {},
   "outputs": [],
   "source": [
    "result = production['resources'][0]['graph'].query(sparql)"
   ]
  },
  {
   "cell_type": "code",
   "execution_count": 29,
   "metadata": {},
   "outputs": [
    {
     "data": {
      "text/plain": [
       "[{rdflib.term.Variable('subject'): rdflib.term.URIRef('https://api.sinopia.io/resource/d3ebee7d-d393-46b4-80dc-9ce720a15758'), rdflib.term.Variable('template'): rdflib.term.Literal('ld4p:RT:bf2:WorkTitle')}]"
      ]
     },
     "execution_count": 29,
     "metadata": {},
     "output_type": "execute_result"
    }
   ],
   "source": [
    "result.bindings"
   ]
  },
  {
   "cell_type": "code",
   "execution_count": 23,
   "metadata": {},
   "outputs": [
    {
     "data": {
      "text/plain": [
       "'PREFIX sinopia: <http://sinopia.io/vocabulary/>\\n\\nSELECT ?s \\nWHERE { ?s sinopia:hasResourceTemplate \"ld4p:RT:bf2:WorkTitle\" . }'"
      ]
     },
     "execution_count": 23,
     "metadata": {},
     "output_type": "execute_result"
    }
   ],
   "source": [
    "sparql.format(template_id=\"ld4p:RT:bf2:WorkTitle\")"
   ]
  },
  {
   "cell_type": "code",
   "execution_count": 31,
   "metadata": {},
   "outputs": [],
   "source": [
    "def extract_templates(graph):\n",
    "    results = graph.query(sparql)\n",
    "    for row in results.bindings:\n",
    "        subject = str(row[rdflib.term.Variable('subject')])\n",
    "        template_id = str(row[rdflib.term.Variable('template')])\n",
    "        if not template_id in template_totals:\n",
    "            raise ValueError(f\"{template_id} not in list\")\n",
    "        template_totals[template_id].append(subject)"
   ]
  },
  {
   "cell_type": "code",
   "execution_count": 32,
   "metadata": {},
   "outputs": [],
   "source": [
    "for row in production['resources']:\n",
    "    get_templates(row.get('graph'))"
   ]
  },
  {
   "cell_type": "code",
   "execution_count": 33,
   "metadata": {},
   "outputs": [],
   "source": [
    "def process_env(environment):\n",
    "    start = datetime.datetime.utcnow()\n",
    "    print(f\"Started process at {start}\")\n",
    "    for i,row in enumerate(environment['resources']):\n",
    "        extract_templates(row.get('graph'))\n",
    "        extract_authorities(row.get('graph'))\n",
    "        if not i%10:\n",
    "            print(\".\", end=\"\")\n",
    "        if not i%100:\n",
    "            print(f\"{i}\", end=\"\")\n",
    "    end = datetime.datetime.utcnow()\n",
    "    print(f\"Finished at {end}, total time {(end-start)/60.} minutes for {i}\")"
   ]
  },
  {
   "cell_type": "code",
   "execution_count": 41,
   "metadata": {
    "collapsed": true,
    "jupyter": {
     "outputs_hidden": true
    }
   },
   "outputs": [
    {
     "name": "stdout",
     "output_type": "stream",
     "text": [
      "UCSD:RT:BF2:NotatedMusic:Work:Un-nested 10\n",
      "Yale:RT:BF2:Monograph:Instance:CtY-BR 104\n",
      "WAU:RT:BF2:BFLC:AdminMetadata:Status 1\n",
      "WAU:RT:RDA:Manifestation:monograph 107\n",
      "ld4p:RT:bf2:WorkTitle 1\n",
      "UAL:resourceTemplate:bf2:Monograph:Instance 2\n",
      "sinopia:resourceTemplate:schema:Book 1\n",
      "harvard:RT:bf2:RareMat:item:unnested 6\n",
      "WAU:RT:RDA:Expression:eBook 4\n",
      "ld4p:RT:bf2:RareMat:Item 1\n",
      "WAU:RT:RDA:Expression:soundRecording 2\n",
      "WAU:RT:RDA:Manifestation:graphic 2\n",
      "UChicago:RT:bf2:Monograph:Work 32\n",
      "ld4p:RT:bf2:Serial:Work:Un-nested 21\n",
      "Yale:RT:BF2:Monograph:SuperWork:CtY-BR 103\n",
      "CornellSinatra45:Instance 24\n",
      "ld4p:RT:bf2:NotatedMusic:Instance:Un-nested 2\n",
      "Yale:RT:BF2:Event:CtY 2\n",
      "UCSD:RT:BF2:Monograph:Work:Un-nested 1\n",
      "WAU:RT:RDA:Work:soundRecording 3\n",
      "WAU:RT:RDA:Expression:etd 11\n",
      "Yale:RT:BF2:Monograph:Instance:CtY 123\n",
      "PMO:RT:bf2:SoundRecording:Work 1\n",
      "Yale:RT:BF2:Monograph:Item-CtY:Nested:BoundWith 2\n",
      "UMN:RT:bf2:Monograph:Instance:Un-nested 10\n",
      "ld4p:RT:bf2:Serial:Instance:Un-nested 16\n",
      "Yale:RT:BF2:Monograph:Work:CtY 124\n",
      "WAU:RT:RDA:Work:eSerial 2\n",
      "UChicago:RT:bf2:Monograph:Instance 25\n",
      "WAU:RT:RDA:Manifestation:eSerial 1\n",
      "WAU:RT:RDA:Expression:graphic 2\n",
      "ld4p:RT:bf2:Cartographic:Work 1\n",
      "WAU:RT:RDA:Work:dvdVideo 3\n",
      "sinopia:resourceTemplate:bf2:Agent:bfPerson 1\n",
      "UCSD:RT:BF2:NotatedMusicOnline:Instance_OpenAccess:Un-nested 10\n",
      "WAU:RT:RDA:Work:graphic 2\n",
      "Yale:RT:BF2:Monograph:Item-CtY 99\n",
      "WAU:RT:RDA:Work:eBook 5\n",
      "ld4p:RT:bf2:Monograph:Instance 20\n",
      "UAL:resourceTemplate:bf2:Monograph:Item:Un-Nested 72\n",
      "sinopia:resourceTemplate:bf2:Agents:Addresses:Extended 1\n",
      "WAU:RT:RDA:Manifestation:map 5\n",
      "ld4p:RT:bf2:Serial:Instance 1\n",
      "WAU:RT:RDA:Item:dvdVideo 1\n",
      "WAU:RT:RDA:Expression:dvdVideo 3\n",
      "sinopia:resourceTemplate:bf2:Identifiers:Copyright 5\n",
      "sinopia:resourceTemplate:bf2:Item:Access 1\n",
      "Yale:RT:BF2:Monograph:Item-CtY-BR 101\n",
      "WAU:RT:RDA:Manifestation:soundRecording 2\n",
      "UChicago:RT:bf2:Monograph:Item 5\n",
      "UMN:RT:bf2:Monograph:Item:Un-nested 10\n",
      "ld4p:RT:bf2:Monograph:Item:Un-nested 64\n",
      "Yale:RT:ARM:BoundWith:CtY-BR 1\n",
      "stanford:RT:BF2:AdminMetadata 35\n",
      "WAU:RT:RDA:Manifestation:eBook 6\n",
      "Yale:RT:ARM:Enclosure:CtY 14\n",
      "WAU:RT:RDA:Manifestation:dvdVideo 3\n",
      "UAL:resourceTemplate:bf2:Monograph:Work:Un-Nested 73\n",
      "UAL:resourceTemplate:bf2:Serial:Item 3\n",
      "harvard:RT:bf2:RareMat:Work:unnested 6\n",
      "UAL:resourceTemplate:bf2:Serial:Work 6\n",
      "WAU:RT:RDA:Work:eMap 1\n",
      "Yale:RT:BF2:Series:Work 1\n",
      "CornellSinatra45:Work 24\n",
      "WAU:RT:RDA:Item:soundRecording 1\n",
      "WAU:RT:RDA:Manifestation:etd 11\n",
      "ld4p:RT:bf2:Cartographic:Instance 1\n",
      "sinopia:resourceTemplate:schema:Thing 1\n",
      "UAL:resourceTemplate:bf2:Monograph:Work 19\n",
      "PMO:RT:bf2:SoundRecording:Instance 1\n",
      "Yale:RT:ARM:BoundWith:CtY 2\n",
      "ld4p:RT:bf2:NotatedMusic:Work:Un-nested 3\n",
      "nlm:RT:bf2:AdminMetadata 198\n",
      "ld4p:RT:bf2:Monograph:Work:Un-nested 208\n",
      "UAL:resourceTemplate:bf2:Monograph:Opus:Un-Nested 72\n",
      "sinopia:resourceTemplate:bf2:Agents:RelatedAgents 1\n",
      "harvard:RT:bf2:RareMat:Instance:unnested 6\n",
      "WAU:RT:RDA:Expression:eSerial 2\n",
      "WAU:RT:RDA:Expression:eGraphic 1\n",
      "WAU:RT:RDA:Expression:map 4\n",
      "WAU:RT:RDA:Expression:monograph 112\n",
      "UCSD:RT:BF2:Monograph:Instance_OpenAccess:Un-nested 1\n",
      "ld4p:RT:bf2:RareMat:Work 6\n",
      "WAU:RT:RDA:Manifestation:serial 3\n",
      "ld4p:RT:bf2:AdminMetadata 1\n",
      "ld4p:RT:bf2:Monograph:Work 48\n",
      "UAL:resourceTemplate:bf2:Serial:Instance 4\n",
      "UCSD:RT:BF2:Monograph:Item_OpenAccess_UnNested 11\n",
      "WAU:RT:RDA:experimentalProfile:Work 2\n",
      "WAU:RT:RDA:Work:eGraphic 2\n",
      "WAU:RT:RDA:Expression:serial 2\n",
      "UAL:resourceTemplate:bf2:Serial:Opus:Un-Nested 9\n",
      "WAU:RT:RDA:Work:etd 12\n",
      "ld4p:RT:bf2:Serial:Work 3\n",
      "Yale:RT:BF2:Monograph:SuperWork:CtY 122\n",
      "Yale:RT:BF2:Monograph:Work:CtY-BR 102\n",
      "UAL:resourceTemplate:bf2:Monograph:Instance:Un-Nested 68\n",
      "WAU:RT:BF2:BFLC:AdminMetadata 2\n",
      "WAU:RT:RDA:Manifestation:eGraphic 1\n",
      "Yale:RT:BF2:Series:Work:CtY-BR 3\n",
      "WAU:RT:RDA:Item:map 4\n",
      "Yale:RT:ARM:Enclosure:Item:CtY 1\n",
      "UAL:resourceTemplate:bf2:Monograph:Opus 3\n",
      "WAU:RT:RDA:Item:graphic 1\n",
      "WAU:RT:RDA:Work:monograph 110\n",
      "Penn:RT:bf2:AdminMetadata 1\n",
      "WAU:RT:RDA:Item:serial 1\n",
      "Yale:RT:BF2:Series:Work:CtY 5\n",
      "ld4p:RT:bf2:Monograph:Instance:Un-nested 207\n",
      "WAU:RT:RDA:Work:serial 4\n",
      "sinopia:resourceTemplate:bf2:WorkVariantTitle 1\n",
      "ld4p:RT:bf2:Monograph:Item 1\n",
      "UMN:RT:BF2:AdminMetadata 2\n",
      "WAU:RT:RDA:Work:map 3\n",
      "WAU:RT:RDA:Item:monograph 110\n",
      "Yale:RT:ARM:Enclosure:CtY-BR 2\n",
      "Yale:RT:BF2:Monograph:Item-CtY-BR:Nested:BoundWith 4\n"
     ]
    }
   ],
   "source": [
    "with open(\"production-templates.csv\", \"w\") as fo:\n",
    "    templates_writer = csv.writer(fo)\n",
    "    templates_writer.writerow(['template', 'count'])\n",
    "    for key, value in template_totals.items():\n",
    "        if len(value) > 0:\n",
    "            templates_writer.writerow([key, len(value)])\n",
    "            print(f\"{key} {len(value)}\")"
   ]
  },
  {
   "cell_type": "markdown",
   "metadata": {},
   "source": [
    "## Number of Referenced Authorities in Templates"
   ]
  },
  {
   "cell_type": "code",
   "execution_count": 44,
   "metadata": {},
   "outputs": [],
   "source": [
    "authority_sparql = \"\"\"PREFIX sinopia: <http://sinopia.io/vocabulary/>\n",
    "\n",
    "SELECT ?subject ?authority\n",
    "WHERE {{ ?subject sinopia:hasAuthority ?authority . }}\"\"\"\n",
    "\n",
    "existing_authorities_request = requests.get('https://raw.githubusercontent.com/LD4P/sinopia_editor/master/static/authorityConfig.json')\n",
    "\n",
    "existing_authorities = dict()\n",
    "depreciated_authorites = dict()\n",
    "\n",
    "for row in existing_authorities_request.json():\n",
    "    existing_authorities[row['uri']] = []"
   ]
  },
  {
   "cell_type": "code",
   "execution_count": 46,
   "metadata": {},
   "outputs": [
    {
     "name": "stdout",
     "output_type": "stream",
     "text": [
      "[]\n"
     ]
    }
   ],
   "source": [
    "query_result = production['resources'][23]['graph'].query(authority_sparql)\n",
    "print(query_result.bindings)"
   ]
  },
  {
   "cell_type": "code",
   "execution_count": 47,
   "metadata": {},
   "outputs": [],
   "source": [
    "def extract_authority(graph):\n",
    "    result = graph.query(authority_sparql)\n",
    "    for row in result.bindings:\n",
    "        authority = str(row[rdflib.term.Variable('authority')])\n",
    "        subject = str(row[rdflib.term.Variable('subject')])\n",
    "        if not authority in existing_authorities:\n",
    "            if authority in depreciated_authorites:\n",
    "                depreciated_authorites[authority].append(subject)\n",
    "            else:\n",
    "                depreciated_authorites[authority] = [subject,]\n",
    "        else:\n",
    "            existing_authorities[authority].append(subject)\n",
    "        "
   ]
  },
  {
   "cell_type": "code",
   "execution_count": 53,
   "metadata": {},
   "outputs": [],
   "source": [
    "for row in production['templates']:\n",
    "    extract_authority(row.get('graph'))"
   ]
  },
  {
   "cell_type": "code",
   "execution_count": 54,
   "metadata": {},
   "outputs": [
    {
     "name": "stdout",
     "output_type": "stream",
     "text": [
      "urn:ld4p:sinopia 2013\n",
      "urn:ld4p:sinopia:bibframe:instance 11\n",
      "urn:ld4p:sinopia:bibframe:work 10\n",
      "urn:ld4p:sinopia:resourceTemplate 1\n",
      "urn:ld4p:qa:cerl:person 4\n",
      "urn:ld4p:qa:cerl:corporate 4\n",
      "urn:ld4p:qa:cerl:imprint 6\n",
      "urn:ld4p:qa:dbpedia 32\n",
      "urn:discogs 1\n",
      "urn:ld4p:qa:geonames 5\n",
      "urn:ld4p:qa:geonames:place 1\n",
      "urn:ld4p:qa:geonames:area_and_place 40\n",
      "urn:ld4p:qa:gettyaat 11\n",
      "urn:ld4p:qa:gettyaat:Materials 1\n",
      "urn:ld4p:qa:gettyaat:Materials__Materials 2\n",
      "urn:ld4p:qa:gettyaat:Objects 12\n",
      "urn:ld4p:qa:gettyaat:Objects__Components 12\n",
      "urn:ld4p:qa:gettyaat:Objects__Object_Genres 7\n",
      "urn:ld4p:qa:gettyaat:Physical_Attributes__Conditions_and_Effects 1\n",
      "urn:ld4p:qa:isni 21\n",
      "urn:ld4p:qa:ligatus 3\n",
      "urn:ld4p:qa:demographics 34\n",
      "urn:ld4p:qa:performance 14\n",
      "urn:ld4p:qa:genres 52\n",
      "urn:ld4p:qa:genres:active 2\n",
      "urn:ld4p:qa:names 291\n",
      "urn:ld4p:qa:names:person 409\n",
      "urn:ld4p:qa:names:organization 245\n",
      "urn:ld4p:qa:names:family 29\n",
      "urn:ld4p:qa:names:geographic 74\n",
      "urn:ld4p:qa:names:conference 14\n",
      "urn:ld4p:qa:subjects 141\n",
      "urn:ld4p:qa:mesh:subject 21\n",
      "urn:ld4p:qa:mesh:publication_type 4\n",
      "urn:ld4p:qa:fast 5\n",
      "urn:ld4p:qa:fast:event 4\n",
      "urn:ld4p:qa:fast:place 1\n",
      "urn:ld4p:qa:fast:work 34\n",
      "urn:ld4p:qa:oclc_fast:topic 5\n",
      "urn:ld4p:qa:oclc_fast:geographic 11\n",
      "urn:ld4p:qa:oclc_fast:event_name 1\n",
      "urn:ld4p:qa:oclc_fast:form 5\n",
      "urn:ld4p:qa:rda_registry_ld4l_cache:aspect_ratio 1\n",
      "urn:ld4p:qa:rda_registry_ld4l_cache:bibliographic_format 5\n",
      "urn:ld4p:qa:rda_registry_ld4l_cache:broadcast_standard 1\n",
      "urn:ld4p:qa:rda_registry_ld4l_cache:carrier_type 11\n",
      "urn:ld4p:qa:rda_registry_ld4l_cache:colour_content 8\n",
      "urn:ld4p:qa:rda_registry_ld4l_cache:config_playback_channels 2\n",
      "urn:ld4p:qa:rda_registry_ld4l_cache:content_type 11\n",
      "urn:ld4p:qa:rda_registry_ld4l_cache:file_type 7\n",
      "urn:ld4p:qa:rda_registry_ld4l_cache:font_size 4\n",
      "urn:ld4p:qa:rda_registry_ld4l_cache:form_of_tactile_notation 3\n",
      "urn:ld4p:qa:rda_registry_ld4l_cache:generation 4\n",
      "urn:ld4p:qa:rda_registry_ld4l_cache:groove_pitch 1\n",
      "urn:ld4p:qa:rda_registry_ld4l_cache:groove_width 1\n",
      "urn:ld4p:qa:rda_registry_ld4l_cache:layout 1\n",
      "urn:ld4p:qa:rda_registry_ld4l_cache:material 9\n",
      "urn:ld4p:qa:rda_registry_ld4l_cache:media_type 11\n",
      "urn:ld4p:qa:rda_registry_ld4l_cache:mode_of_issuance 11\n",
      "urn:ld4p:qa:rda_registry_ld4l_cache:polarity 2\n",
      "urn:ld4p:qa:rda_registry_ld4l_cache:presentation_format 1\n",
      "urn:ld4p:qa:rda_registry_ld4l_cache:production_method 10\n",
      "urn:ld4p:qa:rda_registry_ld4l_cache:recording_medium 2\n",
      "urn:ld4p:qa:rda_registry_ld4l_cache:regional_encoding 1\n",
      "urn:ld4p:qa:rda_registry_ld4l_cache:scale_designation 2\n",
      "urn:ld4p:qa:rda_registry_ld4l_cache:special_playback 1\n",
      "urn:ld4p:qa:rda_registry_ld4l_cache:track_config 1\n",
      "urn:ld4p:qa:rda_registry_ld4l_cache:type_of_recording 2\n",
      "urn:ld4p:qa:rda_registry_ld4l_cache:video_format 1\n",
      "urn:ld4p:qa:sharevde_alberta_ld4l_cache:all 1\n",
      "urn:ld4p:qa:sharevde_alberta_ld4l_cache:work 5\n",
      "urn:ld4p:qa:sharevde_alberta_ld4l_cache:instance 1\n",
      "urn:ld4p:qa:sharevde_chicago_ld4l_cache:work 6\n",
      "urn:ld4p:qa:sharevde_chicago_ld4l_cache:instance 1\n",
      "urn:ld4p:qa:sharevde_cornell_ld4l_cache:work 5\n",
      "urn:ld4p:qa:sharevde_cornell_ld4l_cache:instance 1\n",
      "urn:ld4p:qa:sharevde_cuboulder_ld4l_cache:work 6\n",
      "urn:ld4p:qa:sharevde_cuboulder_ld4l_cache:instance 1\n",
      "urn:ld4p:qa:sharevde_duke_ld4l_cache:work 6\n",
      "urn:ld4p:qa:sharevde_duke_ld4l_cache:instance 1\n",
      "urn:ld4p:qa:sharevde_frick_ld4l_cache:work 6\n",
      "urn:ld4p:qa:sharevde_frick_ld4l_cache:instance 1\n",
      "urn:ld4p:qa:sharevde_harryransom_ld4l_cache:work 6\n",
      "urn:ld4p:qa:sharevde_harryransom_ld4l_cache:instance 2\n",
      "urn:ld4p:qa:sharevde_harvard_ld4l_cache:work 6\n",
      "urn:ld4p:qa:sharevde_harvard_ld4l_cache:instance 1\n",
      "urn:ld4p:qa:sharevde_michigan_ld4l_cache:work 6\n",
      "urn:ld4p:qa:sharevde_michigan_ld4l_cache:instance 1\n",
      "urn:ld4p:qa:sharevde_minnesota_ld4l_cache:work 6\n",
      "urn:ld4p:qa:sharevde_minnesota_ld4l_cache:instance 1\n",
      "urn:ld4p:qa:sharevde_nlm_ld4l_cache:work 6\n",
      "urn:ld4p:qa:sharevde_nlm_ld4l_cache:instance 1\n",
      "urn:ld4p:qa:sharevde_northwestern_ld4l_cache:work 6\n",
      "urn:ld4p:qa:sharevde_northwestern_ld4l_cache:instance 1\n",
      "urn:ld4p:qa:sharevde_princeton_ld4l_cache:work 6\n",
      "urn:ld4p:qa:sharevde_princeton_ld4l_cache:instance 1\n",
      "urn:ld4p:qa:sharevde_stanford_ld4l_cache:work 5\n",
      "urn:ld4p:qa:sharevde_stanford_ld4l_cache:instance 1\n",
      "urn:ld4p:qa:sharevde_texasam_ld4l_cache:work 6\n",
      "urn:ld4p:qa:sharevde_texasam_ld4l_cache:instance 1\n",
      "urn:ld4p:qa:sharevde_ucdavis_ld4l_cache:work 6\n",
      "urn:ld4p:qa:sharevde_ucdavis_ld4l_cache:instance 1\n",
      "urn:ld4p:qa:sharevde_ucsd_ld4l_cache:work 5\n",
      "urn:ld4p:qa:sharevde_ucsd_ld4l_cache:instance 1\n",
      "urn:ld4p:qa:sharevde_upenn_ld4l_cache:work 5\n",
      "urn:ld4p:qa:sharevde_upenn_ld4l_cache:instance 1\n",
      "urn:ld4p:qa:sharevde_uwashington_ld4l_cache:work 6\n",
      "urn:ld4p:qa:sharevde_uwashington_ld4l_cache:instance 1\n",
      "urn:ld4p:qa:sharevde_yale_ld4l_cache:work 6\n",
      "urn:ld4p:qa:sharevde_yale_ld4l_cache:instance 1\n",
      "urn:wikidata 33\n",
      "https://id.loc.gov/vocabulary/relators 30\n",
      "https://id.loc.gov/vocabulary/carriers 22\n",
      "https://id.loc.gov/vocabulary/classSchemes 1\n",
      "https://id.loc.gov/vocabulary/mcolor 17\n",
      "https://id.loc.gov/vocabulary/contentTypes 21\n",
      "https://id.loc.gov/vocabulary/marcauthen 12\n",
      "https://id.loc.gov/vocabulary/descriptionConventions 16\n",
      "https://id.loc.gov/vocabulary/menclvl 16\n",
      "https://id.loc.gov/vocabulary/millus 26\n",
      "https://id.loc.gov/vocabulary/maudience 18\n",
      "https://id.loc.gov/vocabulary/languages 44\n",
      "https://id.loc.gov/vocabulary/mediaTypes 22\n",
      "https://id.loc.gov/vocabulary/issuance 22\n",
      "https://id.loc.gov/vocabulary/mmaterial 10\n",
      "https://id.loc.gov/vocabulary/mbroadstd 1\n",
      "https://id.loc.gov/vocabulary/organizations 3\n",
      "https://id.loc.gov/vocabulary/mfiletype 2\n",
      "https://id.loc.gov/vocabulary/mmusnotation 3\n",
      "https://id.loc.gov/vocabulary/mmusicformat 3\n",
      "https://id.loc.gov/vocabulary/frequencies 1\n",
      "https://id.loc.gov/vocabulary/genreFormSchemes 2\n",
      "https://id.loc.gov/vocabulary/mgroove 1\n",
      "https://id.loc.gov/vocabulary/mlayout 1\n",
      "https://id.loc.gov/vocabulary/mplayback 2\n",
      "https://id.loc.gov/vocabulary/mpolarity 1\n",
      "https://id.loc.gov/vocabulary/mprojection 3\n",
      "https://id.loc.gov/vocabulary/mproduction 5\n",
      "https://id.loc.gov/vocabulary/mrecmedium 2\n",
      "https://id.loc.gov/vocabulary/mregencoding 1\n",
      "https://id.loc.gov/vocabulary/mrelief 3\n",
      "https://id.loc.gov/vocabulary/mscale 1\n",
      "https://id.loc.gov/vocabulary/msoundcontent 1\n",
      "https://id.loc.gov/vocabulary/mstatus 4\n",
      "https://id.loc.gov/vocabulary/mrectype 2\n"
     ]
    }
   ],
   "source": [
    "for key, value in existing_authorities.items():\n",
    "    if len(value) > 0:\n",
    "        print(key, len(value))"
   ]
  },
  {
   "cell_type": "code",
   "execution_count": 58,
   "metadata": {},
   "outputs": [
    {
     "name": "stdout",
     "output_type": "stream",
     "text": [
      "urn:ld4p:sinopia 2013\n",
      "urn:ld4p:sinopia:bibframe:instance 11\n",
      "urn:ld4p:sinopia:bibframe:work 10\n",
      "urn:ld4p:sinopia:resourceTemplate 1\n",
      "urn:ld4p:qa:cerl:person 4\n",
      "urn:ld4p:qa:cerl:corporate 4\n",
      "urn:ld4p:qa:cerl:imprint 6\n",
      "urn:ld4p:qa:dbpedia 32\n",
      "urn:discogs 1\n",
      "urn:ld4p:qa:geonames 5\n",
      "urn:ld4p:qa:geonames:place 1\n",
      "urn:ld4p:qa:geonames:area_and_place 40\n",
      "urn:ld4p:qa:gettyaat 11\n",
      "urn:ld4p:qa:gettyaat:Materials 1\n",
      "urn:ld4p:qa:gettyaat:Materials__Materials 2\n",
      "urn:ld4p:qa:gettyaat:Objects 12\n",
      "urn:ld4p:qa:gettyaat:Objects__Components 12\n",
      "urn:ld4p:qa:gettyaat:Objects__Object_Genres 7\n",
      "urn:ld4p:qa:gettyaat:Physical_Attributes__Conditions_and_Effects 1\n",
      "urn:ld4p:qa:isni 21\n",
      "urn:ld4p:qa:ligatus 3\n",
      "urn:ld4p:qa:demographics 34\n",
      "urn:ld4p:qa:performance 14\n",
      "urn:ld4p:qa:genres 52\n",
      "urn:ld4p:qa:genres:active 2\n",
      "urn:ld4p:qa:names 291\n",
      "urn:ld4p:qa:names:person 409\n",
      "urn:ld4p:qa:names:organization 245\n",
      "urn:ld4p:qa:names:family 29\n",
      "urn:ld4p:qa:names:geographic 74\n",
      "urn:ld4p:qa:names:conference 14\n",
      "urn:ld4p:qa:subjects 141\n",
      "urn:ld4p:qa:mesh:subject 21\n",
      "urn:ld4p:qa:mesh:publication_type 4\n",
      "urn:ld4p:qa:fast 5\n",
      "urn:ld4p:qa:fast:event 4\n",
      "urn:ld4p:qa:fast:place 1\n",
      "urn:ld4p:qa:fast:work 34\n",
      "urn:ld4p:qa:oclc_fast:topic 5\n",
      "urn:ld4p:qa:oclc_fast:geographic 11\n",
      "urn:ld4p:qa:oclc_fast:event_name 1\n",
      "urn:ld4p:qa:oclc_fast:form 5\n",
      "urn:ld4p:qa:rda_registry_ld4l_cache:aspect_ratio 1\n",
      "urn:ld4p:qa:rda_registry_ld4l_cache:bibliographic_format 5\n",
      "urn:ld4p:qa:rda_registry_ld4l_cache:broadcast_standard 1\n",
      "urn:ld4p:qa:rda_registry_ld4l_cache:carrier_type 11\n",
      "urn:ld4p:qa:rda_registry_ld4l_cache:colour_content 8\n",
      "urn:ld4p:qa:rda_registry_ld4l_cache:config_playback_channels 2\n",
      "urn:ld4p:qa:rda_registry_ld4l_cache:content_type 11\n",
      "urn:ld4p:qa:rda_registry_ld4l_cache:file_type 7\n",
      "urn:ld4p:qa:rda_registry_ld4l_cache:font_size 4\n",
      "urn:ld4p:qa:rda_registry_ld4l_cache:form_of_tactile_notation 3\n",
      "urn:ld4p:qa:rda_registry_ld4l_cache:generation 4\n",
      "urn:ld4p:qa:rda_registry_ld4l_cache:groove_pitch 1\n",
      "urn:ld4p:qa:rda_registry_ld4l_cache:groove_width 1\n",
      "urn:ld4p:qa:rda_registry_ld4l_cache:layout 1\n",
      "urn:ld4p:qa:rda_registry_ld4l_cache:material 9\n",
      "urn:ld4p:qa:rda_registry_ld4l_cache:media_type 11\n",
      "urn:ld4p:qa:rda_registry_ld4l_cache:mode_of_issuance 11\n",
      "urn:ld4p:qa:rda_registry_ld4l_cache:polarity 2\n",
      "urn:ld4p:qa:rda_registry_ld4l_cache:presentation_format 1\n",
      "urn:ld4p:qa:rda_registry_ld4l_cache:production_method 10\n",
      "urn:ld4p:qa:rda_registry_ld4l_cache:recording_medium 2\n",
      "urn:ld4p:qa:rda_registry_ld4l_cache:regional_encoding 1\n",
      "urn:ld4p:qa:rda_registry_ld4l_cache:scale_designation 2\n",
      "urn:ld4p:qa:rda_registry_ld4l_cache:special_playback 1\n",
      "urn:ld4p:qa:rda_registry_ld4l_cache:track_config 1\n",
      "urn:ld4p:qa:rda_registry_ld4l_cache:type_of_recording 2\n",
      "urn:ld4p:qa:rda_registry_ld4l_cache:video_format 1\n",
      "urn:ld4p:qa:sharevde_alberta_ld4l_cache:all 1\n",
      "urn:ld4p:qa:sharevde_alberta_ld4l_cache:work 5\n",
      "urn:ld4p:qa:sharevde_alberta_ld4l_cache:instance 1\n",
      "urn:ld4p:qa:sharevde_chicago_ld4l_cache:work 6\n",
      "urn:ld4p:qa:sharevde_chicago_ld4l_cache:instance 1\n",
      "urn:ld4p:qa:sharevde_cornell_ld4l_cache:work 5\n",
      "urn:ld4p:qa:sharevde_cornell_ld4l_cache:instance 1\n",
      "urn:ld4p:qa:sharevde_cuboulder_ld4l_cache:work 6\n",
      "urn:ld4p:qa:sharevde_cuboulder_ld4l_cache:instance 1\n",
      "urn:ld4p:qa:sharevde_duke_ld4l_cache:work 6\n",
      "urn:ld4p:qa:sharevde_duke_ld4l_cache:instance 1\n",
      "urn:ld4p:qa:sharevde_frick_ld4l_cache:work 6\n",
      "urn:ld4p:qa:sharevde_frick_ld4l_cache:instance 1\n",
      "urn:ld4p:qa:sharevde_harryransom_ld4l_cache:work 6\n",
      "urn:ld4p:qa:sharevde_harryransom_ld4l_cache:instance 2\n",
      "urn:ld4p:qa:sharevde_harvard_ld4l_cache:work 6\n",
      "urn:ld4p:qa:sharevde_harvard_ld4l_cache:instance 1\n",
      "urn:ld4p:qa:sharevde_michigan_ld4l_cache:work 6\n",
      "urn:ld4p:qa:sharevde_michigan_ld4l_cache:instance 1\n",
      "urn:ld4p:qa:sharevde_minnesota_ld4l_cache:work 6\n",
      "urn:ld4p:qa:sharevde_minnesota_ld4l_cache:instance 1\n",
      "urn:ld4p:qa:sharevde_nlm_ld4l_cache:work 6\n",
      "urn:ld4p:qa:sharevde_nlm_ld4l_cache:instance 1\n",
      "urn:ld4p:qa:sharevde_northwestern_ld4l_cache:work 6\n",
      "urn:ld4p:qa:sharevde_northwestern_ld4l_cache:instance 1\n",
      "urn:ld4p:qa:sharevde_princeton_ld4l_cache:work 6\n",
      "urn:ld4p:qa:sharevde_princeton_ld4l_cache:instance 1\n",
      "urn:ld4p:qa:sharevde_stanford_ld4l_cache:work 5\n",
      "urn:ld4p:qa:sharevde_stanford_ld4l_cache:instance 1\n",
      "urn:ld4p:qa:sharevde_texasam_ld4l_cache:work 6\n",
      "urn:ld4p:qa:sharevde_texasam_ld4l_cache:instance 1\n",
      "urn:ld4p:qa:sharevde_ucdavis_ld4l_cache:work 6\n",
      "urn:ld4p:qa:sharevde_ucdavis_ld4l_cache:instance 1\n",
      "urn:ld4p:qa:sharevde_ucsd_ld4l_cache:work 5\n",
      "urn:ld4p:qa:sharevde_ucsd_ld4l_cache:instance 1\n",
      "urn:ld4p:qa:sharevde_upenn_ld4l_cache:work 5\n",
      "urn:ld4p:qa:sharevde_upenn_ld4l_cache:instance 1\n",
      "urn:ld4p:qa:sharevde_uwashington_ld4l_cache:work 6\n",
      "urn:ld4p:qa:sharevde_uwashington_ld4l_cache:instance 1\n",
      "urn:ld4p:qa:sharevde_yale_ld4l_cache:work 6\n",
      "urn:ld4p:qa:sharevde_yale_ld4l_cache:instance 1\n",
      "urn:wikidata 33\n",
      "https://id.loc.gov/vocabulary/relators 30\n",
      "https://id.loc.gov/vocabulary/carriers 22\n",
      "https://id.loc.gov/vocabulary/classSchemes 1\n",
      "https://id.loc.gov/vocabulary/mcolor 17\n",
      "https://id.loc.gov/vocabulary/contentTypes 21\n",
      "https://id.loc.gov/vocabulary/marcauthen 12\n",
      "https://id.loc.gov/vocabulary/descriptionConventions 16\n",
      "https://id.loc.gov/vocabulary/menclvl 16\n",
      "https://id.loc.gov/vocabulary/millus 26\n",
      "https://id.loc.gov/vocabulary/maudience 18\n",
      "https://id.loc.gov/vocabulary/languages 44\n",
      "https://id.loc.gov/vocabulary/mediaTypes 22\n",
      "https://id.loc.gov/vocabulary/issuance 22\n",
      "https://id.loc.gov/vocabulary/mmaterial 10\n",
      "https://id.loc.gov/vocabulary/mbroadstd 1\n",
      "https://id.loc.gov/vocabulary/organizations 3\n",
      "https://id.loc.gov/vocabulary/mfiletype 2\n",
      "https://id.loc.gov/vocabulary/mmusnotation 3\n",
      "https://id.loc.gov/vocabulary/mmusicformat 3\n",
      "https://id.loc.gov/vocabulary/frequencies 1\n",
      "https://id.loc.gov/vocabulary/genreFormSchemes 2\n",
      "https://id.loc.gov/vocabulary/mgroove 1\n",
      "https://id.loc.gov/vocabulary/mlayout 1\n",
      "https://id.loc.gov/vocabulary/mplayback 2\n",
      "https://id.loc.gov/vocabulary/mpolarity 1\n",
      "https://id.loc.gov/vocabulary/mprojection 3\n",
      "https://id.loc.gov/vocabulary/mproduction 5\n",
      "https://id.loc.gov/vocabulary/mrecmedium 2\n",
      "https://id.loc.gov/vocabulary/mregencoding 1\n",
      "https://id.loc.gov/vocabulary/mrelief 3\n",
      "https://id.loc.gov/vocabulary/mscale 1\n",
      "https://id.loc.gov/vocabulary/msoundcontent 1\n",
      "https://id.loc.gov/vocabulary/mstatus 4\n",
      "https://id.loc.gov/vocabulary/mrectype 2\n"
     ]
    }
   ],
   "source": [
    "with open(\"production-templates-authorities.csv\", \"w\") as fo:\n",
    "    authorities_writer = csv.writer(fo)\n",
    "    authorities_writer.writerow(['authority', 'count'])\n",
    "    for key, value in existing_authorities.items():\n",
    "        if len(value) > 0:\n",
    "            authorities_writer.writerow([key, len(value)])\n",
    "            print(f\"{key} {len(value)}\")"
   ]
  },
  {
   "cell_type": "code",
   "execution_count": 59,
   "metadata": {},
   "outputs": [
    {
     "name": "stdout",
     "output_type": "stream",
     "text": [
      "file:///authorityConfig.json 1\n",
      "file:///propertyAttribute.json 1\n",
      "file:///propertyType.json 1\n",
      "urn:ld4p:qa:subjects:person 5\n",
      "http://mlvlp04.loc.gov:8230/resources/works 5\n",
      "http://id.loc.gov/vocabulary/mbroadstd 1\n",
      "http://id.loc.gov/vocabulary/organizations 3\n",
      "http://id.loc.gov/vocabulary/descriptionConventions 1\n",
      "http://id.loc.gov/vocabulary/languages 2\n",
      "http://id.loc.gov/vocabulary/mcapturestorage 1\n",
      "http://id.loc.gov/vocabulary/millus 2\n",
      "http://id.loc.gov/vocabulary/contentTypes 2\n",
      "http://id.loc.gov/vocabulary/mregencoding 1\n",
      "http://id.loc.gov/vocabulary/geographicAreas 1\n",
      "http://id.loc.gov/vocabulary/mrecmedium 1\n",
      "http://id.loc.gov/vocabulary/mplayback 1\n",
      "http://id.loc.gov/vocabulary/mstatus 4\n",
      "http://id.loc.gov/vocabulary/subjectSchemes 2\n",
      "https://id.loc.gov/authorities/performanceMediums 3\n",
      "urn:ld4p:qa:subjects:place 1\n",
      "urn:ld4p:qa:names:place 1\n",
      "http://id.loc.gov/vocabulary/mproduction 1\n",
      "http://id.loc.gov/vocabulary/maudience 1\n",
      "http://id.loc.gov/vocabulary/classSchemes 1\n",
      "http://id.loc.gov/vocabulary/mrectype 1\n",
      "http://id.loc.gov/vocabulary/mfiletype 1\n",
      "http://id.loc.gov/vocabulary/mspecplayback 1\n",
      "http://id.loc.gov/vocabulary/relators 1\n",
      "http://id.loc.gov/vocabulary/carriers 2\n",
      "http://id.loc.gov/vocabulary/mediaTypes 2\n",
      "http://id.loc.gov/vocabulary/issuance 2\n",
      "http://id.loc.gov/vocabulary/mpresformat 1\n",
      "http://id.loc.gov/vocabulary/msoundcontent 1\n"
     ]
    }
   ],
   "source": [
    "with open(\"production-templates-depreciated-authorities.csv\", \"w\") as fo:\n",
    "    dep_authorities_writer = csv.writer(fo)\n",
    "    dep_authorities_writer.writerow(['authority', 'count'])\n",
    "    for key, value in depreciated_authorites.items():\n",
    "        if len(value) > 0:\n",
    "            dep_authorities_writer .writerow([key, len(value)])\n",
    "            print(f\"{key} {len(value)}\")"
   ]
  },
  {
   "cell_type": "code",
   "execution_count": null,
   "metadata": {},
   "outputs": [],
   "source": []
  }
 ],
 "metadata": {
  "kernelspec": {
   "display_name": "Python 3",
   "language": "python",
   "name": "python3"
  },
  "language_info": {
   "codemirror_mode": {
    "name": "ipython",
    "version": 3
   },
   "file_extension": ".py",
   "mimetype": "text/x-python",
   "name": "python",
   "nbconvert_exporter": "python",
   "pygments_lexer": "ipython3",
   "version": "3.8.1"
  }
 },
 "nbformat": 4,
 "nbformat_minor": 4
}
